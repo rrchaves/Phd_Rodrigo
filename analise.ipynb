{
 "cells": [
  {
   "cell_type": "markdown",
   "metadata": {},
   "source": [
    "# Análise dos dados de irradiação e temperatura # "
   ]
  },
  {
   "cell_type": "markdown",
   "metadata": {},
   "source": [
    "<h> Criandoas importações necessárias para leitura dos dados <h>"
   ]
  },
  {
   "cell_type": "code",
   "execution_count": 2,
   "metadata": {},
   "outputs": [],
   "source": [
    "#libs para análise de dados\n",
    "import pandas as pd\n",
    "import numpy as np\n",
    "import tensorflow as tf \n",
    "\n",
    "#lib para modificar aquivos dos sistema\n",
    "import os\n",
    "\n",
    "#lib para descomplactar arquivo\n",
    "import zipfile\n",
    "\n",
    "#visualização de dados \n",
    "from matplotlib import pyplot as plt\n",
    "\n",
    "from bokeh.plotting import figure, show\n",
    "from bokeh.io import output_notebook\n",
    "from bokeh.models import HoverTool\n",
    "\n",
    "#preprocessamento dos dados\n",
    "from sklearn.preprocessing import MinMaxScaler\n",
    "from sklearn.model_selection import train_test_split\n"
   ]
  },
  {
   "cell_type": "markdown",
   "metadata": {},
   "source": [
    "<p>Listando os aquivos .zip<p>"
   ]
  },
  {
   "cell_type": "code",
   "execution_count": 3,
   "metadata": {},
   "outputs": [
    {
     "name": "stdout",
     "output_type": "stream",
     "text": [
      "['1000-20240626T154100Z-001.zip', '600-20240626T153855Z-001.zip', '700-20240626T153926Z-001.zip', '800-20240626T153948Z-001.zip', '900-20240626T154008Z-001.zip']\n"
     ]
    }
   ],
   "source": [
    "arquivos_f = [arquivo for arquivo in os.listdir('../dados curva iv') if arquivo.endswith('.zip')]\n",
    "print(arquivos_f)"
   ]
  },
  {
   "cell_type": "markdown",
   "metadata": {},
   "source": [
    "<p>Descompactado os dados .zip para os pasta dados<p>"
   ]
  },
  {
   "cell_type": "code",
   "execution_count": 4,
   "metadata": {},
   "outputs": [],
   "source": [
    "for arq in arquivos_f:\n",
    "    with zipfile.ZipFile(arq, 'r') as zip_ref:\n",
    "        zip_ref.extractall('DadosConsolidados')"
   ]
  },
  {
   "cell_type": "markdown",
   "metadata": {},
   "source": [
    "<p>Percorrendo as pastas e subpastas para encontrar os dados<p>"
   ]
  },
  {
   "cell_type": "code",
   "execution_count": 5,
   "metadata": {},
   "outputs": [],
   "source": [
    "pastas = os.listdir('./DadosConsolidados') # econtrando o nomes das pastas\n",
    "subpastas = os.listdir(f'./DadosConsolidados/{pastas[0]}') #encontrando os nomes das subspastas (como o nome é o mesmo para cada pasta so foi feito para o primeiro elemento)\n",
    "\n",
    "#lista de DataFrame\n",
    "df = []\n",
    "\n",
    "for pasta in pastas:\n",
    "    \n",
    "    for sub in subpastas:\n",
    "        dir = f'./DadosConsolidados/{pasta}/{sub}' #set diretorio\n",
    "        ordem = 1\n",
    "\n",
    "        for arquivo in os.listdir(dir):\n",
    "            if arquivo.endswith('.dat'):\n",
    "                \n",
    "                a = pd.read_csv(f'{dir}/{arquivo}', sep='\\t', encoding='latin-1')\n",
    "                a.columns=['Corrente(A)']\n",
    "                a.index.names =[\"Tensão(V)\"] \n",
    "                a['Irradiação'] = np.full(a.shape[0], int(pasta))\n",
    "                a['Temperatura'] = np.full(a.shape[0], int(sub))\n",
    "                a['Ocorrência'] = np.full(a.shape[0], ordem)\n",
    "\n",
    "                df.append(a)\n",
    "                ordem += 1\n",
    "                \n"
   ]
  },
  {
   "cell_type": "code",
   "execution_count": 6,
   "metadata": {},
   "outputs": [],
   "source": [
    "dff = pd.concat(df) # concatenado os dados em um único dataset"
   ]
  },
  {
   "cell_type": "code",
   "execution_count": 7,
   "metadata": {},
   "outputs": [
    {
     "data": {
      "text/html": [
       "<div>\n",
       "<style scoped>\n",
       "    .dataframe tbody tr th:only-of-type {\n",
       "        vertical-align: middle;\n",
       "    }\n",
       "\n",
       "    .dataframe tbody tr th {\n",
       "        vertical-align: top;\n",
       "    }\n",
       "\n",
       "    .dataframe thead th {\n",
       "        text-align: right;\n",
       "    }\n",
       "</style>\n",
       "<table border=\"1\" class=\"dataframe\">\n",
       "  <thead>\n",
       "    <tr style=\"text-align: right;\">\n",
       "      <th></th>\n",
       "      <th>Corrente(A)</th>\n",
       "      <th>Irradiação</th>\n",
       "      <th>Temperatura</th>\n",
       "      <th>Ocorrência</th>\n",
       "    </tr>\n",
       "    <tr>\n",
       "      <th>Tensão(V)</th>\n",
       "      <th></th>\n",
       "      <th></th>\n",
       "      <th></th>\n",
       "      <th></th>\n",
       "    </tr>\n",
       "  </thead>\n",
       "  <tbody>\n",
       "    <tr>\n",
       "      <th>0</th>\n",
       "      <td>0.0 -0.1004411</td>\n",
       "      <td>1000</td>\n",
       "      <td>25</td>\n",
       "      <td>1</td>\n",
       "    </tr>\n",
       "    <tr>\n",
       "      <th>1</th>\n",
       "      <td>0.01 -0.09958977</td>\n",
       "      <td>1000</td>\n",
       "      <td>25</td>\n",
       "      <td>1</td>\n",
       "    </tr>\n",
       "    <tr>\n",
       "      <th>2</th>\n",
       "      <td>0.02 -0.09955372</td>\n",
       "      <td>1000</td>\n",
       "      <td>25</td>\n",
       "      <td>1</td>\n",
       "    </tr>\n",
       "    <tr>\n",
       "      <th>3</th>\n",
       "      <td>0.03 -0.09991045</td>\n",
       "      <td>1000</td>\n",
       "      <td>25</td>\n",
       "      <td>1</td>\n",
       "    </tr>\n",
       "    <tr>\n",
       "      <th>4</th>\n",
       "      <td>0.04 -0.09930861</td>\n",
       "      <td>1000</td>\n",
       "      <td>25</td>\n",
       "      <td>1</td>\n",
       "    </tr>\n",
       "    <tr>\n",
       "      <th>...</th>\n",
       "      <td>...</td>\n",
       "      <td>...</td>\n",
       "      <td>...</td>\n",
       "      <td>...</td>\n",
       "    </tr>\n",
       "    <tr>\n",
       "      <th>0.6</th>\n",
       "      <td>0.08684</td>\n",
       "      <td>900</td>\n",
       "      <td>55</td>\n",
       "      <td>10</td>\n",
       "    </tr>\n",
       "    <tr>\n",
       "      <th>0.61</th>\n",
       "      <td>0.10893</td>\n",
       "      <td>900</td>\n",
       "      <td>55</td>\n",
       "      <td>10</td>\n",
       "    </tr>\n",
       "    <tr>\n",
       "      <th>0.62</th>\n",
       "      <td>0.1318</td>\n",
       "      <td>900</td>\n",
       "      <td>55</td>\n",
       "      <td>10</td>\n",
       "    </tr>\n",
       "    <tr>\n",
       "      <th>0.63</th>\n",
       "      <td>0.15554</td>\n",
       "      <td>900</td>\n",
       "      <td>55</td>\n",
       "      <td>10</td>\n",
       "    </tr>\n",
       "    <tr>\n",
       "      <th>0.64</th>\n",
       "      <td>0.18037</td>\n",
       "      <td>900</td>\n",
       "      <td>55</td>\n",
       "      <td>10</td>\n",
       "    </tr>\n",
       "  </tbody>\n",
       "</table>\n",
       "<p>22751 rows × 4 columns</p>\n",
       "</div>"
      ],
      "text/plain": [
       "                Corrente(A)  Irradiação  Temperatura  Ocorrência\n",
       "Tensão(V)                                                       \n",
       "0            0.0 -0.1004411        1000           25           1\n",
       "1          0.01 -0.09958977        1000           25           1\n",
       "2          0.02 -0.09955372        1000           25           1\n",
       "3          0.03 -0.09991045        1000           25           1\n",
       "4          0.04 -0.09930861        1000           25           1\n",
       "...                     ...         ...          ...         ...\n",
       "0.6                 0.08684         900           55          10\n",
       "0.61                0.10893         900           55          10\n",
       "0.62                 0.1318         900           55          10\n",
       "0.63                0.15554         900           55          10\n",
       "0.64                0.18037         900           55          10\n",
       "\n",
       "[22751 rows x 4 columns]"
      ]
     },
     "execution_count": 7,
     "metadata": {},
     "output_type": "execute_result"
    }
   ],
   "source": [
    "dff"
   ]
  },
  {
   "cell_type": "markdown",
   "metadata": {},
   "source": [
    "<p>Corrigindo os dados de tensão de todo o dataset, por que os dados estão sendo usados como index"
   ]
  },
  {
   "cell_type": "code",
   "execution_count": 8,
   "metadata": {},
   "outputs": [],
   "source": [
    "dff.reset_index(inplace=True) #resetando o index"
   ]
  },
  {
   "cell_type": "code",
   "execution_count": 9,
   "metadata": {},
   "outputs": [
    {
     "data": {
      "text/html": [
       "<div>\n",
       "<style scoped>\n",
       "    .dataframe tbody tr th:only-of-type {\n",
       "        vertical-align: middle;\n",
       "    }\n",
       "\n",
       "    .dataframe tbody tr th {\n",
       "        vertical-align: top;\n",
       "    }\n",
       "\n",
       "    .dataframe thead th {\n",
       "        text-align: right;\n",
       "    }\n",
       "</style>\n",
       "<table border=\"1\" class=\"dataframe\">\n",
       "  <thead>\n",
       "    <tr style=\"text-align: right;\">\n",
       "      <th></th>\n",
       "      <th>Tensão(V)</th>\n",
       "      <th>Corrente(A)</th>\n",
       "      <th>Irradiação</th>\n",
       "      <th>Temperatura</th>\n",
       "      <th>Ocorrência</th>\n",
       "    </tr>\n",
       "  </thead>\n",
       "  <tbody>\n",
       "    <tr>\n",
       "      <th>0</th>\n",
       "      <td>0</td>\n",
       "      <td>0.0 -0.1004411</td>\n",
       "      <td>1000</td>\n",
       "      <td>25</td>\n",
       "      <td>1</td>\n",
       "    </tr>\n",
       "    <tr>\n",
       "      <th>1</th>\n",
       "      <td>1</td>\n",
       "      <td>0.01 -0.09958977</td>\n",
       "      <td>1000</td>\n",
       "      <td>25</td>\n",
       "      <td>1</td>\n",
       "    </tr>\n",
       "    <tr>\n",
       "      <th>2</th>\n",
       "      <td>2</td>\n",
       "      <td>0.02 -0.09955372</td>\n",
       "      <td>1000</td>\n",
       "      <td>25</td>\n",
       "      <td>1</td>\n",
       "    </tr>\n",
       "    <tr>\n",
       "      <th>3</th>\n",
       "      <td>3</td>\n",
       "      <td>0.03 -0.09991045</td>\n",
       "      <td>1000</td>\n",
       "      <td>25</td>\n",
       "      <td>1</td>\n",
       "    </tr>\n",
       "    <tr>\n",
       "      <th>4</th>\n",
       "      <td>4</td>\n",
       "      <td>0.04 -0.09930861</td>\n",
       "      <td>1000</td>\n",
       "      <td>25</td>\n",
       "      <td>1</td>\n",
       "    </tr>\n",
       "    <tr>\n",
       "      <th>...</th>\n",
       "      <td>...</td>\n",
       "      <td>...</td>\n",
       "      <td>...</td>\n",
       "      <td>...</td>\n",
       "      <td>...</td>\n",
       "    </tr>\n",
       "    <tr>\n",
       "      <th>22746</th>\n",
       "      <td>0.6</td>\n",
       "      <td>0.08684</td>\n",
       "      <td>900</td>\n",
       "      <td>55</td>\n",
       "      <td>10</td>\n",
       "    </tr>\n",
       "    <tr>\n",
       "      <th>22747</th>\n",
       "      <td>0.61</td>\n",
       "      <td>0.10893</td>\n",
       "      <td>900</td>\n",
       "      <td>55</td>\n",
       "      <td>10</td>\n",
       "    </tr>\n",
       "    <tr>\n",
       "      <th>22748</th>\n",
       "      <td>0.62</td>\n",
       "      <td>0.1318</td>\n",
       "      <td>900</td>\n",
       "      <td>55</td>\n",
       "      <td>10</td>\n",
       "    </tr>\n",
       "    <tr>\n",
       "      <th>22749</th>\n",
       "      <td>0.63</td>\n",
       "      <td>0.15554</td>\n",
       "      <td>900</td>\n",
       "      <td>55</td>\n",
       "      <td>10</td>\n",
       "    </tr>\n",
       "    <tr>\n",
       "      <th>22750</th>\n",
       "      <td>0.64</td>\n",
       "      <td>0.18037</td>\n",
       "      <td>900</td>\n",
       "      <td>55</td>\n",
       "      <td>10</td>\n",
       "    </tr>\n",
       "  </tbody>\n",
       "</table>\n",
       "<p>22751 rows × 5 columns</p>\n",
       "</div>"
      ],
      "text/plain": [
       "      Tensão(V)       Corrente(A)  Irradiação  Temperatura  Ocorrência\n",
       "0             0    0.0 -0.1004411        1000           25           1\n",
       "1             1  0.01 -0.09958977        1000           25           1\n",
       "2             2  0.02 -0.09955372        1000           25           1\n",
       "3             3  0.03 -0.09991045        1000           25           1\n",
       "4             4  0.04 -0.09930861        1000           25           1\n",
       "...         ...               ...         ...          ...         ...\n",
       "22746       0.6           0.08684         900           55          10\n",
       "22747      0.61           0.10893         900           55          10\n",
       "22748      0.62            0.1318         900           55          10\n",
       "22749      0.63           0.15554         900           55          10\n",
       "22750      0.64           0.18037         900           55          10\n",
       "\n",
       "[22751 rows x 5 columns]"
      ]
     },
     "execution_count": 9,
     "metadata": {},
     "output_type": "execute_result"
    }
   ],
   "source": [
    "dff"
   ]
  },
  {
   "cell_type": "markdown",
   "metadata": {},
   "source": [
    "<p>Observando os dados de irradiação é possível verificar que para a irradiação de 1000 o dados estão em um formato incorreto para dados numéricos<p>\n",
    "<p>Devemos corrigir algumas informações do dataset:<p>\n",
    "<ol>\n",
    "    <li>Verificar se os dados de iradiação estão no formato correto \n",
    "    <li>Verrificar os dados de tensão e corrigir caso seja necessário\n",
    "    <li>Confirmar quais dados deve ser positivos e negativos\n",
    "\n"
   ]
  },
  {
   "cell_type": "markdown",
   "metadata": {},
   "source": [
    "<ol><li> Verificar se os dados de iradiação estão no formato correto "
   ]
  },
  {
   "cell_type": "code",
   "execution_count": 10,
   "metadata": {},
   "outputs": [
    {
     "data": {
      "text/html": [
       "<div>\n",
       "<style scoped>\n",
       "    .dataframe tbody tr th:only-of-type {\n",
       "        vertical-align: middle;\n",
       "    }\n",
       "\n",
       "    .dataframe tbody tr th {\n",
       "        vertical-align: top;\n",
       "    }\n",
       "\n",
       "    .dataframe thead th {\n",
       "        text-align: right;\n",
       "    }\n",
       "</style>\n",
       "<table border=\"1\" class=\"dataframe\">\n",
       "  <thead>\n",
       "    <tr style=\"text-align: right;\">\n",
       "      <th></th>\n",
       "      <th>Tensão(V)</th>\n",
       "      <th>Corrente(A)</th>\n",
       "      <th>Irradiação</th>\n",
       "      <th>Temperatura</th>\n",
       "      <th>Ocorrência</th>\n",
       "    </tr>\n",
       "  </thead>\n",
       "  <tbody>\n",
       "    <tr>\n",
       "      <th>0</th>\n",
       "      <td>0</td>\n",
       "      <td>0.0 -0.1004411</td>\n",
       "      <td>1000</td>\n",
       "      <td>25</td>\n",
       "      <td>1</td>\n",
       "    </tr>\n",
       "    <tr>\n",
       "      <th>1</th>\n",
       "      <td>1</td>\n",
       "      <td>0.01 -0.09958977</td>\n",
       "      <td>1000</td>\n",
       "      <td>25</td>\n",
       "      <td>1</td>\n",
       "    </tr>\n",
       "    <tr>\n",
       "      <th>2</th>\n",
       "      <td>2</td>\n",
       "      <td>0.02 -0.09955372</td>\n",
       "      <td>1000</td>\n",
       "      <td>25</td>\n",
       "      <td>1</td>\n",
       "    </tr>\n",
       "    <tr>\n",
       "      <th>3</th>\n",
       "      <td>3</td>\n",
       "      <td>0.03 -0.09991045</td>\n",
       "      <td>1000</td>\n",
       "      <td>25</td>\n",
       "      <td>1</td>\n",
       "    </tr>\n",
       "    <tr>\n",
       "      <th>4</th>\n",
       "      <td>4</td>\n",
       "      <td>0.04 -0.09930861</td>\n",
       "      <td>1000</td>\n",
       "      <td>25</td>\n",
       "      <td>1</td>\n",
       "    </tr>\n",
       "  </tbody>\n",
       "</table>\n",
       "</div>"
      ],
      "text/plain": [
       "  Tensão(V)       Corrente(A)  Irradiação  Temperatura  Ocorrência\n",
       "0         0    0.0 -0.1004411        1000           25           1\n",
       "1         1  0.01 -0.09958977        1000           25           1\n",
       "2         2  0.02 -0.09955372        1000           25           1\n",
       "3         3  0.03 -0.09991045        1000           25           1\n",
       "4         4  0.04 -0.09930861        1000           25           1"
      ]
     },
     "execution_count": 10,
     "metadata": {},
     "output_type": "execute_result"
    }
   ],
   "source": [
    "dff[dff['Irradiação']==1000].head()\n",
    "# será necessario corrigir os dados de corrente e tensão para irradiação de 1000 "
   ]
  },
  {
   "cell_type": "code",
   "execution_count": 11,
   "metadata": {},
   "outputs": [
    {
     "data": {
      "text/html": [
       "<div>\n",
       "<style scoped>\n",
       "    .dataframe tbody tr th:only-of-type {\n",
       "        vertical-align: middle;\n",
       "    }\n",
       "\n",
       "    .dataframe tbody tr th {\n",
       "        vertical-align: top;\n",
       "    }\n",
       "\n",
       "    .dataframe thead th {\n",
       "        text-align: right;\n",
       "    }\n",
       "</style>\n",
       "<table border=\"1\" class=\"dataframe\">\n",
       "  <thead>\n",
       "    <tr style=\"text-align: right;\">\n",
       "      <th></th>\n",
       "      <th>Tensão(V)</th>\n",
       "      <th>Corrente(A)</th>\n",
       "      <th>Irradiação</th>\n",
       "      <th>Temperatura</th>\n",
       "      <th>Ocorrência</th>\n",
       "    </tr>\n",
       "  </thead>\n",
       "  <tbody>\n",
       "    <tr>\n",
       "      <th>18201</th>\n",
       "      <td>0</td>\n",
       "      <td>-0.08789</td>\n",
       "      <td>900</td>\n",
       "      <td>25</td>\n",
       "      <td>1</td>\n",
       "    </tr>\n",
       "    <tr>\n",
       "      <th>18202</th>\n",
       "      <td>0.01</td>\n",
       "      <td>-0.08714</td>\n",
       "      <td>900</td>\n",
       "      <td>25</td>\n",
       "      <td>1</td>\n",
       "    </tr>\n",
       "    <tr>\n",
       "      <th>18203</th>\n",
       "      <td>0.02</td>\n",
       "      <td>-0.08711</td>\n",
       "      <td>900</td>\n",
       "      <td>25</td>\n",
       "      <td>1</td>\n",
       "    </tr>\n",
       "    <tr>\n",
       "      <th>18204</th>\n",
       "      <td>0.03</td>\n",
       "      <td>-0.08742</td>\n",
       "      <td>900</td>\n",
       "      <td>25</td>\n",
       "      <td>1</td>\n",
       "    </tr>\n",
       "    <tr>\n",
       "      <th>18205</th>\n",
       "      <td>0.04</td>\n",
       "      <td>-0.0869</td>\n",
       "      <td>900</td>\n",
       "      <td>25</td>\n",
       "      <td>1</td>\n",
       "    </tr>\n",
       "  </tbody>\n",
       "</table>\n",
       "</div>"
      ],
      "text/plain": [
       "      Tensão(V) Corrente(A)  Irradiação  Temperatura  Ocorrência\n",
       "18201         0    -0.08789         900           25           1\n",
       "18202      0.01    -0.08714         900           25           1\n",
       "18203      0.02    -0.08711         900           25           1\n",
       "18204      0.03    -0.08742         900           25           1\n",
       "18205      0.04     -0.0869         900           25           1"
      ]
     },
     "execution_count": 11,
     "metadata": {},
     "output_type": "execute_result"
    }
   ],
   "source": [
    "dff[dff['Irradiação']==900].head()\n",
    "#estão corretos"
   ]
  },
  {
   "cell_type": "code",
   "execution_count": 12,
   "metadata": {},
   "outputs": [
    {
     "data": {
      "text/html": [
       "<div>\n",
       "<style scoped>\n",
       "    .dataframe tbody tr th:only-of-type {\n",
       "        vertical-align: middle;\n",
       "    }\n",
       "\n",
       "    .dataframe tbody tr th {\n",
       "        vertical-align: top;\n",
       "    }\n",
       "\n",
       "    .dataframe thead th {\n",
       "        text-align: right;\n",
       "    }\n",
       "</style>\n",
       "<table border=\"1\" class=\"dataframe\">\n",
       "  <thead>\n",
       "    <tr style=\"text-align: right;\">\n",
       "      <th></th>\n",
       "      <th>Tensão(V)</th>\n",
       "      <th>Corrente(A)</th>\n",
       "      <th>Irradiação</th>\n",
       "      <th>Temperatura</th>\n",
       "      <th>Ocorrência</th>\n",
       "    </tr>\n",
       "  </thead>\n",
       "  <tbody>\n",
       "    <tr>\n",
       "      <th>13650</th>\n",
       "      <td>0.0</td>\n",
       "      <td>-0.07533</td>\n",
       "      <td>800</td>\n",
       "      <td>25</td>\n",
       "      <td>1</td>\n",
       "    </tr>\n",
       "    <tr>\n",
       "      <th>13651</th>\n",
       "      <td>0.01</td>\n",
       "      <td>-0.07469</td>\n",
       "      <td>800</td>\n",
       "      <td>25</td>\n",
       "      <td>1</td>\n",
       "    </tr>\n",
       "    <tr>\n",
       "      <th>13652</th>\n",
       "      <td>0.02</td>\n",
       "      <td>-0.07467</td>\n",
       "      <td>800</td>\n",
       "      <td>25</td>\n",
       "      <td>1</td>\n",
       "    </tr>\n",
       "    <tr>\n",
       "      <th>13653</th>\n",
       "      <td>0.03</td>\n",
       "      <td>-0.07493</td>\n",
       "      <td>800</td>\n",
       "      <td>25</td>\n",
       "      <td>1</td>\n",
       "    </tr>\n",
       "    <tr>\n",
       "      <th>13654</th>\n",
       "      <td>0.04</td>\n",
       "      <td>-0.07448</td>\n",
       "      <td>800</td>\n",
       "      <td>25</td>\n",
       "      <td>1</td>\n",
       "    </tr>\n",
       "  </tbody>\n",
       "</table>\n",
       "</div>"
      ],
      "text/plain": [
       "      Tensão(V) Corrente(A)  Irradiação  Temperatura  Ocorrência\n",
       "13650       0.0    -0.07533         800           25           1\n",
       "13651      0.01    -0.07469         800           25           1\n",
       "13652      0.02    -0.07467         800           25           1\n",
       "13653      0.03    -0.07493         800           25           1\n",
       "13654      0.04    -0.07448         800           25           1"
      ]
     },
     "execution_count": 12,
     "metadata": {},
     "output_type": "execute_result"
    }
   ],
   "source": [
    "dff[dff['Irradiação']==800].head()\n",
    "#estão corretos"
   ]
  },
  {
   "cell_type": "code",
   "execution_count": 13,
   "metadata": {},
   "outputs": [
    {
     "data": {
      "text/html": [
       "<div>\n",
       "<style scoped>\n",
       "    .dataframe tbody tr th:only-of-type {\n",
       "        vertical-align: middle;\n",
       "    }\n",
       "\n",
       "    .dataframe tbody tr th {\n",
       "        vertical-align: top;\n",
       "    }\n",
       "\n",
       "    .dataframe thead th {\n",
       "        text-align: right;\n",
       "    }\n",
       "</style>\n",
       "<table border=\"1\" class=\"dataframe\">\n",
       "  <thead>\n",
       "    <tr style=\"text-align: right;\">\n",
       "      <th></th>\n",
       "      <th>Tensão(V)</th>\n",
       "      <th>Corrente(A)</th>\n",
       "      <th>Irradiação</th>\n",
       "      <th>Temperatura</th>\n",
       "      <th>Ocorrência</th>\n",
       "    </tr>\n",
       "  </thead>\n",
       "  <tbody>\n",
       "    <tr>\n",
       "      <th>9100</th>\n",
       "      <td>0.0</td>\n",
       "      <td>-0.06278</td>\n",
       "      <td>700</td>\n",
       "      <td>25</td>\n",
       "      <td>1</td>\n",
       "    </tr>\n",
       "    <tr>\n",
       "      <th>9101</th>\n",
       "      <td>0.01</td>\n",
       "      <td>-0.06224</td>\n",
       "      <td>700</td>\n",
       "      <td>25</td>\n",
       "      <td>1</td>\n",
       "    </tr>\n",
       "    <tr>\n",
       "      <th>9102</th>\n",
       "      <td>0.02</td>\n",
       "      <td>-0.06222</td>\n",
       "      <td>700</td>\n",
       "      <td>25</td>\n",
       "      <td>1</td>\n",
       "    </tr>\n",
       "    <tr>\n",
       "      <th>9103</th>\n",
       "      <td>0.03</td>\n",
       "      <td>-0.06244</td>\n",
       "      <td>700</td>\n",
       "      <td>25</td>\n",
       "      <td>1</td>\n",
       "    </tr>\n",
       "    <tr>\n",
       "      <th>9104</th>\n",
       "      <td>0.04</td>\n",
       "      <td>-0.06207</td>\n",
       "      <td>700</td>\n",
       "      <td>25</td>\n",
       "      <td>1</td>\n",
       "    </tr>\n",
       "  </tbody>\n",
       "</table>\n",
       "</div>"
      ],
      "text/plain": [
       "     Tensão(V) Corrente(A)  Irradiação  Temperatura  Ocorrência\n",
       "9100       0.0    -0.06278         700           25           1\n",
       "9101      0.01    -0.06224         700           25           1\n",
       "9102      0.02    -0.06222         700           25           1\n",
       "9103      0.03    -0.06244         700           25           1\n",
       "9104      0.04    -0.06207         700           25           1"
      ]
     },
     "execution_count": 13,
     "metadata": {},
     "output_type": "execute_result"
    }
   ],
   "source": [
    "dff[dff['Irradiação']==700].head()\n",
    "#estão corretos"
   ]
  },
  {
   "cell_type": "code",
   "execution_count": 14,
   "metadata": {},
   "outputs": [
    {
     "data": {
      "text/html": [
       "<div>\n",
       "<style scoped>\n",
       "    .dataframe tbody tr th:only-of-type {\n",
       "        vertical-align: middle;\n",
       "    }\n",
       "\n",
       "    .dataframe tbody tr th {\n",
       "        vertical-align: top;\n",
       "    }\n",
       "\n",
       "    .dataframe thead th {\n",
       "        text-align: right;\n",
       "    }\n",
       "</style>\n",
       "<table border=\"1\" class=\"dataframe\">\n",
       "  <thead>\n",
       "    <tr style=\"text-align: right;\">\n",
       "      <th></th>\n",
       "      <th>Tensão(V)</th>\n",
       "      <th>Corrente(A)</th>\n",
       "      <th>Irradiação</th>\n",
       "      <th>Temperatura</th>\n",
       "      <th>Ocorrência</th>\n",
       "    </tr>\n",
       "  </thead>\n",
       "  <tbody>\n",
       "    <tr>\n",
       "      <th>4550</th>\n",
       "      <td>0.0</td>\n",
       "      <td>-0.05381</td>\n",
       "      <td>600</td>\n",
       "      <td>25</td>\n",
       "      <td>1</td>\n",
       "    </tr>\n",
       "    <tr>\n",
       "      <th>4551</th>\n",
       "      <td>0.01</td>\n",
       "      <td>-0.05335</td>\n",
       "      <td>600</td>\n",
       "      <td>25</td>\n",
       "      <td>1</td>\n",
       "    </tr>\n",
       "    <tr>\n",
       "      <th>4552</th>\n",
       "      <td>0.02</td>\n",
       "      <td>-0.05333</td>\n",
       "      <td>600</td>\n",
       "      <td>25</td>\n",
       "      <td>1</td>\n",
       "    </tr>\n",
       "    <tr>\n",
       "      <th>4553</th>\n",
       "      <td>0.03</td>\n",
       "      <td>-0.05352</td>\n",
       "      <td>600</td>\n",
       "      <td>25</td>\n",
       "      <td>1</td>\n",
       "    </tr>\n",
       "    <tr>\n",
       "      <th>4554</th>\n",
       "      <td>0.04</td>\n",
       "      <td>-0.0532</td>\n",
       "      <td>600</td>\n",
       "      <td>25</td>\n",
       "      <td>1</td>\n",
       "    </tr>\n",
       "  </tbody>\n",
       "</table>\n",
       "</div>"
      ],
      "text/plain": [
       "     Tensão(V) Corrente(A)  Irradiação  Temperatura  Ocorrência\n",
       "4550       0.0    -0.05381         600           25           1\n",
       "4551      0.01    -0.05335         600           25           1\n",
       "4552      0.02    -0.05333         600           25           1\n",
       "4553      0.03    -0.05352         600           25           1\n",
       "4554      0.04     -0.0532         600           25           1"
      ]
     },
     "execution_count": 14,
     "metadata": {},
     "output_type": "execute_result"
    }
   ],
   "source": [
    "dff[dff['Irradiação']==600].head()\n",
    "#estão corretos"
   ]
  },
  {
   "cell_type": "markdown",
   "metadata": {},
   "source": [
    "<p>Os dados de tensão e corrente da irradiação de 1000 serão necessário a correção, os demais em uma primeira análise estão corretos\n",
    "\n",
    "<ul>\n",
    "    <li> Verificando em todoas as temperaturas será necessário corrigir"
   ]
  },
  {
   "cell_type": "code",
   "execution_count": 15,
   "metadata": {},
   "outputs": [
    {
     "data": {
      "text/html": [
       "<div>\n",
       "<style scoped>\n",
       "    .dataframe tbody tr th:only-of-type {\n",
       "        vertical-align: middle;\n",
       "    }\n",
       "\n",
       "    .dataframe tbody tr th {\n",
       "        vertical-align: top;\n",
       "    }\n",
       "\n",
       "    .dataframe thead th {\n",
       "        text-align: right;\n",
       "    }\n",
       "</style>\n",
       "<table border=\"1\" class=\"dataframe\">\n",
       "  <thead>\n",
       "    <tr style=\"text-align: right;\">\n",
       "      <th></th>\n",
       "      <th>Tensão(V)</th>\n",
       "      <th>Corrente(A)</th>\n",
       "      <th>Irradiação</th>\n",
       "      <th>Temperatura</th>\n",
       "      <th>Ocorrência</th>\n",
       "    </tr>\n",
       "  </thead>\n",
       "  <tbody>\n",
       "    <tr>\n",
       "      <th>650</th>\n",
       "      <td>0</td>\n",
       "      <td>0.0 -0.1003122</td>\n",
       "      <td>1000</td>\n",
       "      <td>30</td>\n",
       "      <td>1</td>\n",
       "    </tr>\n",
       "    <tr>\n",
       "      <th>651</th>\n",
       "      <td>1</td>\n",
       "      <td>0.01 -0.1002643</td>\n",
       "      <td>1000</td>\n",
       "      <td>30</td>\n",
       "      <td>1</td>\n",
       "    </tr>\n",
       "    <tr>\n",
       "      <th>652</th>\n",
       "      <td>2</td>\n",
       "      <td>0.02 -0.1001781</td>\n",
       "      <td>1000</td>\n",
       "      <td>30</td>\n",
       "      <td>1</td>\n",
       "    </tr>\n",
       "    <tr>\n",
       "      <th>653</th>\n",
       "      <td>3</td>\n",
       "      <td>0.03 -0.1002105</td>\n",
       "      <td>1000</td>\n",
       "      <td>30</td>\n",
       "      <td>1</td>\n",
       "    </tr>\n",
       "    <tr>\n",
       "      <th>654</th>\n",
       "      <td>4</td>\n",
       "      <td>0.04 -0.1001443</td>\n",
       "      <td>1000</td>\n",
       "      <td>30</td>\n",
       "      <td>1</td>\n",
       "    </tr>\n",
       "  </tbody>\n",
       "</table>\n",
       "</div>"
      ],
      "text/plain": [
       "    Tensão(V)      Corrente(A)  Irradiação  Temperatura  Ocorrência\n",
       "650         0   0.0 -0.1003122        1000           30           1\n",
       "651         1  0.01 -0.1002643        1000           30           1\n",
       "652         2  0.02 -0.1001781        1000           30           1\n",
       "653         3  0.03 -0.1002105        1000           30           1\n",
       "654         4  0.04 -0.1001443        1000           30           1"
      ]
     },
     "execution_count": 15,
     "metadata": {},
     "output_type": "execute_result"
    }
   ],
   "source": [
    "dff[dff['Irradiação']==1000][dff[dff['Irradiação']==1000]['Temperatura']==30].head()"
   ]
  },
  {
   "cell_type": "code",
   "execution_count": 16,
   "metadata": {},
   "outputs": [
    {
     "data": {
      "text/html": [
       "<div>\n",
       "<style scoped>\n",
       "    .dataframe tbody tr th:only-of-type {\n",
       "        vertical-align: middle;\n",
       "    }\n",
       "\n",
       "    .dataframe tbody tr th {\n",
       "        vertical-align: top;\n",
       "    }\n",
       "\n",
       "    .dataframe thead th {\n",
       "        text-align: right;\n",
       "    }\n",
       "</style>\n",
       "<table border=\"1\" class=\"dataframe\">\n",
       "  <thead>\n",
       "    <tr style=\"text-align: right;\">\n",
       "      <th></th>\n",
       "      <th>Tensão(V)</th>\n",
       "      <th>Corrente(A)</th>\n",
       "      <th>Irradiação</th>\n",
       "      <th>Temperatura</th>\n",
       "      <th>Ocorrência</th>\n",
       "    </tr>\n",
       "  </thead>\n",
       "  <tbody>\n",
       "    <tr>\n",
       "      <th>3250</th>\n",
       "      <td>0.0</td>\n",
       "      <td>-0.09892</td>\n",
       "      <td>1000</td>\n",
       "      <td>50</td>\n",
       "      <td>1</td>\n",
       "    </tr>\n",
       "    <tr>\n",
       "      <th>3251</th>\n",
       "      <td>0.01</td>\n",
       "      <td>-0.09894</td>\n",
       "      <td>1000</td>\n",
       "      <td>50</td>\n",
       "      <td>1</td>\n",
       "    </tr>\n",
       "    <tr>\n",
       "      <th>3252</th>\n",
       "      <td>0.02</td>\n",
       "      <td>-0.09888</td>\n",
       "      <td>1000</td>\n",
       "      <td>50</td>\n",
       "      <td>1</td>\n",
       "    </tr>\n",
       "    <tr>\n",
       "      <th>3253</th>\n",
       "      <td>0.03</td>\n",
       "      <td>-0.09888</td>\n",
       "      <td>1000</td>\n",
       "      <td>50</td>\n",
       "      <td>1</td>\n",
       "    </tr>\n",
       "    <tr>\n",
       "      <th>3254</th>\n",
       "      <td>0.04</td>\n",
       "      <td>-0.09882</td>\n",
       "      <td>1000</td>\n",
       "      <td>50</td>\n",
       "      <td>1</td>\n",
       "    </tr>\n",
       "  </tbody>\n",
       "</table>\n",
       "</div>"
      ],
      "text/plain": [
       "     Tensão(V) Corrente(A)  Irradiação  Temperatura  Ocorrência\n",
       "3250       0.0    -0.09892        1000           50           1\n",
       "3251      0.01    -0.09894        1000           50           1\n",
       "3252      0.02    -0.09888        1000           50           1\n",
       "3253      0.03    -0.09888        1000           50           1\n",
       "3254      0.04    -0.09882        1000           50           1"
      ]
     },
     "execution_count": 16,
     "metadata": {},
     "output_type": "execute_result"
    }
   ],
   "source": [
    "dff[dff['Irradiação']==1000][dff[dff['Irradiação']==1000]['Temperatura']==50].head()"
   ]
  },
  {
   "cell_type": "markdown",
   "metadata": {},
   "source": [
    "<p> Não são todos as temperaturas, com isso vamos corrigir somente as que sejá possível fazer o comando \"split\" do tipo \"str\" do python\n",
    "<p> Com isso, usaremos o \"for\" percorrendo o df desde a posição incial da irradiação de 1000 até a última ocorrencia"
   ]
  },
  {
   "cell_type": "code",
   "execution_count": 17,
   "metadata": {},
   "outputs": [],
   "source": [
    "tensao = []\n",
    "corrente = []\n",
    "dimesao = dff[dff['Irradiação']==1000].shape[0]\n",
    "\n",
    "for i in range(dimesao):\n",
    "    try:\n",
    "        it = dff[dff['Irradiação']==1000].iloc[i]['Corrente(A)'].split(' ')\n",
    "\n",
    "    except AttributeError:\n",
    "        tensao.append(float(dff[dff['Irradiação']==1000].iloc[i]['Tensão(V)']))\n",
    "        corrente.append(float(dff[dff['Irradiação']==1000].iloc[i]['Corrente(A)']))\n",
    "        continue\n",
    "\n",
    "    tensao.append(float(it[0]))\n",
    "    corrente.append(float(it[-1]))"
   ]
  },
  {
   "cell_type": "code",
   "execution_count": 18,
   "metadata": {},
   "outputs": [
    {
     "data": {
      "text/plain": [
       "4550"
      ]
     },
     "execution_count": 18,
     "metadata": {},
     "output_type": "execute_result"
    }
   ],
   "source": [
    "len(corrente)"
   ]
  },
  {
   "cell_type": "markdown",
   "metadata": {},
   "source": [
    "<p>Os dados da correnta e tensão para a irradiação a 1000 estão localizados da posição 0 à 4550 na primeira e segunda coluna (index:0, 1), com isso vamos corrigir os valores pelos corretos"
   ]
  },
  {
   "cell_type": "code",
   "execution_count": 19,
   "metadata": {},
   "outputs": [],
   "source": [
    "dff.iloc[0:4550, 1]=corrente\n",
    "dff.iloc[0:4550, 0]=tensao"
   ]
  },
  {
   "cell_type": "code",
   "execution_count": 20,
   "metadata": {},
   "outputs": [
    {
     "data": {
      "text/html": [
       "<div>\n",
       "<style scoped>\n",
       "    .dataframe tbody tr th:only-of-type {\n",
       "        vertical-align: middle;\n",
       "    }\n",
       "\n",
       "    .dataframe tbody tr th {\n",
       "        vertical-align: top;\n",
       "    }\n",
       "\n",
       "    .dataframe thead th {\n",
       "        text-align: right;\n",
       "    }\n",
       "</style>\n",
       "<table border=\"1\" class=\"dataframe\">\n",
       "  <thead>\n",
       "    <tr style=\"text-align: right;\">\n",
       "      <th></th>\n",
       "      <th>Tensão(V)</th>\n",
       "      <th>Corrente(A)</th>\n",
       "      <th>Irradiação</th>\n",
       "      <th>Temperatura</th>\n",
       "      <th>Ocorrência</th>\n",
       "    </tr>\n",
       "  </thead>\n",
       "  <tbody>\n",
       "    <tr>\n",
       "      <th>0</th>\n",
       "      <td>0.0</td>\n",
       "      <td>-0.100441</td>\n",
       "      <td>1000</td>\n",
       "      <td>25</td>\n",
       "      <td>1</td>\n",
       "    </tr>\n",
       "    <tr>\n",
       "      <th>1</th>\n",
       "      <td>0.01</td>\n",
       "      <td>-0.09959</td>\n",
       "      <td>1000</td>\n",
       "      <td>25</td>\n",
       "      <td>1</td>\n",
       "    </tr>\n",
       "    <tr>\n",
       "      <th>2</th>\n",
       "      <td>0.02</td>\n",
       "      <td>-0.099554</td>\n",
       "      <td>1000</td>\n",
       "      <td>25</td>\n",
       "      <td>1</td>\n",
       "    </tr>\n",
       "    <tr>\n",
       "      <th>3</th>\n",
       "      <td>0.03</td>\n",
       "      <td>-0.09991</td>\n",
       "      <td>1000</td>\n",
       "      <td>25</td>\n",
       "      <td>1</td>\n",
       "    </tr>\n",
       "    <tr>\n",
       "      <th>4</th>\n",
       "      <td>0.04</td>\n",
       "      <td>-0.099309</td>\n",
       "      <td>1000</td>\n",
       "      <td>25</td>\n",
       "      <td>1</td>\n",
       "    </tr>\n",
       "  </tbody>\n",
       "</table>\n",
       "</div>"
      ],
      "text/plain": [
       "  Tensão(V) Corrente(A)  Irradiação  Temperatura  Ocorrência\n",
       "0       0.0   -0.100441        1000           25           1\n",
       "1      0.01    -0.09959        1000           25           1\n",
       "2      0.02   -0.099554        1000           25           1\n",
       "3      0.03    -0.09991        1000           25           1\n",
       "4      0.04   -0.099309        1000           25           1"
      ]
     },
     "execution_count": 20,
     "metadata": {},
     "output_type": "execute_result"
    }
   ],
   "source": [
    "dff[dff['Irradiação']==1000].head()"
   ]
  },
  {
   "cell_type": "markdown",
   "metadata": {},
   "source": [
    "<ol>\n",
    "\n",
    "<li value=2>Verrificar os dados de tensão e corrigir caso seja necessário"
   ]
  },
  {
   "cell_type": "code",
   "execution_count": 21,
   "metadata": {},
   "outputs": [
    {
     "name": "stdout",
     "output_type": "stream",
     "text": [
      "<class 'pandas.core.frame.DataFrame'>\n",
      "RangeIndex: 22751 entries, 0 to 22750\n",
      "Data columns (total 5 columns):\n",
      " #   Column       Non-Null Count  Dtype \n",
      "---  ------       --------------  ----- \n",
      " 0   Tensão(V)    22751 non-null  object\n",
      " 1   Corrente(A)  22750 non-null  object\n",
      " 2   Irradiação   22751 non-null  int32 \n",
      " 3   Temperatura  22751 non-null  int32 \n",
      " 4   Ocorrência   22751 non-null  int32 \n",
      "dtypes: int32(3), object(2)\n",
      "memory usage: 622.2+ KB\n"
     ]
    }
   ],
   "source": [
    "dff.info()"
   ]
  },
  {
   "cell_type": "markdown",
   "metadata": {},
   "source": [
    "<p>Mudando o tipo de dados de \"object\" para float das colunas Tensâo e Corrente"
   ]
  },
  {
   "cell_type": "code",
   "execution_count": 22,
   "metadata": {},
   "outputs": [],
   "source": [
    "dff['Corrente(A)'] = dff['Corrente(A)'].astype('float')\n",
    "#para a coluna tensão houve o retorno de um erro, devemos corrigir os dados antes"
   ]
  },
  {
   "cell_type": "code",
   "execution_count": 23,
   "metadata": {},
   "outputs": [
    {
     "name": "stdout",
     "output_type": "stream",
     "text": [
      "Ocorreu um erro: ValueError\n"
     ]
    }
   ],
   "source": [
    "try:\n",
    "    dff['Tensão(V)'].astype('float') #retorna erro, devemos corrigir os dados antes\n",
    "    #ValueError: could not convert string to float: '0.64    0.04476'\n",
    "except Exception as e:\n",
    "    print(f\"Ocorreu um erro: {type(e).__name__}\")"
   ]
  },
  {
   "cell_type": "code",
   "execution_count": 24,
   "metadata": {},
   "outputs": [
    {
     "data": {
      "text/html": [
       "<div>\n",
       "<style scoped>\n",
       "    .dataframe tbody tr th:only-of-type {\n",
       "        vertical-align: middle;\n",
       "    }\n",
       "\n",
       "    .dataframe tbody tr th {\n",
       "        vertical-align: top;\n",
       "    }\n",
       "\n",
       "    .dataframe thead th {\n",
       "        text-align: right;\n",
       "    }\n",
       "</style>\n",
       "<table border=\"1\" class=\"dataframe\">\n",
       "  <thead>\n",
       "    <tr style=\"text-align: right;\">\n",
       "      <th></th>\n",
       "      <th>Tensão(V)</th>\n",
       "      <th>Corrente(A)</th>\n",
       "      <th>Irradiação</th>\n",
       "      <th>Temperatura</th>\n",
       "      <th>Ocorrência</th>\n",
       "    </tr>\n",
       "  </thead>\n",
       "  <tbody>\n",
       "    <tr>\n",
       "      <th>18265</th>\n",
       "      <td>0.64    0.04476</td>\n",
       "      <td>NaN</td>\n",
       "      <td>900</td>\n",
       "      <td>25</td>\n",
       "      <td>1</td>\n",
       "    </tr>\n",
       "  </tbody>\n",
       "</table>\n",
       "</div>"
      ],
      "text/plain": [
       "             Tensão(V)  Corrente(A)  Irradiação  Temperatura  Ocorrência\n",
       "18265  0.64    0.04476          NaN         900           25           1"
      ]
     },
     "execution_count": 24,
     "metadata": {},
     "output_type": "execute_result"
    }
   ],
   "source": [
    "dff.loc[dff['Tensão(V)'] == '0.64    0.04476']"
   ]
  },
  {
   "cell_type": "code",
   "execution_count": 25,
   "metadata": {},
   "outputs": [],
   "source": [
    "tensao = []\n",
    "corrente = []\n",
    "dimensao = dff.shape[0]\n",
    "\n",
    "for i in range(dimensao):\n",
    "    try:\n",
    "        tensao.append(float(dff['Tensão(V)'].iloc[i]))\n",
    "    except ValueError:\n",
    "        tensao.append(float(dff['Tensão(V)'].iloc[i].split(' ')[0]))\n",
    "        corrente.append(float(dff['Tensão(V)'].iloc[i].split(' ')[-1]))"
   ]
  },
  {
   "cell_type": "code",
   "execution_count": 26,
   "metadata": {},
   "outputs": [
    {
     "data": {
      "text/plain": [
       "[0.04476]"
      ]
     },
     "execution_count": 26,
     "metadata": {},
     "output_type": "execute_result"
    }
   ],
   "source": [
    "corrente"
   ]
  },
  {
   "cell_type": "code",
   "execution_count": 27,
   "metadata": {},
   "outputs": [],
   "source": [
    "dff.iloc[18265, 0] = float('0.64')\n",
    "dff.iloc[18265, 1] = float('0.04476')\n"
   ]
  },
  {
   "cell_type": "code",
   "execution_count": 28,
   "metadata": {},
   "outputs": [],
   "source": [
    "dff['Corrente(A)'] = dff['Corrente(A)'].astype('float')\n",
    "dff['Tensão(V)'] = dff['Tensão(V)'].astype('float')"
   ]
  },
  {
   "cell_type": "code",
   "execution_count": 29,
   "metadata": {},
   "outputs": [
    {
     "name": "stdout",
     "output_type": "stream",
     "text": [
      "<class 'pandas.core.frame.DataFrame'>\n",
      "RangeIndex: 22751 entries, 0 to 22750\n",
      "Data columns (total 5 columns):\n",
      " #   Column       Non-Null Count  Dtype  \n",
      "---  ------       --------------  -----  \n",
      " 0   Tensão(V)    22751 non-null  float64\n",
      " 1   Corrente(A)  22751 non-null  float64\n",
      " 2   Irradiação   22751 non-null  int32  \n",
      " 3   Temperatura  22751 non-null  int32  \n",
      " 4   Ocorrência   22751 non-null  int32  \n",
      "dtypes: float64(2), int32(3)\n",
      "memory usage: 622.2 KB\n"
     ]
    }
   ],
   "source": [
    "dff.info()"
   ]
  },
  {
   "cell_type": "markdown",
   "metadata": {},
   "source": [
    "<ol>\n",
    "<li value=3>Confirmar quais dados deve ser positivos e negativos"
   ]
  },
  {
   "cell_type": "code",
   "execution_count": 30,
   "metadata": {},
   "outputs": [
    {
     "data": {
      "text/html": [
       "<div>\n",
       "<style scoped>\n",
       "    .dataframe tbody tr th:only-of-type {\n",
       "        vertical-align: middle;\n",
       "    }\n",
       "\n",
       "    .dataframe tbody tr th {\n",
       "        vertical-align: top;\n",
       "    }\n",
       "\n",
       "    .dataframe thead th {\n",
       "        text-align: right;\n",
       "    }\n",
       "</style>\n",
       "<table border=\"1\" class=\"dataframe\">\n",
       "  <thead>\n",
       "    <tr style=\"text-align: right;\">\n",
       "      <th></th>\n",
       "      <th>Tensão(V)</th>\n",
       "      <th>Corrente(A)</th>\n",
       "      <th>Irradiação</th>\n",
       "      <th>Temperatura</th>\n",
       "      <th>Ocorrência</th>\n",
       "    </tr>\n",
       "  </thead>\n",
       "  <tbody>\n",
       "    <tr>\n",
       "      <th>10400</th>\n",
       "      <td>0.0</td>\n",
       "      <td>0.06260</td>\n",
       "      <td>700</td>\n",
       "      <td>35</td>\n",
       "      <td>1</td>\n",
       "    </tr>\n",
       "    <tr>\n",
       "      <th>10465</th>\n",
       "      <td>0.0</td>\n",
       "      <td>0.06260</td>\n",
       "      <td>700</td>\n",
       "      <td>35</td>\n",
       "      <td>2</td>\n",
       "    </tr>\n",
       "    <tr>\n",
       "      <th>11050</th>\n",
       "      <td>0.0</td>\n",
       "      <td>0.06219</td>\n",
       "      <td>700</td>\n",
       "      <td>40</td>\n",
       "      <td>1</td>\n",
       "    </tr>\n",
       "    <tr>\n",
       "      <th>11440</th>\n",
       "      <td>0.0</td>\n",
       "      <td>0.06219</td>\n",
       "      <td>700</td>\n",
       "      <td>40</td>\n",
       "      <td>7</td>\n",
       "    </tr>\n",
       "    <tr>\n",
       "      <th>11700</th>\n",
       "      <td>0.0</td>\n",
       "      <td>0.06197</td>\n",
       "      <td>700</td>\n",
       "      <td>45</td>\n",
       "      <td>1</td>\n",
       "    </tr>\n",
       "    <tr>\n",
       "      <th>12285</th>\n",
       "      <td>0.0</td>\n",
       "      <td>0.06197</td>\n",
       "      <td>700</td>\n",
       "      <td>45</td>\n",
       "      <td>10</td>\n",
       "    </tr>\n",
       "    <tr>\n",
       "      <th>12350</th>\n",
       "      <td>0.0</td>\n",
       "      <td>0.06182</td>\n",
       "      <td>700</td>\n",
       "      <td>50</td>\n",
       "      <td>1</td>\n",
       "    </tr>\n",
       "    <tr>\n",
       "      <th>13000</th>\n",
       "      <td>0.0</td>\n",
       "      <td>0.06168</td>\n",
       "      <td>700</td>\n",
       "      <td>55</td>\n",
       "      <td>1</td>\n",
       "    </tr>\n",
       "    <tr>\n",
       "      <th>14300</th>\n",
       "      <td>0.0</td>\n",
       "      <td>0.07523</td>\n",
       "      <td>800</td>\n",
       "      <td>30</td>\n",
       "      <td>1</td>\n",
       "    </tr>\n",
       "    <tr>\n",
       "      <th>14365</th>\n",
       "      <td>0.0</td>\n",
       "      <td>0.07523</td>\n",
       "      <td>800</td>\n",
       "      <td>30</td>\n",
       "      <td>2</td>\n",
       "    </tr>\n",
       "    <tr>\n",
       "      <th>14691</th>\n",
       "      <td>0.0</td>\n",
       "      <td>0.07533</td>\n",
       "      <td>800</td>\n",
       "      <td>30</td>\n",
       "      <td>7</td>\n",
       "    </tr>\n",
       "    <tr>\n",
       "      <th>14886</th>\n",
       "      <td>0.0</td>\n",
       "      <td>0.07529</td>\n",
       "      <td>800</td>\n",
       "      <td>30</td>\n",
       "      <td>10</td>\n",
       "    </tr>\n",
       "    <tr>\n",
       "      <th>14951</th>\n",
       "      <td>0.0</td>\n",
       "      <td>0.07511</td>\n",
       "      <td>800</td>\n",
       "      <td>35</td>\n",
       "      <td>1</td>\n",
       "    </tr>\n",
       "    <tr>\n",
       "      <th>15016</th>\n",
       "      <td>0.0</td>\n",
       "      <td>0.07511</td>\n",
       "      <td>800</td>\n",
       "      <td>35</td>\n",
       "      <td>2</td>\n",
       "    </tr>\n",
       "    <tr>\n",
       "      <th>15601</th>\n",
       "      <td>0.0</td>\n",
       "      <td>0.07462</td>\n",
       "      <td>800</td>\n",
       "      <td>40</td>\n",
       "      <td>1</td>\n",
       "    </tr>\n",
       "    <tr>\n",
       "      <th>15731</th>\n",
       "      <td>0.0</td>\n",
       "      <td>0.07442</td>\n",
       "      <td>800</td>\n",
       "      <td>40</td>\n",
       "      <td>3</td>\n",
       "    </tr>\n",
       "    <tr>\n",
       "      <th>15991</th>\n",
       "      <td>0.0</td>\n",
       "      <td>0.07452</td>\n",
       "      <td>800</td>\n",
       "      <td>40</td>\n",
       "      <td>7</td>\n",
       "    </tr>\n",
       "    <tr>\n",
       "      <th>16251</th>\n",
       "      <td>0.0</td>\n",
       "      <td>0.07437</td>\n",
       "      <td>800</td>\n",
       "      <td>45</td>\n",
       "      <td>1</td>\n",
       "    </tr>\n",
       "    <tr>\n",
       "      <th>16901</th>\n",
       "      <td>0.0</td>\n",
       "      <td>0.07419</td>\n",
       "      <td>800</td>\n",
       "      <td>50</td>\n",
       "      <td>1</td>\n",
       "    </tr>\n",
       "    <tr>\n",
       "      <th>17616</th>\n",
       "      <td>0.0</td>\n",
       "      <td>0.07402</td>\n",
       "      <td>800</td>\n",
       "      <td>55</td>\n",
       "      <td>2</td>\n",
       "    </tr>\n",
       "    <tr>\n",
       "      <th>21451</th>\n",
       "      <td>0.0</td>\n",
       "      <td>0.08655</td>\n",
       "      <td>900</td>\n",
       "      <td>50</td>\n",
       "      <td>1</td>\n",
       "    </tr>\n",
       "    <tr>\n",
       "      <th>22101</th>\n",
       "      <td>0.0</td>\n",
       "      <td>0.08635</td>\n",
       "      <td>900</td>\n",
       "      <td>55</td>\n",
       "      <td>1</td>\n",
       "    </tr>\n",
       "  </tbody>\n",
       "</table>\n",
       "</div>"
      ],
      "text/plain": [
       "       Tensão(V)  Corrente(A)  Irradiação  Temperatura  Ocorrência\n",
       "10400        0.0      0.06260         700           35           1\n",
       "10465        0.0      0.06260         700           35           2\n",
       "11050        0.0      0.06219         700           40           1\n",
       "11440        0.0      0.06219         700           40           7\n",
       "11700        0.0      0.06197         700           45           1\n",
       "12285        0.0      0.06197         700           45          10\n",
       "12350        0.0      0.06182         700           50           1\n",
       "13000        0.0      0.06168         700           55           1\n",
       "14300        0.0      0.07523         800           30           1\n",
       "14365        0.0      0.07523         800           30           2\n",
       "14691        0.0      0.07533         800           30           7\n",
       "14886        0.0      0.07529         800           30          10\n",
       "14951        0.0      0.07511         800           35           1\n",
       "15016        0.0      0.07511         800           35           2\n",
       "15601        0.0      0.07462         800           40           1\n",
       "15731        0.0      0.07442         800           40           3\n",
       "15991        0.0      0.07452         800           40           7\n",
       "16251        0.0      0.07437         800           45           1\n",
       "16901        0.0      0.07419         800           50           1\n",
       "17616        0.0      0.07402         800           55           2\n",
       "21451        0.0      0.08655         900           50           1\n",
       "22101        0.0      0.08635         900           55           1"
      ]
     },
     "execution_count": 30,
     "metadata": {},
     "output_type": "execute_result"
    }
   ],
   "source": [
    "dff.loc[dff['Tensão(V)'] == 0].loc[dff['Corrente(A)']>0]"
   ]
  },
  {
   "cell_type": "markdown",
   "metadata": {},
   "source": [
    "<p>Podemos perceber que apenas alguns valores de corrente para a tensão igual a zero são positivos, não ocorrendo em todas as temperaturas e nem e todas irradiação (podemos afimar que os dados de corrente para irradiação de 1000 são todos negativos). Com isso, podemos concluir que esse valores e corrente para essa dada temperatura e irradiação devem devem ser corrigidos. \n",
    "<p> "
   ]
  },
  {
   "cell_type": "code",
   "execution_count": 31,
   "metadata": {},
   "outputs": [],
   "source": [
    "def correcaoDados(df, cor):\n",
    "\n",
    "    for i, t, o in cor:\n",
    "        corrente = df.loc[df['Irradiação']==i].loc[df['Temperatura']==t].loc[df['Ocorrência']==o]['Corrente(A)']\n",
    "        df.iloc[corrente.index, 1] = corrente * (-1)\n",
    "    \n",
    "    return df"
   ]
  },
  {
   "cell_type": "code",
   "execution_count": 32,
   "metadata": {},
   "outputs": [],
   "source": [
    "correcaoUm = dff.loc[dff['Tensão(V)'] == 0].loc[dff['Corrente(A)']<0][['Irradiação',\t'Temperatura',\t'Ocorrência']].values\n",
    "\n",
    "dff = correcaoDados(dff, correcaoUm)"
   ]
  },
  {
   "cell_type": "code",
   "execution_count": 33,
   "metadata": {},
   "outputs": [
    {
     "data": {
      "text/plain": [
       "Irradiação\n",
       "1000    70\n",
       "600     70\n",
       "700     70\n",
       "800     70\n",
       "900     70\n",
       "Name: count, dtype: int64"
      ]
     },
     "execution_count": 33,
     "metadata": {},
     "output_type": "execute_result"
    }
   ],
   "source": [
    "dff.loc[dff['Tensão(V)'] == 0].loc[dff['Corrente(A)']>0]['Irradiação'].value_counts() # contagem das ocorrencias (tensão igual a zero e corrente positiva) para cada irradiação  "
   ]
  },
  {
   "cell_type": "code",
   "execution_count": 34,
   "metadata": {},
   "outputs": [
    {
     "data": {
      "text/plain": [
       "Irradiação\n",
       "1000    70\n",
       "600     70\n",
       "700     70\n",
       "900     70\n",
       "800     67\n",
       "Name: count, dtype: int64"
      ]
     },
     "execution_count": 34,
     "metadata": {},
     "output_type": "execute_result"
    }
   ],
   "source": [
    "dff.loc[dff['Tensão(V)'] == 0.64].loc[dff['Corrente(A)']<0]['Irradiação'].value_counts() # contagem das ocorrencias (tensão igual a zero e negativa) para cada irradiação  "
   ]
  },
  {
   "cell_type": "markdown",
   "metadata": {},
   "source": [
    "<p> Ainda existem dados incorretos no df "
   ]
  },
  {
   "cell_type": "code",
   "execution_count": 35,
   "metadata": {},
   "outputs": [
    {
     "data": {
      "text/html": [
       "<div>\n",
       "<style scoped>\n",
       "    .dataframe tbody tr th:only-of-type {\n",
       "        vertical-align: middle;\n",
       "    }\n",
       "\n",
       "    .dataframe tbody tr th {\n",
       "        vertical-align: top;\n",
       "    }\n",
       "\n",
       "    .dataframe thead th {\n",
       "        text-align: right;\n",
       "    }\n",
       "</style>\n",
       "<table border=\"1\" class=\"dataframe\">\n",
       "  <thead>\n",
       "    <tr style=\"text-align: right;\">\n",
       "      <th></th>\n",
       "      <th>Tensão(V)</th>\n",
       "      <th>Corrente(A)</th>\n",
       "      <th>Irradiação</th>\n",
       "      <th>Temperatura</th>\n",
       "      <th>Ocorrência</th>\n",
       "    </tr>\n",
       "  </thead>\n",
       "  <tbody>\n",
       "    <tr>\n",
       "      <th>14429</th>\n",
       "      <td>0.64</td>\n",
       "      <td>0.05152</td>\n",
       "      <td>800</td>\n",
       "      <td>30</td>\n",
       "      <td>2</td>\n",
       "    </tr>\n",
       "    <tr>\n",
       "      <th>14755</th>\n",
       "      <td>0.64</td>\n",
       "      <td>0.05152</td>\n",
       "      <td>800</td>\n",
       "      <td>30</td>\n",
       "      <td>7</td>\n",
       "    </tr>\n",
       "    <tr>\n",
       "      <th>14950</th>\n",
       "      <td>0.64</td>\n",
       "      <td>0.05173</td>\n",
       "      <td>800</td>\n",
       "      <td>30</td>\n",
       "      <td>10</td>\n",
       "    </tr>\n",
       "  </tbody>\n",
       "</table>\n",
       "</div>"
      ],
      "text/plain": [
       "       Tensão(V)  Corrente(A)  Irradiação  Temperatura  Ocorrência\n",
       "14429       0.64      0.05152         800           30           2\n",
       "14755       0.64      0.05152         800           30           7\n",
       "14950       0.64      0.05173         800           30          10"
      ]
     },
     "execution_count": 35,
     "metadata": {},
     "output_type": "execute_result"
    }
   ],
   "source": [
    "dff.loc[dff['Tensão(V)'] == 0.64].loc[dff['Corrente(A)']>0].loc[dff['Irradiação']==800]"
   ]
  },
  {
   "cell_type": "markdown",
   "metadata": {},
   "source": [
    "<p>Ainda existe três dados que não foram corrigido como isso devemos tratar esses três dados"
   ]
  },
  {
   "cell_type": "code",
   "execution_count": 36,
   "metadata": {},
   "outputs": [
    {
     "data": {
      "text/plain": [
       "Text(0, 0.5, 'Corrente(A)')"
      ]
     },
     "execution_count": 36,
     "metadata": {},
     "output_type": "execute_result"
    },
    {
     "data": {
      "image/png": "[encoded data removed]",
      "text/plain": [
       "<Figure size 640x480 with 1 Axes>"
      ]
     },
     "metadata": {},
     "output_type": "display_data"
    }
   ],
   "source": [
    "fig, ax = plt.subplots()\n",
    "\n",
    "ax.plot(dff.loc[dff['Irradiação']==800].loc[dff['Temperatura']==30].loc[dff['Ocorrência']==2]['Corrente(A)'], label = 'Dados com problema ocorrencia 2')\n",
    "ax.plot(dff.loc[dff['Irradiação']==800].loc[dff['Temperatura']==30].loc[dff['Ocorrência']==7]['Corrente(A)'], label = 'Dados com problema ocorrencia 7')\n",
    "ax.plot(dff.loc[dff['Irradiação']==800].loc[dff['Temperatura']==30].loc[dff['Ocorrência']==10]['Corrente(A)'], label = 'Dados com problema ocorrencia 10')\n",
    "ax.plot(dff.loc[dff['Irradiação']==800].loc[dff['Temperatura']==30].loc[dff['Ocorrência']==3]['Corrente(A)'], label = 'Dados Corretos')\n",
    "\n",
    "ax.legend(bbox_to_anchor=(1.05, 1), loc='upper left')\n",
    "\n",
    "ax.set_title('Corrente')\n",
    "ax.set_xlabel('Frequência dos dados')\n",
    "ax.set_ylabel('Corrente(A)')"
   ]
  },
  {
   "cell_type": "markdown",
   "metadata": {},
   "source": [
    "<p>O erro está no dados inicias, como pode ser visualizado dos gráficos, os dados começam de forma correta e depois existe a inversão para o negativo, coisa que não ocorre nos dados corretos (segunda linha do gráfico).\n",
    "<p>Vamos visualizar de forma mais precisa onde ocorre essa inversão"
   ]
  },
  {
   "cell_type": "code",
   "execution_count": 37,
   "metadata": {},
   "outputs": [
    {
     "data": {
      "text/html": [
       "    <style>\n",
       "        .bk-notebook-logo {\n",
       "            display: block;\n",
       "            width: 20px;\n",
       "            height: 20px;\n",
       "            background-image: url(data:image/png;base64,iVBORw0KGgoAAAANSUhEUgAAABQAAAAUCAYAAACNiR0NAAAABHNCSVQICAgIfAhkiAAAAAlwSFlzAAALEgAACxIB0t1+/AAAABx0RVh0U29mdHdhcmUAQWRvYmUgRmlyZXdvcmtzIENTNui8sowAAAOkSURBVDiNjZRtaJVlGMd/1/08zzln5zjP1LWcU9N0NkN8m2CYjpgQYQXqSs0I84OLIC0hkEKoPtiH3gmKoiJDU7QpLgoLjLIQCpEsNJ1vqUOdO7ppbuec5+V+rj4ctwzd8IIbbi6u+8f1539dt3A78eXC7QizUF7gyV1fD1Yqg4JWz84yffhm0qkFqBogB9rM8tZdtwVsPUhWhGcFJngGeWrPzHm5oaMmkfEg1usvLFyc8jLRqDOMru7AyC8saQr7GG7f5fvDeH7Ej8CM66nIF+8yngt6HWaKh7k49Soy9nXurCi1o3qUbS3zWfrYeQDTB/Qj6kX6Ybhw4B+bOYoLKCC9H3Nu/leUTZ1JdRWkkn2ldcCamzrcf47KKXdAJllSlxAOkRgyHsGC/zRday5Qld9DyoM4/q/rUoy/CXh3jzOu3bHUVZeU+DEn8FInkPBFlu3+nW3Nw0mk6vCDiWg8CeJaxEwuHS3+z5RgY+YBR6V1Z1nxSOfoaPa4LASWxxdNp+VWTk7+4vzaou8v8PN+xo+KY2xsw6une2frhw05CTYOmQvsEhjhWjn0bmXPjpE1+kplmmkP3suftwTubK9Vq22qKmrBhpY4jvd5afdRA3wGjFAgcnTK2s4hY0/GPNIb0nErGMCRxWOOX64Z8RAC4oCXdklmEvcL8o0BfkNK4lUg9HTl+oPlQxdNo3Mg4Nv175e/1LDGzZen30MEjRUtmXSfiTVu1kK8W4txyV6BMKlbgk3lMwYCiusNy9fVfvvwMxv8Ynl6vxoByANLTWplvuj/nF9m2+PDtt1eiHPBr1oIfhCChQMBw6Aw0UulqTKZdfVvfG7VcfIqLG9bcldL/+pdWTLxLUy8Qq38heUIjh4XlzZxzQm19lLFlr8vdQ97rjZVOLf8nclzckbcD4wxXMidpX30sFd37Fv/GtwwhzhxGVAprjbg0gCAEeIgwCZyTV2Z1REEW8O4py0wsjeloKoMr6iCY6dP92H6Vw/oTyICIthibxjm/DfN9lVz8IqtqKYLUXfoKVMVQVVJOElGjrnnUt9T9wbgp8AyYKaGlqingHZU/uG2NTZSVqwHQTWkx9hxjkpWDaCg6Ckj5qebgBVbT3V3NNXMSiWSDdGV3hrtzla7J+duwPOToIg42ChPQOQjspnSlp1V+Gjdged7+8UN5CRAV7a5EdFNwCjEaBR27b3W890TE7g24NAP/mMDXRWrGoFPQI9ls/MWO2dWFAar/xcOIImbbpA3zgAAAABJRU5ErkJggg==);\n",
       "        }\n",
       "    </style>\n",
       "    <div>\n",
       "        <a href=\"https://bokeh.org\" target=\"_blank\" class=\"bk-notebook-logo\"></a>\n",
       "        <span id=\"eb90f958-c0f4-457e-a3e4-1338bb2ec208\">Loading BokehJS ...</span>\n",
       "    </div>\n"
      ]
     },
     "metadata": {},
     "output_type": "display_data"
    },
    {
     "data": {
      "application/javascript": "'use strict';\n(function(root) {\n  function now() {\n    return new Date();\n  }\n\n  const force = true;\n\n  if (typeof root._bokeh_onload_callbacks === \"undefined\" || force === true) {\n    root._bokeh_onload_callbacks = [];\n    root._bokeh_is_loading = undefined;\n  }\n\nconst JS_MIME_TYPE = 'application/javascript';\n  const HTML_MIME_TYPE = 'text/html';\n  const EXEC_MIME_TYPE = 'application/vnd.bokehjs_exec.v0+json';\n  const CLASS_NAME = 'output_bokeh rendered_html';\n\n  /**\n   * Render data to the DOM node\n   */\n  function render(props, node) {\n    const script = document.createElement(\"script\");\n    node.appendChild(script);\n  }\n\n  /**\n   * Handle when an output is cleared or removed\n   */\n  function handleClearOutput(event, handle) {\n    function drop(id) {\n      const view = Bokeh.index.get_by_id(id)\n      if (view != null) {\n        view.model.document.clear()\n        Bokeh.index.delete(view)\n      }\n    }\n\n    const cell = handle.cell;\n\n    const id = cell.output_area._bokeh_element_id;\n    const server_id = cell.output_area._bokeh_server_id;\n\n    // Clean up Bokeh references\n    if (id != null) {\n      drop(id)\n    }\n\n    if (server_id !== undefined) {\n      // Clean up Bokeh references\n      const cmd_clean = \"from bokeh.io.state import curstate; print(curstate().uuid_to_server['\" + server_id + \"'].get_sessions()[0].document.roots[0]._id)\";\n      cell.notebook.kernel.execute(cmd_clean, {\n        iopub: {\n          output: function(msg) {\n            const id = msg.content.text.trim()\n            drop(id)\n          }\n        }\n      });\n      // Destroy server and session\n      const cmd_destroy = \"import bokeh.io.notebook as ion; ion.destroy_server('\" + server_id + \"')\";\n      cell.notebook.kernel.execute(cmd_destroy);\n    }\n  }\n\n  /**\n   * Handle when a new output is added\n   */\n  function handleAddOutput(event, handle) {\n    const output_area = handle.output_area;\n    const output = handle.output;\n\n    // limit handleAddOutput to display_data with EXEC_MIME_TYPE content only\n    if ((output.output_type != \"display_data\") || (!Object.prototype.hasOwnProperty.call(output.data, EXEC_MIME_TYPE))) {\n      return\n    }\n\n    const toinsert = output_area.element.find(\".\" + CLASS_NAME.split(' ')[0]);\n\n    if (output.metadata[EXEC_MIME_TYPE][\"id\"] !== undefined) {\n      toinsert[toinsert.length - 1].firstChild.textContent = output.data[JS_MIME_TYPE];\n      // store reference to embed id on output_area\n      output_area._bokeh_element_id = output.metadata[EXEC_MIME_TYPE][\"id\"];\n    }\n    if (output.metadata[EXEC_MIME_TYPE][\"server_id\"] !== undefined) {\n      const bk_div = document.createElement(\"div\");\n      bk_div.innerHTML = output.data[HTML_MIME_TYPE];\n      const script_attrs = bk_div.children[0].attributes;\n      for (let i = 0; i < script_attrs.length; i++) {\n        toinsert[toinsert.length - 1].firstChild.setAttribute(script_attrs[i].name, script_attrs[i].value);\n        toinsert[toinsert.length - 1].firstChild.textContent = bk_div.children[0].textContent\n      }\n      // store reference to server id on output_area\n      output_area._bokeh_server_id = output.metadata[EXEC_MIME_TYPE][\"server_id\"];\n    }\n  }\n\n  function register_renderer(events, OutputArea) {\n\n    function append_mime(data, metadata, element) {\n      // create a DOM node to render to\n      const toinsert = this.create_output_subarea(\n        metadata,\n        CLASS_NAME,\n        EXEC_MIME_TYPE\n      );\n      this.keyboard_manager.register_events(toinsert);\n      // Render to node\n      const props = {data: data, metadata: metadata[EXEC_MIME_TYPE]};\n      render(props, toinsert[toinsert.length - 1]);\n      element.append(toinsert);\n      return toinsert\n    }\n\n    /* Handle when an output is cleared or removed */\n    events.on('clear_output.CodeCell', handleClearOutput);\n    events.on('delete.Cell', handleClearOutput);\n\n    /* Handle when a new output is added */\n    events.on('output_added.OutputArea', handleAddOutput);\n\n    /**\n     * Register the mime type and append_mime function with output_area\n     */\n    OutputArea.prototype.register_mime_type(EXEC_MIME_TYPE, append_mime, {\n      /* Is output safe? */\n      safe: true,\n      /* Index of renderer in `output_area.display_order` */\n      index: 0\n    });\n  }\n\n  // register the mime type if in Jupyter Notebook environment and previously unregistered\n  if (root.Jupyter !== undefined) {\n    const events = require('base/js/events');\n    const OutputArea = require('notebook/js/outputarea').OutputArea;\n\n    if (OutputArea.prototype.mime_types().indexOf(EXEC_MIME_TYPE) == -1) {\n      register_renderer(events, OutputArea);\n    }\n  }\n  if (typeof (root._bokeh_timeout) === \"undefined\" || force === true) {\n    root._bokeh_timeout = Date.now() + 5000;\n    root._bokeh_failed_load = false;\n  }\n\n  const NB_LOAD_WARNING = {'data': {'text/html':\n     \"<div style='background-color: #fdd'>\\n\"+\n     \"<p>\\n\"+\n     \"BokehJS does not appear to have successfully loaded. If loading BokehJS from CDN, this \\n\"+\n     \"may be due to a slow or bad network connection. Possible fixes:\\n\"+\n     \"</p>\\n\"+\n     \"<ul>\\n\"+\n     \"<li>re-rerun `output_notebook()` to attempt to load from CDN again, or</li>\\n\"+\n     \"<li>use INLINE resources instead, as so:</li>\\n\"+\n     \"</ul>\\n\"+\n     \"<code>\\n\"+\n     \"from bokeh.resources import INLINE\\n\"+\n     \"output_notebook(resources=INLINE)\\n\"+\n     \"</code>\\n\"+\n     \"</div>\"}};\n\n  function display_loaded(error = null) {\n    const el = document.getElementById(\"eb90f958-c0f4-457e-a3e4-1338bb2ec208\");\n    if (el != null) {\n      const html = (() => {\n        if (typeof root.Bokeh === \"undefined\") {\n          if (error == null) {\n            return \"BokehJS is loading ...\";\n          } else {\n            return \"BokehJS failed to load.\";\n          }\n        } else {\n          const prefix = `BokehJS ${root.Bokeh.version}`;\n          if (error == null) {\n            return `${prefix} successfully loaded.`;\n          } else {\n            return `${prefix} <b>encountered errors</b> while loading and may not function as expected.`;\n          }\n        }\n      })();\n      el.innerHTML = html;\n\n      if (error != null) {\n        const wrapper = document.createElement(\"div\");\n        wrapper.style.overflow = \"auto\";\n        wrapper.style.height = \"5em\";\n        wrapper.style.resize = \"vertical\";\n        const content = document.createElement(\"div\");\n        content.style.fontFamily = \"monospace\";\n        content.style.whiteSpace = \"pre-wrap\";\n        content.style.backgroundColor = \"rgb(255, 221, 221)\";\n        content.textContent = error.stack ?? error.toString();\n        wrapper.append(content);\n        el.append(wrapper);\n      }\n    } else if (Date.now() < root._bokeh_timeout) {\n      setTimeout(() => display_loaded(error), 100);\n    }\n  }\n\n  function run_callbacks() {\n    try {\n      root._bokeh_onload_callbacks.forEach(function(callback) {\n        if (callback != null)\n          callback();\n      });\n    } finally {\n      delete root._bokeh_onload_callbacks\n    }\n    console.debug(\"Bokeh: all callbacks have finished\");\n  }\n\n  function load_libs(css_urls, js_urls, callback) {\n    if (css_urls == null) css_urls = [];\n    if (js_urls == null) js_urls = [];\n\n    root._bokeh_onload_callbacks.push(callback);\n    if (root._bokeh_is_loading > 0) {\n      console.debug(\"Bokeh: BokehJS is being loaded, scheduling callback at\", now());\n      return null;\n    }\n    if (js_urls == null || js_urls.length === 0) {\n      run_callbacks();\n      return null;\n    }\n    console.debug(\"Bokeh: BokehJS not loaded, scheduling load and callback at\", now());\n    root._bokeh_is_loading = css_urls.length + js_urls.length;\n\n    function on_load() {\n      root._bokeh_is_loading--;\n      if (root._bokeh_is_loading === 0) {\n        console.debug(\"Bokeh: all BokehJS libraries/stylesheets loaded\");\n        run_callbacks()\n      }\n    }\n\n    function on_error(url) {\n      console.error(\"failed to load \" + url);\n    }\n\n    for (let i = 0; i < css_urls.length; i++) {\n      const url = css_urls[i];\n      const element = document.createElement(\"link\");\n      element.onload = on_load;\n      element.onerror = on_error.bind(null, url);\n      element.rel = \"stylesheet\";\n      element.type = \"text/css\";\n      element.href = url;\n      console.debug(\"Bokeh: injecting link tag for BokehJS stylesheet: \", url);\n      document.body.appendChild(element);\n    }\n\n    for (let i = 0; i < js_urls.length; i++) {\n      const url = js_urls[i];\n      const element = document.createElement('script');\n      element.onload = on_load;\n      element.onerror = on_error.bind(null, url);\n      element.async = false;\n      element.src = url;\n      console.debug(\"Bokeh: injecting script tag for BokehJS library: \", url);\n      document.head.appendChild(element);\n    }\n  };\n\n  function inject_raw_css(css) {\n    const element = document.createElement(\"style\");\n    element.appendChild(document.createTextNode(css));\n    document.body.appendChild(element);\n  }\n\n  const js_urls = [\"https://cdn.bokeh.org/bokeh/release/bokeh-3.5.0.min.js\", \"https://cdn.bokeh.org/bokeh/release/bokeh-gl-3.5.0.min.js\", \"https://cdn.bokeh.org/bokeh/release/bokeh-widgets-3.5.0.min.js\", \"https://cdn.bokeh.org/bokeh/release/bokeh-tables-3.5.0.min.js\", \"https://cdn.bokeh.org/bokeh/release/bokeh-mathjax-3.5.0.min.js\"];\n  const css_urls = [];\n\n  const inline_js = [    function(Bokeh) {\n      Bokeh.set_log_level(\"info\");\n    },\nfunction(Bokeh) {\n    }\n  ];\n\n  function run_inline_js() {\n    if (root.Bokeh !== undefined || force === true) {\n      try {\n            for (let i = 0; i < inline_js.length; i++) {\n      inline_js[i].call(root, root.Bokeh);\n    }\n\n      } catch (error) {display_loaded(error);throw error;\n      }if (force === true) {\n        display_loaded();\n      }} else if (Date.now() < root._bokeh_timeout) {\n      setTimeout(run_inline_js, 100);\n    } else if (!root._bokeh_failed_load) {\n      console.log(\"Bokeh: BokehJS failed to load within specified timeout.\");\n      root._bokeh_failed_load = true;\n    } else if (force !== true) {\n      const cell = $(document.getElementById(\"eb90f958-c0f4-457e-a3e4-1338bb2ec208\")).parents('.cell').data().cell;\n      cell.output_area.append_execute_result(NB_LOAD_WARNING)\n    }\n  }\n\n  if (root._bokeh_is_loading === 0) {\n    console.debug(\"Bokeh: BokehJS loaded, going straight to plotting\");\n    run_inline_js();\n  } else {\n    load_libs(css_urls, js_urls, function() {\n      console.debug(\"Bokeh: BokehJS plotting callback run at\", now());\n      run_inline_js();\n    });\n  }\n}(window));",
      "application/vnd.bokehjs_load.v0+json": ""
     },
     "metadata": {},
     "output_type": "display_data"
    },
    {
     "data": {
      "text/html": [
       "\n",
       "  <div id=\"e89fa1df-e7da-4052-b32f-8151c5a05d3b\" data-root-id=\"p1001\" style=\"display: contents;\"></div>\n"
      ]
     },
     "metadata": {},
     "output_type": "display_data"
    },
    {
     "data": {
      "application/javascript": "(function(root) {\n  function embed_document(root) {\n  const docs_json = {\"dcaa7e35-3c8f-4852-9694-af868aaed86a\":{\"version\":\"3.5.0\",\"title\":\"Bokeh Application\",\"roots\":[{\"type\":\"object\",\"name\":\"Figure\",\"id\":\"p1001\",\"attributes\":{\"width\":800,\"x_range\":{\"type\":\"object\",\"name\":\"DataRange1d\",\"id\":\"p1002\"},\"y_range\":{\"type\":\"object\",\"name\":\"DataRange1d\",\"id\":\"p1003\"},\"x_scale\":{\"type\":\"object\",\"name\":\"LinearScale\",\"id\":\"p1011\"},\"y_scale\":{\"type\":\"object\",\"name\":\"LinearScale\",\"id\":\"p1012\"},\"title\":{\"type\":\"object\",\"name\":\"Title\",\"id\":\"p1004\",\"attributes\":{\"text\":\"Curva Tens\\u00e3o por Corrente\"}},\"renderers\":[{\"type\":\"object\",\"name\":\"GlyphRenderer\",\"id\":\"p1042\",\"attributes\":{\"data_source\":{\"type\":\"object\",\"name\":\"ColumnDataSource\",\"id\":\"p1036\",\"attributes\":{\"selected\":{\"type\":\"object\",\"name\":\"Selection\",\"id\":\"p1037\",\"attributes\":{\"indices\":[],\"line_indices\":[]}},\"selection_policy\":{\"type\":\"object\",\"name\":\"UnionRenderers\",\"id\":\"p1038\"},\"data\":{\"type\":\"map\",\"entries\":[[\"x\",{\"type\":\"ndarray\",\"array\":{\"type\":\"bytes\",\"data\":\"AAAAAAAAAAB7FK5H4XqEP3sUrkfhepQ/uB6F61G4nj97FK5H4XqkP5qZmZmZmak/uB6F61G4rj/sUbgeheuxP3sUrkfherQ/CtejcD0Ktz+amZmZmZm5Pylcj8L1KLw/uB6F61G4vj+kcD0K16PAP+xRuB6F68E/MzMzMzMzwz97FK5H4XrEP8P1KFyPwsU/CtejcD0Kxz9SuB6F61HIP5qZmZmZmck/4XoUrkfhyj8pXI/C9SjMP3E9CtejcM0/uB6F61G4zj8AAAAAAADQP6RwPQrXo9A/SOF6FK5H0T/sUbgehevRP4/C9Shcj9I/MzMzMzMz0z/Xo3A9CtfTP3sUrkfhetQ/H4XrUbge1T/D9Shcj8LVP2ZmZmZmZtY/CtejcD0K1z+uR+F6FK7XP1K4HoXrUdg/9ihcj8L12D+amZmZmZnZPz0K16NwPdo/4XoUrkfh2j+F61G4HoXbPylcj8L1KNw/zczMzMzM3D9xPQrXo3DdPxSuR+F6FN4/uB6F61G43j9cj8L1KFzfPwAAAAAAAOA/UrgehetR4D+kcD0K16PgP/YoXI/C9eA/SOF6FK5H4T+amZmZmZnhP+xRuB6F6+E/PQrXo3A94j+PwvUoXI/iP+F6FK5H4eI/MzMzMzMz4z+F61G4HoXjP9ejcD0K1+M/KVyPwvUo5D97FK5H4XrkPw==\"},\"shape\":[65],\"dtype\":\"float64\",\"order\":\"little\"}],[\"y\",{\"type\":\"ndarray\",\"array\":{\"type\":\"bytes\",\"data\":\"SkG3lzRGsz9VwaikTkCzP5bP8jy4O7M/6KT3ja89sz9fQZqxaDqzPw1slWBxOLM/vJaQD3o2sz+FCDiEKjWzPzMzMzMzM7M//aTap+Mxsz+QiCmRRC+zPz6zJEBNLbM/ByXMtP0rsz/uJY3ROqqyv557D5ccd7K/sVBrmnecsr9wQiECDqGyv7FQa5p3nLK/xlBOtKuQsr9OtKuQ8pOyvyKmRBK9jLK/1xcJbTmXsr87wmnBi76yv8L6P4f58rK/f95UpMLYsr+U3je+9syyv+WzPA/uzrK/C3va4a/Jsr8ge737472yvyfChqdXyrK/IHu9++O9sr87wmnBi76yv5pC5zV2ibK/ptB5jV2isr+Nl24Sg8Cyv1Lt0/GYgbK/21Axzt+Esr9sJt9sc2Oyv1UYWwhyULK/B3x+GCE8sr/wiuB/K9mxv4enV8oyxLG/1m670Fynsb+3C811Gmmxv662Yn/ZPbG/hNOCF30Fsb/G4cyv5gCxv/yp8dJNYrC/skY9RKM7sL/nAMEcPX6vv+I7MevFUK6/UwWjkjoBrb8kl/+QfvuqvzG2EOSghKm/Uiy3tBoSp788MevFUE6kv0wao3VUNaG/iXssfeiCmr/sF+yGbYuSv3r83qY/+4G/H6LRHcTOVD9Wfa62Yn+JP/59xoUDIZk/YU87/DVZoz94tHHEWnyqPw==\"},\"shape\":[65],\"dtype\":\"float64\",\"order\":\"little\"}]]}}},\"view\":{\"type\":\"object\",\"name\":\"CDSView\",\"id\":\"p1043\",\"attributes\":{\"filter\":{\"type\":\"object\",\"name\":\"AllIndices\",\"id\":\"p1044\"}}},\"glyph\":{\"type\":\"object\",\"name\":\"Scatter\",\"id\":\"p1039\",\"attributes\":{\"x\":{\"type\":\"field\",\"field\":\"x\"},\"y\":{\"type\":\"field\",\"field\":\"y\"},\"size\":{\"type\":\"value\",\"value\":10},\"line_color\":{\"type\":\"value\",\"value\":\"navy\"},\"line_alpha\":{\"type\":\"value\",\"value\":0.4},\"fill_color\":{\"type\":\"value\",\"value\":\"navy\"},\"fill_alpha\":{\"type\":\"value\",\"value\":0.4},\"hatch_color\":{\"type\":\"value\",\"value\":\"navy\"},\"hatch_alpha\":{\"type\":\"value\",\"value\":0.4}}},\"nonselection_glyph\":{\"type\":\"object\",\"name\":\"Scatter\",\"id\":\"p1040\",\"attributes\":{\"x\":{\"type\":\"field\",\"field\":\"x\"},\"y\":{\"type\":\"field\",\"field\":\"y\"},\"size\":{\"type\":\"value\",\"value\":10},\"line_color\":{\"type\":\"value\",\"value\":\"navy\"},\"line_alpha\":{\"type\":\"value\",\"value\":0.1},\"fill_color\":{\"type\":\"value\",\"value\":\"navy\"},\"fill_alpha\":{\"type\":\"value\",\"value\":0.1},\"hatch_color\":{\"type\":\"value\",\"value\":\"navy\"},\"hatch_alpha\":{\"type\":\"value\",\"value\":0.1}}},\"muted_glyph\":{\"type\":\"object\",\"name\":\"Scatter\",\"id\":\"p1041\",\"attributes\":{\"x\":{\"type\":\"field\",\"field\":\"x\"},\"y\":{\"type\":\"field\",\"field\":\"y\"},\"size\":{\"type\":\"value\",\"value\":10},\"line_color\":{\"type\":\"value\",\"value\":\"navy\"},\"line_alpha\":{\"type\":\"value\",\"value\":0.2},\"fill_color\":{\"type\":\"value\",\"value\":\"navy\"},\"fill_alpha\":{\"type\":\"value\",\"value\":0.2},\"hatch_color\":{\"type\":\"value\",\"value\":\"navy\"},\"hatch_alpha\":{\"type\":\"value\",\"value\":0.2}}}}},{\"type\":\"object\",\"name\":\"GlyphRenderer\",\"id\":\"p1051\",\"attributes\":{\"data_source\":{\"type\":\"object\",\"name\":\"ColumnDataSource\",\"id\":\"p1045\",\"attributes\":{\"selected\":{\"type\":\"object\",\"name\":\"Selection\",\"id\":\"p1046\",\"attributes\":{\"indices\":[],\"line_indices\":[]}},\"selection_policy\":{\"type\":\"object\",\"name\":\"UnionRenderers\",\"id\":\"p1047\"},\"data\":{\"type\":\"map\",\"entries\":[[\"x\",{\"type\":\"ndarray\",\"array\":{\"type\":\"bytes\",\"data\":\"AAAAAAAAAAB7FK5H4XqEP3sUrkfhepQ/uB6F61G4nj97FK5H4XqkP5qZmZmZmak/uB6F61G4rj/sUbgeheuxP3sUrkfherQ/CtejcD0Ktz+amZmZmZm5Pylcj8L1KLw/uB6F61G4vj+kcD0K16PAP+xRuB6F68E/MzMzMzMzwz97FK5H4XrEP8P1KFyPwsU/CtejcD0Kxz9SuB6F61HIP5qZmZmZmck/4XoUrkfhyj8pXI/C9SjMP3E9CtejcM0/uB6F61G4zj8AAAAAAADQP6RwPQrXo9A/SOF6FK5H0T/sUbgehevRP4/C9Shcj9I/MzMzMzMz0z/Xo3A9CtfTP3sUrkfhetQ/H4XrUbge1T/D9Shcj8LVP2ZmZmZmZtY/CtejcD0K1z+uR+F6FK7XP1K4HoXrUdg/9ihcj8L12D+amZmZmZnZPz0K16NwPdo/4XoUrkfh2j+F61G4HoXbPylcj8L1KNw/zczMzMzM3D9xPQrXo3DdPxSuR+F6FN4/uB6F61G43j9cj8L1KFzfPwAAAAAAAOA/UrgehetR4D+kcD0K16PgP/YoXI/C9eA/SOF6FK5H4T+amZmZmZnhP+xRuB6F6+E/PQrXo3A94j+PwvUoXI/iP+F6FK5H4eI/MzMzMzMz4z+F61G4HoXjP9ejcD0K1+M/KVyPwvUo5D97FK5H4XrkPw==\"},\"shape\":[65],\"dtype\":\"float64\",\"order\":\"little\"}],[\"y\",{\"type\":\"ndarray\",\"array\":{\"type\":\"bytes\",\"data\":\"SkG3lzRGsz9VwaikTkCzP5bP8jy4O7M/6KT3ja89sz9fQZqxaDqzPw1slWBxOLM/vJaQD3o2sz+FCDiEKjWzPzMzMzMzM7M//aTap+Mxsz+QiCmRRC+zPz6zJEBNLbM/ByXMtP0rsz/uJY3ROqqyv557D5ccd7K/sVBrmnecsr9wQiECDqGyv7FQa5p3nLK/xlBOtKuQsr9OtKuQ8pOyvyKmRBK9jLK/1xcJbTmXsr87wmnBi76yv8L6P4f58rK/f95UpMLYsr+U3je+9syyv+WzPA/uzrK/C3va4a/Jsr8ge737472yvyfChqdXyrK/IHu9++O9sr87wmnBi76yv5pC5zV2ibK/ptB5jV2isr+Nl24Sg8Cyv1Lt0/GYgbK/21Axzt+Esr9sJt9sc2Oyv1UYWwhyULK/B3x+GCE8sr/wiuB/K9mxv4enV8oyxLG/1m670Fynsb+3C811Gmmxv662Yn/ZPbG/hNOCF30Fsb/G4cyv5gCxv/yp8dJNYrC/skY9RKM7sL/nAMEcPX6vv+I7MevFUK6/UwWjkjoBrb8kl/+QfvuqvzG2EOSghKm/Uiy3tBoSp788MevFUE6kv0wao3VUNaG/iXssfeiCmr/sF+yGbYuSv3r83qY/+4G/H6LRHcTOVD9Wfa62Yn+JP/59xoUDIZk/YU87/DVZoz94tHHEWnyqPw==\"},\"shape\":[65],\"dtype\":\"float64\",\"order\":\"little\"}]]}}},\"view\":{\"type\":\"object\",\"name\":\"CDSView\",\"id\":\"p1052\",\"attributes\":{\"filter\":{\"type\":\"object\",\"name\":\"AllIndices\",\"id\":\"p1053\"}}},\"glyph\":{\"type\":\"object\",\"name\":\"Line\",\"id\":\"p1048\",\"attributes\":{\"x\":{\"type\":\"field\",\"field\":\"x\"},\"y\":{\"type\":\"field\",\"field\":\"y\"},\"line_color\":\"#1f77b4\",\"line_width\":2}},\"nonselection_glyph\":{\"type\":\"object\",\"name\":\"Line\",\"id\":\"p1049\",\"attributes\":{\"x\":{\"type\":\"field\",\"field\":\"x\"},\"y\":{\"type\":\"field\",\"field\":\"y\"},\"line_color\":\"#1f77b4\",\"line_alpha\":0.1,\"line_width\":2}},\"muted_glyph\":{\"type\":\"object\",\"name\":\"Line\",\"id\":\"p1050\",\"attributes\":{\"x\":{\"type\":\"field\",\"field\":\"x\"},\"y\":{\"type\":\"field\",\"field\":\"y\"},\"line_color\":\"#1f77b4\",\"line_alpha\":0.2,\"line_width\":2}}}}],\"toolbar\":{\"type\":\"object\",\"name\":\"Toolbar\",\"id\":\"p1010\",\"attributes\":{\"tools\":[{\"type\":\"object\",\"name\":\"PanTool\",\"id\":\"p1023\"},{\"type\":\"object\",\"name\":\"WheelZoomTool\",\"id\":\"p1024\",\"attributes\":{\"renderers\":\"auto\"}},{\"type\":\"object\",\"name\":\"BoxZoomTool\",\"id\":\"p1025\",\"attributes\":{\"overlay\":{\"type\":\"object\",\"name\":\"BoxAnnotation\",\"id\":\"p1026\",\"attributes\":{\"syncable\":false,\"line_color\":\"black\",\"line_alpha\":1.0,\"line_width\":2,\"line_dash\":[4,4],\"fill_color\":\"lightgrey\",\"fill_alpha\":0.5,\"level\":\"overlay\",\"visible\":false,\"left\":{\"type\":\"number\",\"value\":\"nan\"},\"right\":{\"type\":\"number\",\"value\":\"nan\"},\"top\":{\"type\":\"number\",\"value\":\"nan\"},\"bottom\":{\"type\":\"number\",\"value\":\"nan\"},\"left_units\":\"canvas\",\"right_units\":\"canvas\",\"top_units\":\"canvas\",\"bottom_units\":\"canvas\",\"handles\":{\"type\":\"object\",\"name\":\"BoxInteractionHandles\",\"id\":\"p1032\",\"attributes\":{\"all\":{\"type\":\"object\",\"name\":\"AreaVisuals\",\"id\":\"p1031\",\"attributes\":{\"fill_color\":\"white\",\"hover_fill_color\":\"lightgray\"}}}}}}}},{\"type\":\"object\",\"name\":\"SaveTool\",\"id\":\"p1033\"},{\"type\":\"object\",\"name\":\"ResetTool\",\"id\":\"p1034\"},{\"type\":\"object\",\"name\":\"HelpTool\",\"id\":\"p1035\"},{\"type\":\"object\",\"name\":\"HoverTool\",\"id\":\"p1056\",\"attributes\":{\"renderers\":\"auto\",\"tooltips\":[[\"X\",\"@x\"],[\"Y\",\"@y\"]]}}]}},\"left\":[{\"type\":\"object\",\"name\":\"LinearAxis\",\"id\":\"p1018\",\"attributes\":{\"ticker\":{\"type\":\"object\",\"name\":\"BasicTicker\",\"id\":\"p1019\",\"attributes\":{\"mantissas\":[1,2,5]}},\"formatter\":{\"type\":\"object\",\"name\":\"BasicTickFormatter\",\"id\":\"p1020\"},\"axis_label\":\"Corrente\",\"major_label_policy\":{\"type\":\"object\",\"name\":\"AllLabels\",\"id\":\"p1021\"}}}],\"below\":[{\"type\":\"object\",\"name\":\"LinearAxis\",\"id\":\"p1013\",\"attributes\":{\"ticker\":{\"type\":\"object\",\"name\":\"BasicTicker\",\"id\":\"p1014\",\"attributes\":{\"mantissas\":[1,2,5]}},\"formatter\":{\"type\":\"object\",\"name\":\"BasicTickFormatter\",\"id\":\"p1015\"},\"axis_label\":\"Tens\\u00e3o\",\"major_label_policy\":{\"type\":\"object\",\"name\":\"AllLabels\",\"id\":\"p1016\"}}}],\"center\":[{\"type\":\"object\",\"name\":\"Grid\",\"id\":\"p1017\",\"attributes\":{\"axis\":{\"id\":\"p1013\"}}},{\"type\":\"object\",\"name\":\"Grid\",\"id\":\"p1022\",\"attributes\":{\"dimension\":1,\"axis\":{\"id\":\"p1018\"}}},{\"type\":\"object\",\"name\":\"Legend\",\"id\":\"p1054\",\"attributes\":{\"items\":[{\"type\":\"object\",\"name\":\"LegendItem\",\"id\":\"p1055\",\"attributes\":{\"label\":{\"type\":\"value\",\"value\":\"Curva\"},\"renderers\":[{\"id\":\"p1051\"}]}}]}}]}}]}};\n  const render_items = [{\"docid\":\"dcaa7e35-3c8f-4852-9694-af868aaed86a\",\"roots\":{\"p1001\":\"e89fa1df-e7da-4052-b32f-8151c5a05d3b\"},\"root_ids\":[\"p1001\"]}];\n  void root.Bokeh.embed.embed_items_notebook(docs_json, render_items);\n  }\n  if (root.Bokeh !== undefined) {\n    embed_document(root);\n  } else {\n    let attempts = 0;\n    const timer = setInterval(function(root) {\n      if (root.Bokeh !== undefined) {\n        clearInterval(timer);\n        embed_document(root);\n      } else {\n        attempts++;\n        if (attempts > 100) {\n          clearInterval(timer);\n          console.log(\"Bokeh: ERROR: Unable to run BokehJS code because BokehJS library is missing\");\n        }\n      }\n    }, 10, root)\n  }\n})(window);",
      "application/vnd.bokehjs_exec.v0+json": ""
     },
     "metadata": {
      "application/vnd.bokehjs_exec.v0+json": {
       "id": "p1001"
      }
     },
     "output_type": "display_data"
    }
   ],
   "source": [
    "axDf =  dff.loc[dff['Irradiação']==800].loc[dff['Temperatura']==30].loc[dff['Ocorrência']==10]\n",
    "\n",
    "x = axDf['Tensão(V)']\n",
    "y = axDf['Corrente(A)']\n",
    "\n",
    "# source = ColumnDataSource(data=dict(x=x, y=y))\n",
    "\n",
    "output_notebook()\n",
    "\n",
    "p = figure(title=\"Curva Tensão por Corrente\", x_axis_label='Tensão', y_axis_label='Corrente',  width=800, height=600)\n",
    "\n",
    "p.scatter(x, y, size=10, color=\"navy\", alpha=0.4)\n",
    "p.line(x, y, legend_label=\"Curva\", line_width=2)\n",
    "\n",
    "hover = HoverTool()\n",
    "hover.tooltips = [\n",
    "    (\"X\", \"@x\"),\n",
    "    (\"Y\", \"@y\")\n",
    "]\n",
    "p.add_tools(hover)\n",
    "\n",
    "\n",
    "show(p)\n",
    "\n",
    "\n"
   ]
  },
  {
   "cell_type": "markdown",
   "metadata": {},
   "source": [
    "<p>Foi possível identificar o ponto 0.13 como o ponto onde se inicia o erro, sendo igual nas três ocorrência\n",
    "<p> Iremos corrigir esse erro\n"
   ]
  },
  {
   "cell_type": "code",
   "execution_count": 38,
   "metadata": {},
   "outputs": [],
   "source": [
    "for i in [2,7,10]:\n",
    "    axDff = dff.loc[dff['Tensão(V)'] >= 0.13].loc[dff['Irradiação']==800].loc[dff['Temperatura']==30].loc[dff['Ocorrência']==i]\n",
    "    dff.iloc[axDff.index, 1] = axDff['Corrente(A)'] * (-1)"
   ]
  },
  {
   "cell_type": "code",
   "execution_count": 39,
   "metadata": {},
   "outputs": [
    {
     "data": {
      "text/plain": [
       "Text(0, 0.5, 'Corrente(A)')"
      ]
     },
     "execution_count": 39,
     "metadata": {},
     "output_type": "execute_result"
    },
    {
     "data": {
      "image/png": "[encoded data removed]",
      "text/plain": [
       "<Figure size 640x480 with 1 Axes>"
      ]
     },
     "metadata": {},
     "output_type": "display_data"
    }
   ],
   "source": [
    "fig, ax = plt.subplots()\n",
    "\n",
    "ax.plot(dff.loc[dff['Irradiação']==800].loc[dff['Temperatura']==30].loc[dff['Ocorrência']==2]['Corrente(A)'], label = 'Dados com problema ocorrencia 2')\n",
    "ax.plot(dff.loc[dff['Irradiação']==800].loc[dff['Temperatura']==30].loc[dff['Ocorrência']==7]['Corrente(A)'], label = 'Dados com problema ocorrencia 7')\n",
    "ax.plot(dff.loc[dff['Irradiação']==800].loc[dff['Temperatura']==30].loc[dff['Ocorrência']==10]['Corrente(A)'], label = 'Dados com problema ocorrencia 10')\n",
    "ax.plot(dff.loc[dff['Irradiação']==800].loc[dff['Temperatura']==30].loc[dff['Ocorrência']==3]['Corrente(A)'], label = 'Dados Corretos')\n",
    "\n",
    "ax.legend(bbox_to_anchor=(1.05, 1), loc='upper left')\n",
    "\n",
    "ax.set_title('Corrente')\n",
    "ax.set_xlabel('Frequência dos dados')\n",
    "ax.set_ylabel('Corrente(A)') "
   ]
  },
  {
   "cell_type": "code",
   "execution_count": 40,
   "metadata": {},
   "outputs": [
    {
     "data": {
      "text/plain": [
       "Irradiação\n",
       "1000    70\n",
       "600     70\n",
       "700     70\n",
       "800     70\n",
       "900     70\n",
       "Name: count, dtype: int64"
      ]
     },
     "execution_count": 40,
     "metadata": {},
     "output_type": "execute_result"
    }
   ],
   "source": [
    "dff.loc[dff['Tensão(V)'] == 0.64].loc[dff['Corrente(A)']<0]['Irradiação'].value_counts() # contagem das ocorrencias (tensão igual a zero e negativa) para cada irradiação  "
   ]
  },
  {
   "cell_type": "markdown",
   "metadata": {},
   "source": [
    "<p>Dados corrigidos"
   ]
  },
  {
   "cell_type": "markdown",
   "metadata": {},
   "source": [
    "++++++++++++++++++++++++++++++++++++++++++++++++++++++++++++++++++++++++++++++++++++++++++++++++++++++++++++++++++++++++++++++++++++++++++++++++++++++++++++++++++++++++++++++"
   ]
  },
  {
   "cell_type": "markdown",
   "metadata": {},
   "source": [
    "<h3>Ánalise estatística"
   ]
  },
  {
   "cell_type": "markdown",
   "metadata": {},
   "source": [
    "<p>Verificação de outlies "
   ]
  },
  {
   "cell_type": "markdown",
   "metadata": {},
   "source": [
    "<p> Usando a técnica do <strong>IQR</strong> para determinas quais pontos podem ser considerados como outliers.\n",
    "<p>Para isso vamos usar o seguinte passo:\n",
    "<ol>\n",
    "    <li>Agrupar os Dados por Irradiação, Temperatura e Tensão(V)\n",
    "    <li>Calcular Q1 (25º Percentil) e Q3 (75º Percentil)\n",
    "    <li>Calcular o IQR (Q3 - Q1)\n",
    "    <li>Determinar os Limites Inferior e Superior para Identificar Outliers\n",
    "    <li>Filtrar os Outliers"
   ]
  },
  {
   "cell_type": "code",
   "execution_count": 41,
   "metadata": {},
   "outputs": [
    {
     "name": "stderr",
     "output_type": "stream",
     "text": [
      "C:\\Users\\rodri\\AppData\\Local\\Temp\\ipykernel_23808\\4204213867.py:13: DeprecationWarning: DataFrameGroupBy.apply operated on the grouping columns. This behavior is deprecated, and in a future version of pandas the grouping columns will be excluded from the operation. Either pass `include_groups=False` to exclude the groupings or explicitly select the grouping columns after groupby to silence this warning.\n",
      "  outliers = grouped.apply(identificando_outliers).reset_index(drop=True)\n"
     ]
    }
   ],
   "source": [
    "grouped = dff.groupby(['Irradiação', 'Temperatura', 'Tensão(V)'])\n",
    "\n",
    "# Função para calcular IQR e identificar outliers\n",
    "def identificando_outliers(group):\n",
    "    Q1 = group['Corrente(A)'].quantile(0.25)\n",
    "    Q3 = group['Corrente(A)'].quantile(0.75)\n",
    "    IQR = Q3 - Q1\n",
    "    banda_inf = Q1 - 1.5 * IQR\n",
    "    banda_super = Q3 + 1.5 * IQR\n",
    "    return group[(group['Corrente(A)'] < banda_inf) | (group['Corrente(A)'] > banda_super)]\n",
    "\n",
    "# Aplicar a função a cada grupo\n",
    "outliers = grouped.apply(identificando_outliers).reset_index(drop=True)\n"
   ]
  },
  {
   "cell_type": "code",
   "execution_count": 42,
   "metadata": {},
   "outputs": [
    {
     "data": {
      "text/html": [
       "<div>\n",
       "<style scoped>\n",
       "    .dataframe tbody tr th:only-of-type {\n",
       "        vertical-align: middle;\n",
       "    }\n",
       "\n",
       "    .dataframe tbody tr th {\n",
       "        vertical-align: top;\n",
       "    }\n",
       "\n",
       "    .dataframe thead th {\n",
       "        text-align: right;\n",
       "    }\n",
       "</style>\n",
       "<table border=\"1\" class=\"dataframe\">\n",
       "  <thead>\n",
       "    <tr style=\"text-align: right;\">\n",
       "      <th></th>\n",
       "      <th>Tensão(V)</th>\n",
       "      <th>Corrente(A)</th>\n",
       "      <th>Irradiação</th>\n",
       "      <th>Temperatura</th>\n",
       "      <th>Ocorrência</th>\n",
       "    </tr>\n",
       "  </thead>\n",
       "  <tbody>\n",
       "    <tr>\n",
       "      <th>0</th>\n",
       "      <td>0.04</td>\n",
       "      <td>0.05417</td>\n",
       "      <td>600</td>\n",
       "      <td>25</td>\n",
       "      <td>2</td>\n",
       "    </tr>\n",
       "    <tr>\n",
       "      <th>1</th>\n",
       "      <td>0.20</td>\n",
       "      <td>0.05161</td>\n",
       "      <td>600</td>\n",
       "      <td>25</td>\n",
       "      <td>3</td>\n",
       "    </tr>\n",
       "    <tr>\n",
       "      <th>2</th>\n",
       "      <td>0.23</td>\n",
       "      <td>0.05400</td>\n",
       "      <td>600</td>\n",
       "      <td>25</td>\n",
       "      <td>2</td>\n",
       "    </tr>\n",
       "    <tr>\n",
       "      <th>3</th>\n",
       "      <td>0.23</td>\n",
       "      <td>0.05203</td>\n",
       "      <td>600</td>\n",
       "      <td>25</td>\n",
       "      <td>8</td>\n",
       "    </tr>\n",
       "    <tr>\n",
       "      <th>4</th>\n",
       "      <td>0.24</td>\n",
       "      <td>0.05159</td>\n",
       "      <td>600</td>\n",
       "      <td>25</td>\n",
       "      <td>8</td>\n",
       "    </tr>\n",
       "  </tbody>\n",
       "</table>\n",
       "</div>"
      ],
      "text/plain": [
       "   Tensão(V)  Corrente(A)  Irradiação  Temperatura  Ocorrência\n",
       "0       0.04      0.05417         600           25           2\n",
       "1       0.20      0.05161         600           25           3\n",
       "2       0.23      0.05400         600           25           2\n",
       "3       0.23      0.05203         600           25           8\n",
       "4       0.24      0.05159         600           25           8"
      ]
     },
     "execution_count": 42,
     "metadata": {},
     "output_type": "execute_result"
    }
   ],
   "source": [
    "outliers.head()"
   ]
  },
  {
   "cell_type": "markdown",
   "metadata": {},
   "source": [
    "<p>Corrigindo os outlies"
   ]
  },
  {
   "cell_type": "markdown",
   "metadata": {},
   "source": [
    "<p>Para corrigir esse valores de outliers da coluna corrente, calcularemos o valor da média de cada caso (para uma dada tensão, irradiação e temperatura) e substituiremos o valor considerado outlier pelo valor médio das 10 médidas</p>"
   ]
  },
  {
   "cell_type": "code",
   "execution_count": 43,
   "metadata": {},
   "outputs": [],
   "source": [
    "for j in range(outliers.shape[0]):\n",
    "\n",
    "    v, i, t, c = outliers[['Tensão(V)', 'Irradiação', 'Temperatura', 'Corrente(A)']].values[j]\n",
    "\n",
    "    media = dff.loc[dff['Tensão(V)'] ==v].loc[dff['Irradiação']==i].loc[dff['Temperatura']==t]['Corrente(A)'].mean()\n",
    "    index = dff.loc[dff['Tensão(V)'] ==v].loc[dff['Irradiação']==i].loc[dff['Temperatura']==t].loc[dff['Corrente(A)']==c].index\n",
    "\n",
    "    dff.iloc[index, 1] = media # coluna de index = 1 que representa a coluna corrente(A) \n"
   ]
  },
  {
   "cell_type": "markdown",
   "metadata": {},
   "source": [
    "<p>Consultando para verificar se correções</p>"
   ]
  },
  {
   "cell_type": "code",
   "execution_count": 44,
   "metadata": {},
   "outputs": [
    {
     "data": {
      "text/html": [
       "<div>\n",
       "<style scoped>\n",
       "    .dataframe tbody tr th:only-of-type {\n",
       "        vertical-align: middle;\n",
       "    }\n",
       "\n",
       "    .dataframe tbody tr th {\n",
       "        vertical-align: top;\n",
       "    }\n",
       "\n",
       "    .dataframe thead th {\n",
       "        text-align: right;\n",
       "    }\n",
       "</style>\n",
       "<table border=\"1\" class=\"dataframe\">\n",
       "  <thead>\n",
       "    <tr style=\"text-align: right;\">\n",
       "      <th></th>\n",
       "      <th>Tensão(V)</th>\n",
       "      <th>Corrente(A)</th>\n",
       "      <th>Irradiação</th>\n",
       "      <th>Temperatura</th>\n",
       "      <th>Ocorrência</th>\n",
       "    </tr>\n",
       "  </thead>\n",
       "  <tbody>\n",
       "    <tr>\n",
       "      <th>4</th>\n",
       "      <td>0.24</td>\n",
       "      <td>0.05159</td>\n",
       "      <td>600</td>\n",
       "      <td>25</td>\n",
       "      <td>8</td>\n",
       "    </tr>\n",
       "  </tbody>\n",
       "</table>\n",
       "</div>"
      ],
      "text/plain": [
       "   Tensão(V)  Corrente(A)  Irradiação  Temperatura  Ocorrência\n",
       "4       0.24      0.05159         600           25           8"
      ]
     },
     "execution_count": 44,
     "metadata": {},
     "output_type": "execute_result"
    }
   ],
   "source": [
    "outliers.loc[outliers['Tensão(V)'] ==0.24].loc[outliers['Irradiação']==600].loc[outliers['Temperatura']==25].loc[outliers['Ocorrência']==8]"
   ]
  },
  {
   "cell_type": "code",
   "execution_count": 45,
   "metadata": {},
   "outputs": [
    {
     "data": {
      "text/html": [
       "<div>\n",
       "<style scoped>\n",
       "    .dataframe tbody tr th:only-of-type {\n",
       "        vertical-align: middle;\n",
       "    }\n",
       "\n",
       "    .dataframe tbody tr th {\n",
       "        vertical-align: top;\n",
       "    }\n",
       "\n",
       "    .dataframe thead th {\n",
       "        text-align: right;\n",
       "    }\n",
       "</style>\n",
       "<table border=\"1\" class=\"dataframe\">\n",
       "  <thead>\n",
       "    <tr style=\"text-align: right;\">\n",
       "      <th></th>\n",
       "      <th>Tensão(V)</th>\n",
       "      <th>Corrente(A)</th>\n",
       "      <th>Irradiação</th>\n",
       "      <th>Temperatura</th>\n",
       "      <th>Ocorrência</th>\n",
       "    </tr>\n",
       "  </thead>\n",
       "  <tbody>\n",
       "    <tr>\n",
       "      <th>5029</th>\n",
       "      <td>0.24</td>\n",
       "      <td>0.052924</td>\n",
       "      <td>600</td>\n",
       "      <td>25</td>\n",
       "      <td>8</td>\n",
       "    </tr>\n",
       "  </tbody>\n",
       "</table>\n",
       "</div>"
      ],
      "text/plain": [
       "      Tensão(V)  Corrente(A)  Irradiação  Temperatura  Ocorrência\n",
       "5029       0.24     0.052924         600           25           8"
      ]
     },
     "execution_count": 45,
     "metadata": {},
     "output_type": "execute_result"
    }
   ],
   "source": [
    "dff.loc[dff['Tensão(V)'] ==0.24].loc[dff['Irradiação']==600].loc[dff['Temperatura']==25].loc[dff['Ocorrência']==8]"
   ]
  },
  {
   "cell_type": "markdown",
   "metadata": {},
   "source": [
    "<p>Os outlies foram corrigidos"
   ]
  },
  {
   "cell_type": "markdown",
   "metadata": {},
   "source": [
    "++++++++++++++++++++++++++++++++++++++++++++++++++++++++++++++++++++++++++++++++++++++++++++++++++++++++++++++++++++++++++++++++++++++++++++++++++++++++++++++++++++++++"
   ]
  },
  {
   "cell_type": "markdown",
   "metadata": {},
   "source": [
    "<h3>Treinando a Rede neural \n",
    "<h5>O obejetivo de encontrar a corrente para uma determinada tensão, temperarura e irradiância"
   ]
  },
  {
   "cell_type": "code",
   "execution_count": 46,
   "metadata": {},
   "outputs": [
    {
     "data": {
      "text/html": [
       "<div>\n",
       "<style scoped>\n",
       "    .dataframe tbody tr th:only-of-type {\n",
       "        vertical-align: middle;\n",
       "    }\n",
       "\n",
       "    .dataframe tbody tr th {\n",
       "        vertical-align: top;\n",
       "    }\n",
       "\n",
       "    .dataframe thead th {\n",
       "        text-align: right;\n",
       "    }\n",
       "</style>\n",
       "<table border=\"1\" class=\"dataframe\">\n",
       "  <thead>\n",
       "    <tr style=\"text-align: right;\">\n",
       "      <th></th>\n",
       "      <th>Tensão(V)</th>\n",
       "      <th>Corrente(A)</th>\n",
       "      <th>Irradiação</th>\n",
       "      <th>Temperatura</th>\n",
       "      <th>Ocorrência</th>\n",
       "    </tr>\n",
       "  </thead>\n",
       "  <tbody>\n",
       "    <tr>\n",
       "      <th>count</th>\n",
       "      <td>22751.000000</td>\n",
       "      <td>22751.000000</td>\n",
       "      <td>22751.000000</td>\n",
       "      <td>22751.00000</td>\n",
       "      <td>22751.000000</td>\n",
       "    </tr>\n",
       "    <tr>\n",
       "      <th>mean</th>\n",
       "      <td>0.319991</td>\n",
       "      <td>0.055424</td>\n",
       "      <td>800.000000</td>\n",
       "      <td>39.99956</td>\n",
       "      <td>5.500022</td>\n",
       "    </tr>\n",
       "    <tr>\n",
       "      <th>std</th>\n",
       "      <td>0.187621</td>\n",
       "      <td>0.043417</td>\n",
       "      <td>141.421356</td>\n",
       "      <td>10.00022</td>\n",
       "      <td>2.872283</td>\n",
       "    </tr>\n",
       "    <tr>\n",
       "      <th>min</th>\n",
       "      <td>0.000000</td>\n",
       "      <td>-0.213093</td>\n",
       "      <td>600.000000</td>\n",
       "      <td>25.00000</td>\n",
       "      <td>1.000000</td>\n",
       "    </tr>\n",
       "    <tr>\n",
       "      <th>25%</th>\n",
       "      <td>0.160000</td>\n",
       "      <td>0.051375</td>\n",
       "      <td>700.000000</td>\n",
       "      <td>30.00000</td>\n",
       "      <td>3.000000</td>\n",
       "    </tr>\n",
       "    <tr>\n",
       "      <th>50%</th>\n",
       "      <td>0.320000</td>\n",
       "      <td>0.062000</td>\n",
       "      <td>800.000000</td>\n",
       "      <td>40.00000</td>\n",
       "      <td>6.000000</td>\n",
       "    </tr>\n",
       "    <tr>\n",
       "      <th>75%</th>\n",
       "      <td>0.480000</td>\n",
       "      <td>0.084380</td>\n",
       "      <td>900.000000</td>\n",
       "      <td>50.00000</td>\n",
       "      <td>8.000000</td>\n",
       "    </tr>\n",
       "    <tr>\n",
       "      <th>max</th>\n",
       "      <td>0.640000</td>\n",
       "      <td>0.101250</td>\n",
       "      <td>1000.000000</td>\n",
       "      <td>55.00000</td>\n",
       "      <td>10.000000</td>\n",
       "    </tr>\n",
       "  </tbody>\n",
       "</table>\n",
       "</div>"
      ],
      "text/plain": [
       "          Tensão(V)   Corrente(A)    Irradiação  Temperatura    Ocorrência\n",
       "count  22751.000000  22751.000000  22751.000000  22751.00000  22751.000000\n",
       "mean       0.319991      0.055424    800.000000     39.99956      5.500022\n",
       "std        0.187621      0.043417    141.421356     10.00022      2.872283\n",
       "min        0.000000     -0.213093    600.000000     25.00000      1.000000\n",
       "25%        0.160000      0.051375    700.000000     30.00000      3.000000\n",
       "50%        0.320000      0.062000    800.000000     40.00000      6.000000\n",
       "75%        0.480000      0.084380    900.000000     50.00000      8.000000\n",
       "max        0.640000      0.101250   1000.000000     55.00000     10.000000"
      ]
     },
     "execution_count": 46,
     "metadata": {},
     "output_type": "execute_result"
    }
   ],
   "source": [
    "dff.describe()"
   ]
  },
  {
   "cell_type": "markdown",
   "metadata": {},
   "source": [
    "<p> A redes neurais são mais eficientes trabalhando com valores que ficam entre 0 e 1, sendo assim será necessários fazer algumas normalizações nos dados do dataframe\n",
    "<p> analisando cada coluna do dataframe: \n",
    "<ol>\n",
    "    <li> Tensão(v), range de valores de 0:0.64  -> normalizar, apesar de estar o intervalo de 0 a 1\n",
    "    <li> Corrente(A), range de valores de -0.213:0.101 -> normalizar, usando técnica minmaxscaler (<a href=https://scikit-learn.org/stable/modules/generated/sklearn.preprocessing.MinMaxScaler.html>sklearn</a>)\n",
    "    <li> Irradiação, range de valores de 600:1000 -> normalizar, usando técnica minmaxscaler (<a href=https://scikit-learn.org/stable/modules/generated/sklearn.preprocessing.MinMaxScaler.html>sklearn</a>)\n",
    "    <li> Temperatura, range de valores de 25:55 -> normalizar, usando técnica minmaxscaler (<a href=https://scikit-learn.org/stable/modules/generated/sklearn.preprocessing.MinMaxScaler.html>sklearn</a>)"
   ]
  },
  {
   "cell_type": "code",
   "execution_count": 47,
   "metadata": {},
   "outputs": [],
   "source": [
    "normalizador = MinMaxScaler()\n",
    "alvoNorm = MinMaxScaler()"
   ]
  },
  {
   "cell_type": "code",
   "execution_count": 48,
   "metadata": {},
   "outputs": [],
   "source": [
    "dfNorm = normalizador.fit_transform(dff.drop(['Corrente(A)','Ocorrência'], axis=1))"
   ]
  },
  {
   "cell_type": "code",
   "execution_count": 49,
   "metadata": {},
   "outputs": [],
   "source": [
    "dfNorm = pd.DataFrame(dfNorm, columns=['Tensão(V)', 'Irradiação', 'Temperatura']) # recostruido o dataframe"
   ]
  },
  {
   "cell_type": "code",
   "execution_count": 50,
   "metadata": {},
   "outputs": [],
   "source": [
    "dfNorm['Corrente(A)'] = alvoNorm.fit_transform(dff['Corrente(A)'].values.reshape(-1,1))"
   ]
  },
  {
   "cell_type": "code",
   "execution_count": 51,
   "metadata": {},
   "outputs": [
    {
     "data": {
      "text/html": [
       "<div>\n",
       "<style scoped>\n",
       "    .dataframe tbody tr th:only-of-type {\n",
       "        vertical-align: middle;\n",
       "    }\n",
       "\n",
       "    .dataframe tbody tr th {\n",
       "        vertical-align: top;\n",
       "    }\n",
       "\n",
       "    .dataframe thead th {\n",
       "        text-align: right;\n",
       "    }\n",
       "</style>\n",
       "<table border=\"1\" class=\"dataframe\">\n",
       "  <thead>\n",
       "    <tr style=\"text-align: right;\">\n",
       "      <th></th>\n",
       "      <th>Tensão(V)</th>\n",
       "      <th>Irradiação</th>\n",
       "      <th>Temperatura</th>\n",
       "      <th>Corrente(A)</th>\n",
       "    </tr>\n",
       "  </thead>\n",
       "  <tbody>\n",
       "    <tr>\n",
       "      <th>0</th>\n",
       "      <td>0.000000</td>\n",
       "      <td>1.00</td>\n",
       "      <td>0.0</td>\n",
       "      <td>0.997427</td>\n",
       "    </tr>\n",
       "    <tr>\n",
       "      <th>1</th>\n",
       "      <td>0.015625</td>\n",
       "      <td>1.00</td>\n",
       "      <td>0.0</td>\n",
       "      <td>0.994718</td>\n",
       "    </tr>\n",
       "    <tr>\n",
       "      <th>2</th>\n",
       "      <td>0.031250</td>\n",
       "      <td>1.00</td>\n",
       "      <td>0.0</td>\n",
       "      <td>0.994604</td>\n",
       "    </tr>\n",
       "    <tr>\n",
       "      <th>3</th>\n",
       "      <td>0.046875</td>\n",
       "      <td>1.00</td>\n",
       "      <td>0.0</td>\n",
       "      <td>0.995739</td>\n",
       "    </tr>\n",
       "    <tr>\n",
       "      <th>4</th>\n",
       "      <td>0.062500</td>\n",
       "      <td>1.00</td>\n",
       "      <td>0.0</td>\n",
       "      <td>0.993824</td>\n",
       "    </tr>\n",
       "    <tr>\n",
       "      <th>...</th>\n",
       "      <td>...</td>\n",
       "      <td>...</td>\n",
       "      <td>...</td>\n",
       "      <td>...</td>\n",
       "    </tr>\n",
       "    <tr>\n",
       "      <th>22746</th>\n",
       "      <td>0.937500</td>\n",
       "      <td>0.75</td>\n",
       "      <td>1.0</td>\n",
       "      <td>0.394734</td>\n",
       "    </tr>\n",
       "    <tr>\n",
       "      <th>22747</th>\n",
       "      <td>0.953125</td>\n",
       "      <td>0.75</td>\n",
       "      <td>1.0</td>\n",
       "      <td>0.323738</td>\n",
       "    </tr>\n",
       "    <tr>\n",
       "      <th>22748</th>\n",
       "      <td>0.968750</td>\n",
       "      <td>0.75</td>\n",
       "      <td>1.0</td>\n",
       "      <td>0.249335</td>\n",
       "    </tr>\n",
       "    <tr>\n",
       "      <th>22749</th>\n",
       "      <td>0.984375</td>\n",
       "      <td>0.75</td>\n",
       "      <td>1.0</td>\n",
       "      <td>0.171408</td>\n",
       "    </tr>\n",
       "    <tr>\n",
       "      <th>22750</th>\n",
       "      <td>1.000000</td>\n",
       "      <td>0.75</td>\n",
       "      <td>1.0</td>\n",
       "      <td>0.090140</td>\n",
       "    </tr>\n",
       "  </tbody>\n",
       "</table>\n",
       "<p>22751 rows × 4 columns</p>\n",
       "</div>"
      ],
      "text/plain": [
       "       Tensão(V)  Irradiação  Temperatura  Corrente(A)\n",
       "0       0.000000        1.00          0.0     0.997427\n",
       "1       0.015625        1.00          0.0     0.994718\n",
       "2       0.031250        1.00          0.0     0.994604\n",
       "3       0.046875        1.00          0.0     0.995739\n",
       "4       0.062500        1.00          0.0     0.993824\n",
       "...          ...         ...          ...          ...\n",
       "22746   0.937500        0.75          1.0     0.394734\n",
       "22747   0.953125        0.75          1.0     0.323738\n",
       "22748   0.968750        0.75          1.0     0.249335\n",
       "22749   0.984375        0.75          1.0     0.171408\n",
       "22750   1.000000        0.75          1.0     0.090140\n",
       "\n",
       "[22751 rows x 4 columns]"
      ]
     },
     "execution_count": 51,
     "metadata": {},
     "output_type": "execute_result"
    }
   ],
   "source": [
    "dfNorm"
   ]
  },
  {
   "cell_type": "markdown",
   "metadata": {},
   "source": [
    "<p> Divisão entres os dados previsores e os previsto</p>\n",
    "<ul>\n",
    "    <li> Previsores: Irradiação, Temperatura e Tensão</li>\n",
    "    <li> Previsto: Corrente</li>\n",
    "</ul>\n",
    "\n",
    "<p> Vamos separar um 20% dos dados para teste após o treinamento da rede neural</p>"
   ]
  },
  {
   "cell_type": "code",
   "execution_count": 52,
   "metadata": {},
   "outputs": [],
   "source": [
    "X_train, X_test, y_train, y_test = train_test_split(dfNorm.drop('Corrente(A)', axis=1), dfNorm['Corrente(A)'], test_size=0.2, random_state=4)"
   ]
  },
  {
   "cell_type": "code",
   "execution_count": 53,
   "metadata": {},
   "outputs": [
    {
     "data": {
      "text/plain": [
       "(3,)"
      ]
     },
     "execution_count": 53,
     "metadata": {},
     "output_type": "execute_result"
    }
   ],
   "source": [
    "X_train.iloc[0].shape"
   ]
  },
  {
   "cell_type": "markdown",
   "metadata": {},
   "source": [
    "<p>Construido a rede neural. Utilizaremos RNNs (Recurrent neural networks) dos tipos principais LSTM e GRU</p>\n",
    "\n",
    "<h3 style=color:red>Caso à rede já esteja teinada, pular para o passo \"carregando rede\"</h3>"
   ]
  },
  {
   "cell_type": "markdown",
   "metadata": {},
   "source": [
    "<a href=https://www.tensorflow.org/api_docs/python/tf/keras/layers/GRU>GRU</a>"
   ]
  },
  {
   "cell_type": "code",
   "execution_count": 162,
   "metadata": {},
   "outputs": [],
   "source": [
    "modelGRU = tf.keras.models.Sequential()\n",
    "\n",
    "modelGRU.add(tf.keras.Input(shape=(3,1)))\n",
    "\n",
    "modelGRU.add(tf.keras.layers.GRU(units=6, activation='tanh', recurrent_activation='sigmoid', return_sequences=True)) \n",
    "modelGRU.add(tf.keras.layers.GRU(units=6, activation='tanh', recurrent_activation='sigmoid', return_sequences=True)) #, dropout=0.1\n",
    "modelGRU.add(tf.keras.layers.Dense(units=18, activation='relu')) #9\n",
    "modelGRU.add(tf.keras.layers.Dropout(0.1))\n",
    "modelGRU.add(tf.keras.layers.GRU(units=6, activation='tanh', recurrent_activation='sigmoid',return_sequences=True))\n",
    "modelGRU.add(tf.keras.layers.GRU(units=6, activation='tanh', recurrent_activation='sigmoid'))\n",
    "\n",
    "\n",
    "modelGRU.add(tf.keras.layers.Dense(units = 1, activation = \"linear\"))\n",
    "\n",
    "modelGRU.compile(loss = tf.keras.losses.Huber(), optimizer = tf.keras.optimizers.Adam(), metrics=[tf.keras.metrics.R2Score()])"
   ]
  },
  {
   "cell_type": "code",
   "execution_count": 163,
   "metadata": {},
   "outputs": [
    {
     "data": {
      "text/html": [
       "<pre style=\"white-space:pre;overflow-x:auto;line-height:normal;font-family:Menlo,'DejaVu Sans Mono',consolas,'Courier New',monospace\"><span style=\"font-weight: bold\">Model: \"sequential_13\"</span>\n",
       "</pre>\n"
      ],
      "text/plain": [
       "\u001b[1mModel: \"sequential_13\"\u001b[0m\n"
      ]
     },
     "metadata": {},
     "output_type": "display_data"
    },
    {
     "data": {
      "text/html": [
       "<pre style=\"white-space:pre;overflow-x:auto;line-height:normal;font-family:Menlo,'DejaVu Sans Mono',consolas,'Courier New',monospace\">┏━━━━━━━━━━━━━━━━━━━━━━━━━━━━━━━━━┳━━━━━━━━━━━━━━━━━━━━━━━━┳━━━━━━━━━━━━━━━┓\n",
       "┃<span style=\"font-weight: bold\"> Layer (type)                    </span>┃<span style=\"font-weight: bold\"> Output Shape           </span>┃<span style=\"font-weight: bold\">       Param # </span>┃\n",
       "┡━━━━━━━━━━━━━━━━━━━━━━━━━━━━━━━━━╇━━━━━━━━━━━━━━━━━━━━━━━━╇━━━━━━━━━━━━━━━┩\n",
       "│ gru_40 (<span style=\"color: #0087ff; text-decoration-color: #0087ff\">GRU</span>)                    │ (<span style=\"color: #00d7ff; text-decoration-color: #00d7ff\">None</span>, <span style=\"color: #00af00; text-decoration-color: #00af00\">3</span>, <span style=\"color: #00af00; text-decoration-color: #00af00\">6</span>)           │           <span style=\"color: #00af00; text-decoration-color: #00af00\">162</span> │\n",
       "├─────────────────────────────────┼────────────────────────┼───────────────┤\n",
       "│ gru_41 (<span style=\"color: #0087ff; text-decoration-color: #0087ff\">GRU</span>)                    │ (<span style=\"color: #00d7ff; text-decoration-color: #00d7ff\">None</span>, <span style=\"color: #00af00; text-decoration-color: #00af00\">3</span>, <span style=\"color: #00af00; text-decoration-color: #00af00\">6</span>)           │           <span style=\"color: #00af00; text-decoration-color: #00af00\">252</span> │\n",
       "├─────────────────────────────────┼────────────────────────┼───────────────┤\n",
       "│ dense_25 (<span style=\"color: #0087ff; text-decoration-color: #0087ff\">Dense</span>)                │ (<span style=\"color: #00d7ff; text-decoration-color: #00d7ff\">None</span>, <span style=\"color: #00af00; text-decoration-color: #00af00\">3</span>, <span style=\"color: #00af00; text-decoration-color: #00af00\">18</span>)          │           <span style=\"color: #00af00; text-decoration-color: #00af00\">126</span> │\n",
       "├─────────────────────────────────┼────────────────────────┼───────────────┤\n",
       "│ dropout_11 (<span style=\"color: #0087ff; text-decoration-color: #0087ff\">Dropout</span>)            │ (<span style=\"color: #00d7ff; text-decoration-color: #00d7ff\">None</span>, <span style=\"color: #00af00; text-decoration-color: #00af00\">3</span>, <span style=\"color: #00af00; text-decoration-color: #00af00\">18</span>)          │             <span style=\"color: #00af00; text-decoration-color: #00af00\">0</span> │\n",
       "├─────────────────────────────────┼────────────────────────┼───────────────┤\n",
       "│ gru_42 (<span style=\"color: #0087ff; text-decoration-color: #0087ff\">GRU</span>)                    │ (<span style=\"color: #00d7ff; text-decoration-color: #00d7ff\">None</span>, <span style=\"color: #00af00; text-decoration-color: #00af00\">3</span>, <span style=\"color: #00af00; text-decoration-color: #00af00\">6</span>)           │           <span style=\"color: #00af00; text-decoration-color: #00af00\">468</span> │\n",
       "├─────────────────────────────────┼────────────────────────┼───────────────┤\n",
       "│ gru_43 (<span style=\"color: #0087ff; text-decoration-color: #0087ff\">GRU</span>)                    │ (<span style=\"color: #00d7ff; text-decoration-color: #00d7ff\">None</span>, <span style=\"color: #00af00; text-decoration-color: #00af00\">6</span>)              │           <span style=\"color: #00af00; text-decoration-color: #00af00\">252</span> │\n",
       "├─────────────────────────────────┼────────────────────────┼───────────────┤\n",
       "│ dense_26 (<span style=\"color: #0087ff; text-decoration-color: #0087ff\">Dense</span>)                │ (<span style=\"color: #00d7ff; text-decoration-color: #00d7ff\">None</span>, <span style=\"color: #00af00; text-decoration-color: #00af00\">1</span>)              │             <span style=\"color: #00af00; text-decoration-color: #00af00\">7</span> │\n",
       "└─────────────────────────────────┴────────────────────────┴───────────────┘\n",
       "</pre>\n"
      ],
      "text/plain": [
       "┏━━━━━━━━━━━━━━━━━━━━━━━━━━━━━━━━━┳━━━━━━━━━━━━━━━━━━━━━━━━┳━━━━━━━━━━━━━━━┓\n",
       "┃\u001b[1m \u001b[0m\u001b[1mLayer (type)                   \u001b[0m\u001b[1m \u001b[0m┃\u001b[1m \u001b[0m\u001b[1mOutput Shape          \u001b[0m\u001b[1m \u001b[0m┃\u001b[1m \u001b[0m\u001b[1m      Param #\u001b[0m\u001b[1m \u001b[0m┃\n",
       "┡━━━━━━━━━━━━━━━━━━━━━━━━━━━━━━━━━╇━━━━━━━━━━━━━━━━━━━━━━━━╇━━━━━━━━━━━━━━━┩\n",
       "│ gru_40 (\u001b[38;5;33mGRU\u001b[0m)                    │ (\u001b[38;5;45mNone\u001b[0m, \u001b[38;5;34m3\u001b[0m, \u001b[38;5;34m6\u001b[0m)           │           \u001b[38;5;34m162\u001b[0m │\n",
       "├─────────────────────────────────┼────────────────────────┼───────────────┤\n",
       "│ gru_41 (\u001b[38;5;33mGRU\u001b[0m)                    │ (\u001b[38;5;45mNone\u001b[0m, \u001b[38;5;34m3\u001b[0m, \u001b[38;5;34m6\u001b[0m)           │           \u001b[38;5;34m252\u001b[0m │\n",
       "├─────────────────────────────────┼────────────────────────┼───────────────┤\n",
       "│ dense_25 (\u001b[38;5;33mDense\u001b[0m)                │ (\u001b[38;5;45mNone\u001b[0m, \u001b[38;5;34m3\u001b[0m, \u001b[38;5;34m18\u001b[0m)          │           \u001b[38;5;34m126\u001b[0m │\n",
       "├─────────────────────────────────┼────────────────────────┼───────────────┤\n",
       "│ dropout_11 (\u001b[38;5;33mDropout\u001b[0m)            │ (\u001b[38;5;45mNone\u001b[0m, \u001b[38;5;34m3\u001b[0m, \u001b[38;5;34m18\u001b[0m)          │             \u001b[38;5;34m0\u001b[0m │\n",
       "├─────────────────────────────────┼────────────────────────┼───────────────┤\n",
       "│ gru_42 (\u001b[38;5;33mGRU\u001b[0m)                    │ (\u001b[38;5;45mNone\u001b[0m, \u001b[38;5;34m3\u001b[0m, \u001b[38;5;34m6\u001b[0m)           │           \u001b[38;5;34m468\u001b[0m │\n",
       "├─────────────────────────────────┼────────────────────────┼───────────────┤\n",
       "│ gru_43 (\u001b[38;5;33mGRU\u001b[0m)                    │ (\u001b[38;5;45mNone\u001b[0m, \u001b[38;5;34m6\u001b[0m)              │           \u001b[38;5;34m252\u001b[0m │\n",
       "├─────────────────────────────────┼────────────────────────┼───────────────┤\n",
       "│ dense_26 (\u001b[38;5;33mDense\u001b[0m)                │ (\u001b[38;5;45mNone\u001b[0m, \u001b[38;5;34m1\u001b[0m)              │             \u001b[38;5;34m7\u001b[0m │\n",
       "└─────────────────────────────────┴────────────────────────┴───────────────┘\n"
      ]
     },
     "metadata": {},
     "output_type": "display_data"
    },
    {
     "data": {
      "text/html": [
       "<pre style=\"white-space:pre;overflow-x:auto;line-height:normal;font-family:Menlo,'DejaVu Sans Mono',consolas,'Courier New',monospace\"><span style=\"font-weight: bold\"> Total params: </span><span style=\"color: #00af00; text-decoration-color: #00af00\">1,267</span> (4.95 KB)\n",
       "</pre>\n"
      ],
      "text/plain": [
       "\u001b[1m Total params: \u001b[0m\u001b[38;5;34m1,267\u001b[0m (4.95 KB)\n"
      ]
     },
     "metadata": {},
     "output_type": "display_data"
    },
    {
     "data": {
      "text/html": [
       "<pre style=\"white-space:pre;overflow-x:auto;line-height:normal;font-family:Menlo,'DejaVu Sans Mono',consolas,'Courier New',monospace\"><span style=\"font-weight: bold\"> Trainable params: </span><span style=\"color: #00af00; text-decoration-color: #00af00\">1,267</span> (4.95 KB)\n",
       "</pre>\n"
      ],
      "text/plain": [
       "\u001b[1m Trainable params: \u001b[0m\u001b[38;5;34m1,267\u001b[0m (4.95 KB)\n"
      ]
     },
     "metadata": {},
     "output_type": "display_data"
    },
    {
     "data": {
      "text/html": [
       "<pre style=\"white-space:pre;overflow-x:auto;line-height:normal;font-family:Menlo,'DejaVu Sans Mono',consolas,'Courier New',monospace\"><span style=\"font-weight: bold\"> Non-trainable params: </span><span style=\"color: #00af00; text-decoration-color: #00af00\">0</span> (0.00 B)\n",
       "</pre>\n"
      ],
      "text/plain": [
       "\u001b[1m Non-trainable params: \u001b[0m\u001b[38;5;34m0\u001b[0m (0.00 B)\n"
      ]
     },
     "metadata": {},
     "output_type": "display_data"
    }
   ],
   "source": [
    "modelGRU.summary()"
   ]
  },
  {
   "cell_type": "code",
   "execution_count": 164,
   "metadata": {},
   "outputs": [
    {
     "name": "stdout",
     "output_type": "stream",
     "text": [
      "Epoch 1/1000\n",
      "\u001b[1m728/728\u001b[0m \u001b[32m━━━━━━━━━━━━━━━━━━━━\u001b[0m\u001b[37m\u001b[0m \u001b[1m9s\u001b[0m 5ms/step - loss: 0.0715 - r2_score: -7.4919 - val_loss: 0.0074 - val_r2_score: 0.2813 - learning_rate: 0.0010\n",
      "Epoch 2/1000\n",
      "\u001b[1m728/728\u001b[0m \u001b[32m━━━━━━━━━━━━━━━━━━━━\u001b[0m\u001b[37m\u001b[0m \u001b[1m3s\u001b[0m 4ms/step - loss: 0.0044 - r2_score: 0.5141 - val_loss: 0.0011 - val_r2_score: 0.8885 - learning_rate: 0.0010\n",
      "Epoch 3/1000\n",
      "\u001b[1m728/728\u001b[0m \u001b[32m━━━━━━━━━━━━━━━━━━━━\u001b[0m\u001b[37m\u001b[0m \u001b[1m3s\u001b[0m 4ms/step - loss: 0.0011 - r2_score: 0.8775 - val_loss: 5.7546e-04 - val_r2_score: 0.9441 - learning_rate: 0.0010\n",
      "Epoch 4/1000\n",
      "\u001b[1m728/728\u001b[0m \u001b[32m━━━━━━━━━━━━━━━━━━━━\u001b[0m\u001b[37m\u001b[0m \u001b[1m3s\u001b[0m 4ms/step - loss: 7.4165e-04 - r2_score: 0.9213 - val_loss: 3.2203e-04 - val_r2_score: 0.9687 - learning_rate: 0.0010\n",
      "Epoch 5/1000\n",
      "\u001b[1m728/728\u001b[0m \u001b[32m━━━━━━━━━━━━━━━━━━━━\u001b[0m\u001b[37m\u001b[0m \u001b[1m3s\u001b[0m 4ms/step - loss: 4.9745e-04 - r2_score: 0.9448 - val_loss: 1.9006e-04 - val_r2_score: 0.9815 - learning_rate: 0.0010\n",
      "Epoch 6/1000\n",
      "\u001b[1m728/728\u001b[0m \u001b[32m━━━━━━━━━━━━━━━━━━━━\u001b[0m\u001b[37m\u001b[0m \u001b[1m3s\u001b[0m 4ms/step - loss: 4.0673e-04 - r2_score: 0.9582 - val_loss: 2.0564e-04 - val_r2_score: 0.9800 - learning_rate: 0.0010\n",
      "Epoch 7/1000\n",
      "\u001b[1m728/728\u001b[0m \u001b[32m━━━━━━━━━━━━━━━━━━━━\u001b[0m\u001b[37m\u001b[0m \u001b[1m3s\u001b[0m 4ms/step - loss: 3.3278e-04 - r2_score: 0.9648 - val_loss: 1.4732e-04 - val_r2_score: 0.9857 - learning_rate: 0.0010\n",
      "Epoch 8/1000\n",
      "\u001b[1m728/728\u001b[0m \u001b[32m━━━━━━━━━━━━━━━━━━━━\u001b[0m\u001b[37m\u001b[0m \u001b[1m3s\u001b[0m 4ms/step - loss: 3.2315e-04 - r2_score: 0.9657 - val_loss: 2.1194e-04 - val_r2_score: 0.9794 - learning_rate: 0.0010\n",
      "Epoch 9/1000\n",
      "\u001b[1m728/728\u001b[0m \u001b[32m━━━━━━━━━━━━━━━━━━━━\u001b[0m\u001b[37m\u001b[0m \u001b[1m3s\u001b[0m 4ms/step - loss: 3.0000e-04 - r2_score: 0.9674 - val_loss: 1.8309e-04 - val_r2_score: 0.9822 - learning_rate: 0.0010\n",
      "Epoch 10/1000\n",
      "\u001b[1m728/728\u001b[0m \u001b[32m━━━━━━━━━━━━━━━━━━━━\u001b[0m\u001b[37m\u001b[0m \u001b[1m3s\u001b[0m 4ms/step - loss: 2.9894e-04 - r2_score: 0.9662 - val_loss: 4.5281e-04 - val_r2_score: 0.9560 - learning_rate: 0.0010\n",
      "Epoch 11/1000\n",
      "\u001b[1m728/728\u001b[0m \u001b[32m━━━━━━━━━━━━━━━━━━━━\u001b[0m\u001b[37m\u001b[0m \u001b[1m3s\u001b[0m 4ms/step - loss: 2.5760e-04 - r2_score: 0.9729 - val_loss: 1.2697e-04 - val_r2_score: 0.9877 - learning_rate: 0.0010\n",
      "Epoch 12/1000\n",
      "\u001b[1m728/728\u001b[0m \u001b[32m━━━━━━━━━━━━━━━━━━━━\u001b[0m\u001b[37m\u001b[0m \u001b[1m3s\u001b[0m 4ms/step - loss: 2.6907e-04 - r2_score: 0.9716 - val_loss: 1.1925e-04 - val_r2_score: 0.9884 - learning_rate: 0.0010\n",
      "Epoch 13/1000\n",
      "\u001b[1m728/728\u001b[0m \u001b[32m━━━━━━━━━━━━━━━━━━━━\u001b[0m\u001b[37m\u001b[0m \u001b[1m3s\u001b[0m 4ms/step - loss: 2.3598e-04 - r2_score: 0.9739 - val_loss: 2.4130e-04 - val_r2_score: 0.9766 - learning_rate: 0.0010\n",
      "Epoch 14/1000\n",
      "\u001b[1m728/728\u001b[0m \u001b[32m━━━━━━━━━━━━━━━━━━━━\u001b[0m\u001b[37m\u001b[0m \u001b[1m3s\u001b[0m 4ms/step - loss: 2.2662e-04 - r2_score: 0.9753 - val_loss: 1.3541e-04 - val_r2_score: 0.9869 - learning_rate: 0.0010\n",
      "Epoch 15/1000\n",
      "\u001b[1m725/728\u001b[0m \u001b[32m━━━━━━━━━━━━━━━━━━━\u001b[0m\u001b[37m━\u001b[0m \u001b[1m0s\u001b[0m 3ms/step - loss: 2.3714e-04 - r2_score: 0.9741\n",
      "Epoch 15: ReduceLROnPlateau reducing learning rate to 0.00010000000474974513.\n",
      "\u001b[1m728/728\u001b[0m \u001b[32m━━━━━━━━━━━━━━━━━━━━\u001b[0m\u001b[37m\u001b[0m \u001b[1m3s\u001b[0m 4ms/step - loss: 2.3714e-04 - r2_score: 0.9741 - val_loss: 1.9089e-04 - val_r2_score: 0.9815 - learning_rate: 0.0010\n",
      "Epoch 16/1000\n",
      "\u001b[1m728/728\u001b[0m \u001b[32m━━━━━━━━━━━━━━━━━━━━\u001b[0m\u001b[37m\u001b[0m \u001b[1m3s\u001b[0m 4ms/step - loss: 1.7844e-04 - r2_score: 0.9808 - val_loss: 1.0789e-04 - val_r2_score: 0.9895 - learning_rate: 1.0000e-04\n",
      "Epoch 17/1000\n",
      "\u001b[1m728/728\u001b[0m \u001b[32m━━━━━━━━━━━━━━━━━━━━\u001b[0m\u001b[37m\u001b[0m \u001b[1m3s\u001b[0m 4ms/step - loss: 1.6963e-04 - r2_score: 0.9818 - val_loss: 1.0676e-04 - val_r2_score: 0.9896 - learning_rate: 1.0000e-04\n",
      "Epoch 18/1000\n",
      "\u001b[1m728/728\u001b[0m \u001b[32m━━━━━━━━━━━━━━━━━━━━\u001b[0m\u001b[37m\u001b[0m \u001b[1m3s\u001b[0m 4ms/step - loss: 1.7217e-04 - r2_score: 0.9823 - val_loss: 1.0980e-04 - val_r2_score: 0.9893 - learning_rate: 1.0000e-04\n",
      "Epoch 19/1000\n",
      "\u001b[1m728/728\u001b[0m \u001b[32m━━━━━━━━━━━━━━━━━━━━\u001b[0m\u001b[37m\u001b[0m \u001b[1m3s\u001b[0m 4ms/step - loss: 1.7452e-04 - r2_score: 0.9817 - val_loss: 1.2085e-04 - val_r2_score: 0.9883 - learning_rate: 1.0000e-04\n",
      "Epoch 20/1000\n",
      "\u001b[1m728/728\u001b[0m \u001b[32m━━━━━━━━━━━━━━━━━━━━\u001b[0m\u001b[37m\u001b[0m \u001b[1m3s\u001b[0m 4ms/step - loss: 1.7248e-04 - r2_score: 0.9821 - val_loss: 1.0856e-04 - val_r2_score: 0.9895 - learning_rate: 1.0000e-04\n",
      "Epoch 21/1000\n",
      "\u001b[1m728/728\u001b[0m \u001b[32m━━━━━━━━━━━━━━━━━━━━\u001b[0m\u001b[37m\u001b[0m \u001b[1m3s\u001b[0m 4ms/step - loss: 1.6505e-04 - r2_score: 0.9821 - val_loss: 1.0920e-04 - val_r2_score: 0.9894 - learning_rate: 1.0000e-04\n",
      "Epoch 22/1000\n",
      "\u001b[1m728/728\u001b[0m \u001b[32m━━━━━━━━━━━━━━━━━━━━\u001b[0m\u001b[37m\u001b[0m \u001b[1m3s\u001b[0m 4ms/step - loss: 1.6569e-04 - r2_score: 0.9823 - val_loss: 1.0562e-04 - val_r2_score: 0.9897 - learning_rate: 1.0000e-04\n",
      "Epoch 23/1000\n",
      "\u001b[1m728/728\u001b[0m \u001b[32m━━━━━━━━━━━━━━━━━━━━\u001b[0m\u001b[37m\u001b[0m \u001b[1m3s\u001b[0m 4ms/step - loss: 1.6249e-04 - r2_score: 0.9823 - val_loss: 1.0660e-04 - val_r2_score: 0.9897 - learning_rate: 1.0000e-04\n",
      "Epoch 24/1000\n",
      "\u001b[1m728/728\u001b[0m \u001b[32m━━━━━━━━━━━━━━━━━━━━\u001b[0m\u001b[37m\u001b[0m \u001b[1m3s\u001b[0m 4ms/step - loss: 1.6731e-04 - r2_score: 0.9817 - val_loss: 1.0804e-04 - val_r2_score: 0.9895 - learning_rate: 1.0000e-04\n",
      "Epoch 25/1000\n",
      "\u001b[1m727/728\u001b[0m \u001b[32m━━━━━━━━━━━━━━━━━━━\u001b[0m\u001b[37m━\u001b[0m \u001b[1m0s\u001b[0m 3ms/step - loss: 1.6581e-04 - r2_score: 0.9821\n",
      "Epoch 25: ReduceLROnPlateau reducing learning rate to 1.0000000474974514e-05.\n",
      "\u001b[1m728/728\u001b[0m \u001b[32m━━━━━━━━━━━━━━━━━━━━\u001b[0m\u001b[37m\u001b[0m \u001b[1m3s\u001b[0m 4ms/step - loss: 1.6581e-04 - r2_score: 0.9821 - val_loss: 1.0540e-04 - val_r2_score: 0.9898 - learning_rate: 1.0000e-04\n",
      "Epoch 26/1000\n",
      "\u001b[1m728/728\u001b[0m \u001b[32m━━━━━━━━━━━━━━━━━━━━\u001b[0m\u001b[37m\u001b[0m \u001b[1m3s\u001b[0m 4ms/step - loss: 1.6489e-04 - r2_score: 0.9826 - val_loss: 1.0565e-04 - val_r2_score: 0.9897 - learning_rate: 1.0000e-05\n",
      "Epoch 27/1000\n",
      "\u001b[1m728/728\u001b[0m \u001b[32m━━━━━━━━━━━━━━━━━━━━\u001b[0m\u001b[37m\u001b[0m \u001b[1m3s\u001b[0m 4ms/step - loss: 1.6169e-04 - r2_score: 0.9828 - val_loss: 1.0360e-04 - val_r2_score: 0.9899 - learning_rate: 1.0000e-05\n",
      "Epoch 28/1000\n",
      "\u001b[1m728/728\u001b[0m \u001b[32m━━━━━━━━━━━━━━━━━━━━\u001b[0m\u001b[37m\u001b[0m \u001b[1m3s\u001b[0m 4ms/step - loss: 1.6551e-04 - r2_score: 0.9821 - val_loss: 1.0381e-04 - val_r2_score: 0.9899 - learning_rate: 1.0000e-05\n",
      "Epoch 29/1000\n",
      "\u001b[1m728/728\u001b[0m \u001b[32m━━━━━━━━━━━━━━━━━━━━\u001b[0m\u001b[37m\u001b[0m \u001b[1m3s\u001b[0m 4ms/step - loss: 1.6051e-04 - r2_score: 0.9824 - val_loss: 1.0444e-04 - val_r2_score: 0.9899 - learning_rate: 1.0000e-05\n",
      "Epoch 30/1000\n",
      "\u001b[1m728/728\u001b[0m \u001b[32m━━━━━━━━━━━━━━━━━━━━\u001b[0m\u001b[37m\u001b[0m \u001b[1m3s\u001b[0m 4ms/step - loss: 1.6741e-04 - r2_score: 0.9823 - val_loss: 1.0388e-04 - val_r2_score: 0.9899 - learning_rate: 1.0000e-05\n",
      "Epoch 31/1000\n",
      "\u001b[1m728/728\u001b[0m \u001b[32m━━━━━━━━━━━━━━━━━━━━\u001b[0m\u001b[37m\u001b[0m \u001b[1m3s\u001b[0m 4ms/step - loss: 1.6176e-04 - r2_score: 0.9830 - val_loss: 1.0499e-04 - val_r2_score: 0.9898 - learning_rate: 1.0000e-05\n",
      "Epoch 32/1000\n",
      "\u001b[1m728/728\u001b[0m \u001b[32m━━━━━━━━━━━━━━━━━━━━\u001b[0m\u001b[37m\u001b[0m \u001b[1m3s\u001b[0m 4ms/step - loss: 1.5799e-04 - r2_score: 0.9829 - val_loss: 1.0428e-04 - val_r2_score: 0.9899 - learning_rate: 1.0000e-05\n",
      "Epoch 33/1000\n",
      "\u001b[1m728/728\u001b[0m \u001b[32m━━━━━━━━━━━━━━━━━━━━\u001b[0m\u001b[37m\u001b[0m \u001b[1m3s\u001b[0m 4ms/step - loss: 1.6112e-04 - r2_score: 0.9828 - val_loss: 1.0336e-04 - val_r2_score: 0.9900 - learning_rate: 1.0000e-05\n",
      "Epoch 34/1000\n",
      "\u001b[1m728/728\u001b[0m \u001b[32m━━━━━━━━━━━━━━━━━━━━\u001b[0m\u001b[37m\u001b[0m \u001b[1m3s\u001b[0m 4ms/step - loss: 1.5758e-04 - r2_score: 0.9833 - val_loss: 1.0308e-04 - val_r2_score: 0.9900 - learning_rate: 1.0000e-05\n",
      "Epoch 35/1000\n",
      "\u001b[1m718/728\u001b[0m \u001b[32m━━━━━━━━━━━━━━━━━━━\u001b[0m\u001b[37m━\u001b[0m \u001b[1m0s\u001b[0m 3ms/step - loss: 1.5937e-04 - r2_score: 0.9824\n",
      "Epoch 35: ReduceLROnPlateau reducing learning rate to 1e-05.\n",
      "\u001b[1m728/728\u001b[0m \u001b[32m━━━━━━━━━━━━━━━━━━━━\u001b[0m\u001b[37m\u001b[0m \u001b[1m3s\u001b[0m 4ms/step - loss: 1.5937e-04 - r2_score: 0.9824 - val_loss: 1.0391e-04 - val_r2_score: 0.9899 - learning_rate: 1.0000e-05\n",
      "Epoch 36/1000\n",
      "\u001b[1m728/728\u001b[0m \u001b[32m━━━━━━━━━━━━━━━━━━━━\u001b[0m\u001b[37m\u001b[0m \u001b[1m3s\u001b[0m 4ms/step - loss: 1.5215e-04 - r2_score: 0.9831 - val_loss: 1.0275e-04 - val_r2_score: 0.9900 - learning_rate: 1.0000e-05\n",
      "Epoch 37/1000\n",
      "\u001b[1m728/728\u001b[0m \u001b[32m━━━━━━━━━━━━━━━━━━━━\u001b[0m\u001b[37m\u001b[0m \u001b[1m3s\u001b[0m 4ms/step - loss: 1.5654e-04 - r2_score: 0.9831 - val_loss: 1.0371e-04 - val_r2_score: 0.9899 - learning_rate: 1.0000e-05\n",
      "Epoch 38/1000\n",
      "\u001b[1m728/728\u001b[0m \u001b[32m━━━━━━━━━━━━━━━━━━━━\u001b[0m\u001b[37m\u001b[0m \u001b[1m3s\u001b[0m 4ms/step - loss: 1.6273e-04 - r2_score: 0.9833 - val_loss: 1.0324e-04 - val_r2_score: 0.9900 - learning_rate: 1.0000e-05\n",
      "Epoch 39/1000\n",
      "\u001b[1m728/728\u001b[0m \u001b[32m━━━━━━━━━━━━━━━━━━━━\u001b[0m\u001b[37m\u001b[0m \u001b[1m3s\u001b[0m 4ms/step - loss: 1.7143e-04 - r2_score: 0.9820 - val_loss: 1.0253e-04 - val_r2_score: 0.9900 - learning_rate: 1.0000e-05\n",
      "Epoch 40/1000\n",
      "\u001b[1m728/728\u001b[0m \u001b[32m━━━━━━━━━━━━━━━━━━━━\u001b[0m\u001b[37m\u001b[0m \u001b[1m3s\u001b[0m 4ms/step - loss: 1.5816e-04 - r2_score: 0.9829 - val_loss: 1.0649e-04 - val_r2_score: 0.9897 - learning_rate: 1.0000e-05\n",
      "Epoch 41/1000\n",
      "\u001b[1m728/728\u001b[0m \u001b[32m━━━━━━━━━━━━━━━━━━━━\u001b[0m\u001b[37m\u001b[0m \u001b[1m3s\u001b[0m 4ms/step - loss: 1.5800e-04 - r2_score: 0.9829 - val_loss: 1.0327e-04 - val_r2_score: 0.9900 - learning_rate: 1.0000e-05\n",
      "Epoch 42/1000\n",
      "\u001b[1m728/728\u001b[0m \u001b[32m━━━━━━━━━━━━━━━━━━━━\u001b[0m\u001b[37m\u001b[0m \u001b[1m3s\u001b[0m 4ms/step - loss: 1.5847e-04 - r2_score: 0.9827 - val_loss: 1.0309e-04 - val_r2_score: 0.9900 - learning_rate: 1.0000e-05\n",
      "Epoch 43/1000\n",
      "\u001b[1m728/728\u001b[0m \u001b[32m━━━━━━━━━━━━━━━━━━━━\u001b[0m\u001b[37m\u001b[0m \u001b[1m3s\u001b[0m 4ms/step - loss: 1.7245e-04 - r2_score: 0.9823 - val_loss: 1.0351e-04 - val_r2_score: 0.9900 - learning_rate: 1.0000e-05\n",
      "Epoch 44/1000\n",
      "\u001b[1m728/728\u001b[0m \u001b[32m━━━━━━━━━━━━━━━━━━━━\u001b[0m\u001b[37m\u001b[0m \u001b[1m3s\u001b[0m 4ms/step - loss: 1.5602e-04 - r2_score: 0.9829 - val_loss: 1.0257e-04 - val_r2_score: 0.9900 - learning_rate: 1.0000e-05\n",
      "Epoch 45/1000\n",
      "\u001b[1m728/728\u001b[0m \u001b[32m━━━━━━━━━━━━━━━━━━━━\u001b[0m\u001b[37m\u001b[0m \u001b[1m3s\u001b[0m 4ms/step - loss: 1.5867e-04 - r2_score: 0.9831 - val_loss: 1.0278e-04 - val_r2_score: 0.9900 - learning_rate: 1.0000e-05\n",
      "Epoch 46/1000\n",
      "\u001b[1m728/728\u001b[0m \u001b[32m━━━━━━━━━━━━━━━━━━━━\u001b[0m\u001b[37m\u001b[0m \u001b[1m3s\u001b[0m 4ms/step - loss: 1.5738e-04 - r2_score: 0.9834 - val_loss: 1.0355e-04 - val_r2_score: 0.9899 - learning_rate: 1.0000e-05\n",
      "Epoch 47/1000\n",
      "\u001b[1m728/728\u001b[0m \u001b[32m━━━━━━━━━━━━━━━━━━━━\u001b[0m\u001b[37m\u001b[0m \u001b[1m3s\u001b[0m 4ms/step - loss: 1.6146e-04 - r2_score: 0.9828 - val_loss: 1.0466e-04 - val_r2_score: 0.9898 - learning_rate: 1.0000e-05\n",
      "Epoch 48/1000\n",
      "\u001b[1m728/728\u001b[0m \u001b[32m━━━━━━━━━━━━━━━━━━━━\u001b[0m\u001b[37m\u001b[0m \u001b[1m3s\u001b[0m 4ms/step - loss: 1.7127e-04 - r2_score: 0.9820 - val_loss: 1.0455e-04 - val_r2_score: 0.9899 - learning_rate: 1.0000e-05\n",
      "Epoch 49/1000\n",
      "\u001b[1m728/728\u001b[0m \u001b[32m━━━━━━━━━━━━━━━━━━━━\u001b[0m\u001b[37m\u001b[0m \u001b[1m3s\u001b[0m 4ms/step - loss: 1.7072e-04 - r2_score: 0.9818 - val_loss: 1.0317e-04 - val_r2_score: 0.9900 - learning_rate: 1.0000e-05\n",
      "Epoch 50/1000\n",
      "\u001b[1m728/728\u001b[0m \u001b[32m━━━━━━━━━━━━━━━━━━━━\u001b[0m\u001b[37m\u001b[0m \u001b[1m3s\u001b[0m 4ms/step - loss: 1.5011e-04 - r2_score: 0.9838 - val_loss: 1.0255e-04 - val_r2_score: 0.9900 - learning_rate: 1.0000e-05\n",
      "Epoch 51/1000\n",
      "\u001b[1m728/728\u001b[0m \u001b[32m━━━━━━━━━━━━━━━━━━━━\u001b[0m\u001b[37m\u001b[0m \u001b[1m3s\u001b[0m 3ms/step - loss: 1.7446e-04 - r2_score: 0.9820 - val_loss: 1.0394e-04 - val_r2_score: 0.9899 - learning_rate: 1.0000e-05\n",
      "Epoch 52/1000\n",
      "\u001b[1m728/728\u001b[0m \u001b[32m━━━━━━━━━━━━━━━━━━━━\u001b[0m\u001b[37m\u001b[0m \u001b[1m3s\u001b[0m 4ms/step - loss: 1.5967e-04 - r2_score: 0.9828 - val_loss: 1.0308e-04 - val_r2_score: 0.9900 - learning_rate: 1.0000e-05\n",
      "Epoch 53/1000\n",
      "\u001b[1m728/728\u001b[0m \u001b[32m━━━━━━━━━━━━━━━━━━━━\u001b[0m\u001b[37m\u001b[0m \u001b[1m3s\u001b[0m 4ms/step - loss: 1.5944e-04 - r2_score: 0.9826 - val_loss: 1.0325e-04 - val_r2_score: 0.9900 - learning_rate: 1.0000e-05\n",
      "Epoch 54/1000\n",
      "\u001b[1m728/728\u001b[0m \u001b[32m━━━━━━━━━━━━━━━━━━━━\u001b[0m\u001b[37m\u001b[0m \u001b[1m3s\u001b[0m 4ms/step - loss: 1.5838e-04 - r2_score: 0.9829 - val_loss: 1.0308e-04 - val_r2_score: 0.9900 - learning_rate: 1.0000e-05\n",
      "Epoch 55/1000\n",
      "\u001b[1m728/728\u001b[0m \u001b[32m━━━━━━━━━━━━━━━━━━━━\u001b[0m\u001b[37m\u001b[0m \u001b[1m3s\u001b[0m 4ms/step - loss: 1.5756e-04 - r2_score: 0.9832 - val_loss: 1.0494e-04 - val_r2_score: 0.9898 - learning_rate: 1.0000e-05\n",
      "Epoch 56/1000\n",
      "\u001b[1m728/728\u001b[0m \u001b[32m━━━━━━━━━━━━━━━━━━━━\u001b[0m\u001b[37m\u001b[0m \u001b[1m3s\u001b[0m 4ms/step - loss: 1.6447e-04 - r2_score: 0.9826 - val_loss: 1.0225e-04 - val_r2_score: 0.9901 - learning_rate: 1.0000e-05\n",
      "Epoch 57/1000\n",
      "\u001b[1m728/728\u001b[0m \u001b[32m━━━━━━━━━━━━━━━━━━━━\u001b[0m\u001b[37m\u001b[0m \u001b[1m3s\u001b[0m 4ms/step - loss: 1.5504e-04 - r2_score: 0.9831 - val_loss: 1.0211e-04 - val_r2_score: 0.9901 - learning_rate: 1.0000e-05\n",
      "Epoch 58/1000\n",
      "\u001b[1m728/728\u001b[0m \u001b[32m━━━━━━━━━━━━━━━━━━━━\u001b[0m\u001b[37m\u001b[0m \u001b[1m3s\u001b[0m 4ms/step - loss: 1.5466e-04 - r2_score: 0.9834 - val_loss: 1.0408e-04 - val_r2_score: 0.9899 - learning_rate: 1.0000e-05\n",
      "Epoch 59/1000\n",
      "\u001b[1m728/728\u001b[0m \u001b[32m━━━━━━━━━━━━━━━━━━━━\u001b[0m\u001b[37m\u001b[0m \u001b[1m3s\u001b[0m 4ms/step - loss: 1.5961e-04 - r2_score: 0.9829 - val_loss: 1.0379e-04 - val_r2_score: 0.9899 - learning_rate: 1.0000e-05\n",
      "Epoch 60/1000\n",
      "\u001b[1m728/728\u001b[0m \u001b[32m━━━━━━━━━━━━━━━━━━━━\u001b[0m\u001b[37m\u001b[0m \u001b[1m3s\u001b[0m 4ms/step - loss: 1.5572e-04 - r2_score: 0.9834 - val_loss: 1.0350e-04 - val_r2_score: 0.9900 - learning_rate: 1.0000e-05\n",
      "Epoch 61/1000\n",
      "\u001b[1m728/728\u001b[0m \u001b[32m━━━━━━━━━━━━━━━━━━━━\u001b[0m\u001b[37m\u001b[0m \u001b[1m3s\u001b[0m 4ms/step - loss: 1.5766e-04 - r2_score: 0.9832 - val_loss: 1.0254e-04 - val_r2_score: 0.9900 - learning_rate: 1.0000e-05\n",
      "Epoch 62/1000\n",
      "\u001b[1m728/728\u001b[0m \u001b[32m━━━━━━━━━━━━━━━━━━━━\u001b[0m\u001b[37m\u001b[0m \u001b[1m3s\u001b[0m 4ms/step - loss: 1.6478e-04 - r2_score: 0.9823 - val_loss: 1.0322e-04 - val_r2_score: 0.9900 - learning_rate: 1.0000e-05\n",
      "Epoch 63/1000\n",
      "\u001b[1m728/728\u001b[0m \u001b[32m━━━━━━━━━━━━━━━━━━━━\u001b[0m\u001b[37m\u001b[0m \u001b[1m3s\u001b[0m 4ms/step - loss: 1.5858e-04 - r2_score: 0.9830 - val_loss: 1.0520e-04 - val_r2_score: 0.9898 - learning_rate: 1.0000e-05\n",
      "Epoch 64/1000\n",
      "\u001b[1m728/728\u001b[0m \u001b[32m━━━━━━━━━━━━━━━━━━━━\u001b[0m\u001b[37m\u001b[0m \u001b[1m3s\u001b[0m 4ms/step - loss: 1.6023e-04 - r2_score: 0.9827 - val_loss: 1.0545e-04 - val_r2_score: 0.9898 - learning_rate: 1.0000e-05\n",
      "Epoch 65/1000\n",
      "\u001b[1m728/728\u001b[0m \u001b[32m━━━━━━━━━━━━━━━━━━━━\u001b[0m\u001b[37m\u001b[0m \u001b[1m3s\u001b[0m 4ms/step - loss: 1.6046e-04 - r2_score: 0.9821 - val_loss: 1.0279e-04 - val_r2_score: 0.9900 - learning_rate: 1.0000e-05\n",
      "Epoch 66/1000\n",
      "\u001b[1m728/728\u001b[0m \u001b[32m━━━━━━━━━━━━━━━━━━━━\u001b[0m\u001b[37m\u001b[0m \u001b[1m3s\u001b[0m 4ms/step - loss: 1.6793e-04 - r2_score: 0.9816 - val_loss: 1.0252e-04 - val_r2_score: 0.9900 - learning_rate: 1.0000e-05\n",
      "Epoch 67/1000\n",
      "\u001b[1m728/728\u001b[0m \u001b[32m━━━━━━━━━━━━━━━━━━━━\u001b[0m\u001b[37m\u001b[0m \u001b[1m3s\u001b[0m 4ms/step - loss: 1.5889e-04 - r2_score: 0.9828 - val_loss: 1.0202e-04 - val_r2_score: 0.9901 - learning_rate: 1.0000e-05\n",
      "Epoch 68/1000\n",
      "\u001b[1m728/728\u001b[0m \u001b[32m━━━━━━━━━━━━━━━━━━━━\u001b[0m\u001b[37m\u001b[0m \u001b[1m3s\u001b[0m 4ms/step - loss: 1.5946e-04 - r2_score: 0.9831 - val_loss: 1.0511e-04 - val_r2_score: 0.9898 - learning_rate: 1.0000e-05\n",
      "Epoch 69/1000\n",
      "\u001b[1m728/728\u001b[0m \u001b[32m━━━━━━━━━━━━━━━━━━━━\u001b[0m\u001b[37m\u001b[0m \u001b[1m3s\u001b[0m 4ms/step - loss: 1.6323e-04 - r2_score: 0.9822 - val_loss: 1.0251e-04 - val_r2_score: 0.9900 - learning_rate: 1.0000e-05\n",
      "Epoch 70/1000\n",
      "\u001b[1m728/728\u001b[0m \u001b[32m━━━━━━━━━━━━━━━━━━━━\u001b[0m\u001b[37m\u001b[0m \u001b[1m3s\u001b[0m 4ms/step - loss: 1.6414e-04 - r2_score: 0.9828 - val_loss: 1.0314e-04 - val_r2_score: 0.9900 - learning_rate: 1.0000e-05\n",
      "Epoch 71/1000\n",
      "\u001b[1m728/728\u001b[0m \u001b[32m━━━━━━━━━━━━━━━━━━━━\u001b[0m\u001b[37m\u001b[0m \u001b[1m3s\u001b[0m 4ms/step - loss: 1.5626e-04 - r2_score: 0.9831 - val_loss: 1.0592e-04 - val_r2_score: 0.9897 - learning_rate: 1.0000e-05\n",
      "Epoch 72/1000\n",
      "\u001b[1m728/728\u001b[0m \u001b[32m━━━━━━━━━━━━━━━━━━━━\u001b[0m\u001b[37m\u001b[0m \u001b[1m3s\u001b[0m 4ms/step - loss: 1.6797e-04 - r2_score: 0.9824 - val_loss: 1.0622e-04 - val_r2_score: 0.9897 - learning_rate: 1.0000e-05\n",
      "Epoch 73/1000\n",
      "\u001b[1m728/728\u001b[0m \u001b[32m━━━━━━━━━━━━━━━━━━━━\u001b[0m\u001b[37m\u001b[0m \u001b[1m3s\u001b[0m 4ms/step - loss: 1.5856e-04 - r2_score: 0.9837 - val_loss: 1.0267e-04 - val_r2_score: 0.9900 - learning_rate: 1.0000e-05\n",
      "Epoch 74/1000\n",
      "\u001b[1m728/728\u001b[0m \u001b[32m━━━━━━━━━━━━━━━━━━━━\u001b[0m\u001b[37m\u001b[0m \u001b[1m3s\u001b[0m 4ms/step - loss: 1.5062e-04 - r2_score: 0.9835 - val_loss: 1.0165e-04 - val_r2_score: 0.9901 - learning_rate: 1.0000e-05\n",
      "Epoch 75/1000\n",
      "\u001b[1m728/728\u001b[0m \u001b[32m━━━━━━━━━━━━━━━━━━━━\u001b[0m\u001b[37m\u001b[0m \u001b[1m3s\u001b[0m 4ms/step - loss: 1.6143e-04 - r2_score: 0.9830 - val_loss: 1.0276e-04 - val_r2_score: 0.9900 - learning_rate: 1.0000e-05\n",
      "Epoch 76/1000\n",
      "\u001b[1m728/728\u001b[0m \u001b[32m━━━━━━━━━━━━━━━━━━━━\u001b[0m\u001b[37m\u001b[0m \u001b[1m3s\u001b[0m 4ms/step - loss: 1.6634e-04 - r2_score: 0.9824 - val_loss: 1.0244e-04 - val_r2_score: 0.9901 - learning_rate: 1.0000e-05\n",
      "Epoch 77/1000\n",
      "\u001b[1m728/728\u001b[0m \u001b[32m━━━━━━━━━━━━━━━━━━━━\u001b[0m\u001b[37m\u001b[0m \u001b[1m3s\u001b[0m 4ms/step - loss: 1.6569e-04 - r2_score: 0.9828 - val_loss: 1.0270e-04 - val_r2_score: 0.9900 - learning_rate: 1.0000e-05\n",
      "Epoch 78/1000\n",
      "\u001b[1m728/728\u001b[0m \u001b[32m━━━━━━━━━━━━━━━━━━━━\u001b[0m\u001b[37m\u001b[0m \u001b[1m3s\u001b[0m 4ms/step - loss: 1.5225e-04 - r2_score: 0.9834 - val_loss: 1.0296e-04 - val_r2_score: 0.9900 - learning_rate: 1.0000e-05\n",
      "Epoch 79/1000\n",
      "\u001b[1m728/728\u001b[0m \u001b[32m━━━━━━━━━━━━━━━━━━━━\u001b[0m\u001b[37m\u001b[0m \u001b[1m3s\u001b[0m 4ms/step - loss: 1.5456e-04 - r2_score: 0.9831 - val_loss: 1.0477e-04 - val_r2_score: 0.9898 - learning_rate: 1.0000e-05\n",
      "Epoch 80/1000\n",
      "\u001b[1m728/728\u001b[0m \u001b[32m━━━━━━━━━━━━━━━━━━━━\u001b[0m\u001b[37m\u001b[0m \u001b[1m3s\u001b[0m 4ms/step - loss: 1.5325e-04 - r2_score: 0.9838 - val_loss: 1.0405e-04 - val_r2_score: 0.9899 - learning_rate: 1.0000e-05\n",
      "Epoch 81/1000\n",
      "\u001b[1m728/728\u001b[0m \u001b[32m━━━━━━━━━━━━━━━━━━━━\u001b[0m\u001b[37m\u001b[0m \u001b[1m3s\u001b[0m 4ms/step - loss: 1.5950e-04 - r2_score: 0.9833 - val_loss: 1.0205e-04 - val_r2_score: 0.9901 - learning_rate: 1.0000e-05\n",
      "Epoch 82/1000\n",
      "\u001b[1m728/728\u001b[0m \u001b[32m━━━━━━━━━━━━━━━━━━━━\u001b[0m\u001b[37m\u001b[0m \u001b[1m3s\u001b[0m 4ms/step - loss: 1.5845e-04 - r2_score: 0.9830 - val_loss: 1.0180e-04 - val_r2_score: 0.9901 - learning_rate: 1.0000e-05\n",
      "Epoch 83/1000\n",
      "\u001b[1m728/728\u001b[0m \u001b[32m━━━━━━━━━━━━━━━━━━━━\u001b[0m\u001b[37m\u001b[0m \u001b[1m3s\u001b[0m 4ms/step - loss: 1.5695e-04 - r2_score: 0.9836 - val_loss: 1.0321e-04 - val_r2_score: 0.9900 - learning_rate: 1.0000e-05\n",
      "Epoch 84/1000\n",
      "\u001b[1m728/728\u001b[0m \u001b[32m━━━━━━━━━━━━━━━━━━━━\u001b[0m\u001b[37m\u001b[0m \u001b[1m3s\u001b[0m 4ms/step - loss: 1.6542e-04 - r2_score: 0.9820 - val_loss: 1.0151e-04 - val_r2_score: 0.9901 - learning_rate: 1.0000e-05\n",
      "Epoch 85/1000\n",
      "\u001b[1m728/728\u001b[0m \u001b[32m━━━━━━━━━━━━━━━━━━━━\u001b[0m\u001b[37m\u001b[0m \u001b[1m3s\u001b[0m 4ms/step - loss: 1.5716e-04 - r2_score: 0.9837 - val_loss: 1.0410e-04 - val_r2_score: 0.9899 - learning_rate: 1.0000e-05\n",
      "Epoch 86/1000\n",
      "\u001b[1m728/728\u001b[0m \u001b[32m━━━━━━━━━━━━━━━━━━━━\u001b[0m\u001b[37m\u001b[0m \u001b[1m3s\u001b[0m 4ms/step - loss: 1.5630e-04 - r2_score: 0.9835 - val_loss: 1.0364e-04 - val_r2_score: 0.9899 - learning_rate: 1.0000e-05\n",
      "Epoch 87/1000\n",
      "\u001b[1m728/728\u001b[0m \u001b[32m━━━━━━━━━━━━━━━━━━━━\u001b[0m\u001b[37m\u001b[0m \u001b[1m3s\u001b[0m 4ms/step - loss: 1.5902e-04 - r2_score: 0.9830 - val_loss: 1.0480e-04 - val_r2_score: 0.9898 - learning_rate: 1.0000e-05\n",
      "Epoch 88/1000\n",
      "\u001b[1m728/728\u001b[0m \u001b[32m━━━━━━━━━━━━━━━━━━━━\u001b[0m\u001b[37m\u001b[0m \u001b[1m3s\u001b[0m 4ms/step - loss: 1.6934e-04 - r2_score: 0.9821 - val_loss: 1.0241e-04 - val_r2_score: 0.9901 - learning_rate: 1.0000e-05\n",
      "Epoch 89/1000\n",
      "\u001b[1m728/728\u001b[0m \u001b[32m━━━━━━━━━━━━━━━━━━━━\u001b[0m\u001b[37m\u001b[0m \u001b[1m3s\u001b[0m 4ms/step - loss: 1.6396e-04 - r2_score: 0.9832 - val_loss: 1.0193e-04 - val_r2_score: 0.9901 - learning_rate: 1.0000e-05\n",
      "Epoch 90/1000\n",
      "\u001b[1m728/728\u001b[0m \u001b[32m━━━━━━━━━━━━━━━━━━━━\u001b[0m\u001b[37m\u001b[0m \u001b[1m3s\u001b[0m 4ms/step - loss: 1.5089e-04 - r2_score: 0.9835 - val_loss: 1.0308e-04 - val_r2_score: 0.9900 - learning_rate: 1.0000e-05\n",
      "Epoch 91/1000\n",
      "\u001b[1m728/728\u001b[0m \u001b[32m━━━━━━━━━━━━━━━━━━━━\u001b[0m\u001b[37m\u001b[0m \u001b[1m3s\u001b[0m 4ms/step - loss: 1.5672e-04 - r2_score: 0.9829 - val_loss: 1.0310e-04 - val_r2_score: 0.9900 - learning_rate: 1.0000e-05\n",
      "Epoch 92/1000\n",
      "\u001b[1m728/728\u001b[0m \u001b[32m━━━━━━━━━━━━━━━━━━━━\u001b[0m\u001b[37m\u001b[0m \u001b[1m3s\u001b[0m 4ms/step - loss: 1.6259e-04 - r2_score: 0.9829 - val_loss: 1.0298e-04 - val_r2_score: 0.9900 - learning_rate: 1.0000e-05\n",
      "Epoch 93/1000\n",
      "\u001b[1m728/728\u001b[0m \u001b[32m━━━━━━━━━━━━━━━━━━━━\u001b[0m\u001b[37m\u001b[0m \u001b[1m3s\u001b[0m 4ms/step - loss: 1.4844e-04 - r2_score: 0.9835 - val_loss: 1.0493e-04 - val_r2_score: 0.9898 - learning_rate: 1.0000e-05\n",
      "Epoch 94/1000\n",
      "\u001b[1m728/728\u001b[0m \u001b[32m━━━━━━━━━━━━━━━━━━━━\u001b[0m\u001b[37m\u001b[0m \u001b[1m3s\u001b[0m 4ms/step - loss: 1.5564e-04 - r2_score: 0.9835 - val_loss: 1.0286e-04 - val_r2_score: 0.9900 - learning_rate: 1.0000e-05\n",
      "Epoch 95/1000\n",
      "\u001b[1m728/728\u001b[0m \u001b[32m━━━━━━━━━━━━━━━━━━━━\u001b[0m\u001b[37m\u001b[0m \u001b[1m3s\u001b[0m 4ms/step - loss: 1.6234e-04 - r2_score: 0.9825 - val_loss: 1.0393e-04 - val_r2_score: 0.9899 - learning_rate: 1.0000e-05\n",
      "Epoch 96/1000\n",
      "\u001b[1m728/728\u001b[0m \u001b[32m━━━━━━━━━━━━━━━━━━━━\u001b[0m\u001b[37m\u001b[0m \u001b[1m4s\u001b[0m 5ms/step - loss: 1.5727e-04 - r2_score: 0.9831 - val_loss: 1.0296e-04 - val_r2_score: 0.9900 - learning_rate: 1.0000e-05\n",
      "Epoch 97/1000\n",
      "\u001b[1m728/728\u001b[0m \u001b[32m━━━━━━━━━━━━━━━━━━━━\u001b[0m\u001b[37m\u001b[0m \u001b[1m4s\u001b[0m 6ms/step - loss: 1.5285e-04 - r2_score: 0.9839 - val_loss: 1.0325e-04 - val_r2_score: 0.9900 - learning_rate: 1.0000e-05\n",
      "Epoch 98/1000\n",
      "\u001b[1m728/728\u001b[0m \u001b[32m━━━━━━━━━━━━━━━━━━━━\u001b[0m\u001b[37m\u001b[0m \u001b[1m5s\u001b[0m 7ms/step - loss: 1.6537e-04 - r2_score: 0.9822 - val_loss: 1.0238e-04 - val_r2_score: 0.9901 - learning_rate: 1.0000e-05\n",
      "Epoch 99/1000\n",
      "\u001b[1m728/728\u001b[0m \u001b[32m━━━━━━━━━━━━━━━━━━━━\u001b[0m\u001b[37m\u001b[0m \u001b[1m5s\u001b[0m 6ms/step - loss: 1.5729e-04 - r2_score: 0.9838 - val_loss: 1.0243e-04 - val_r2_score: 0.9901 - learning_rate: 1.0000e-05\n",
      "Epoch 100/1000\n",
      "\u001b[1m728/728\u001b[0m \u001b[32m━━━━━━━━━━━━━━━━━━━━\u001b[0m\u001b[37m\u001b[0m \u001b[1m6s\u001b[0m 8ms/step - loss: 1.6047e-04 - r2_score: 0.9832 - val_loss: 1.0133e-04 - val_r2_score: 0.9902 - learning_rate: 1.0000e-05\n",
      "Epoch 101/1000\n",
      "\u001b[1m728/728\u001b[0m \u001b[32m━━━━━━━━━━━━━━━━━━━━\u001b[0m\u001b[37m\u001b[0m \u001b[1m5s\u001b[0m 7ms/step - loss: 1.4955e-04 - r2_score: 0.9838 - val_loss: 1.0224e-04 - val_r2_score: 0.9901 - learning_rate: 1.0000e-05\n",
      "Epoch 102/1000\n",
      "\u001b[1m728/728\u001b[0m \u001b[32m━━━━━━━━━━━━━━━━━━━━\u001b[0m\u001b[37m\u001b[0m \u001b[1m8s\u001b[0m 4ms/step - loss: 1.5909e-04 - r2_score: 0.9821 - val_loss: 1.0240e-04 - val_r2_score: 0.9901 - learning_rate: 1.0000e-05\n",
      "Epoch 103/1000\n",
      "\u001b[1m728/728\u001b[0m \u001b[32m━━━━━━━━━━━━━━━━━━━━\u001b[0m\u001b[37m\u001b[0m \u001b[1m3s\u001b[0m 4ms/step - loss: 1.4818e-04 - r2_score: 0.9839 - val_loss: 1.0147e-04 - val_r2_score: 0.9901 - learning_rate: 1.0000e-05\n",
      "Epoch 104/1000\n",
      "\u001b[1m728/728\u001b[0m \u001b[32m━━━━━━━━━━━━━━━━━━━━\u001b[0m\u001b[37m\u001b[0m \u001b[1m5s\u001b[0m 7ms/step - loss: 1.4637e-04 - r2_score: 0.9844 - val_loss: 1.0550e-04 - val_r2_score: 0.9898 - learning_rate: 1.0000e-05\n",
      "Epoch 105/1000\n",
      "\u001b[1m728/728\u001b[0m \u001b[32m━━━━━━━━━━━━━━━━━━━━\u001b[0m\u001b[37m\u001b[0m \u001b[1m5s\u001b[0m 7ms/step - loss: 1.7983e-04 - r2_score: 0.9822 - val_loss: 1.0231e-04 - val_r2_score: 0.9901 - learning_rate: 1.0000e-05\n",
      "Epoch 106/1000\n",
      "\u001b[1m728/728\u001b[0m \u001b[32m━━━━━━━━━━━━━━━━━━━━\u001b[0m\u001b[37m\u001b[0m \u001b[1m3s\u001b[0m 4ms/step - loss: 1.6718e-04 - r2_score: 0.9816 - val_loss: 1.0279e-04 - val_r2_score: 0.9900 - learning_rate: 1.0000e-05\n",
      "Epoch 107/1000\n",
      "\u001b[1m728/728\u001b[0m \u001b[32m━━━━━━━━━━━━━━━━━━━━\u001b[0m\u001b[37m\u001b[0m \u001b[1m5s\u001b[0m 7ms/step - loss: 1.5269e-04 - r2_score: 0.9836 - val_loss: 1.0218e-04 - val_r2_score: 0.9901 - learning_rate: 1.0000e-05\n",
      "Epoch 108/1000\n",
      "\u001b[1m728/728\u001b[0m \u001b[32m━━━━━━━━━━━━━━━━━━━━\u001b[0m\u001b[37m\u001b[0m \u001b[1m5s\u001b[0m 6ms/step - loss: 1.6416e-04 - r2_score: 0.9827 - val_loss: 1.0290e-04 - val_r2_score: 0.9900 - learning_rate: 1.0000e-05\n",
      "Epoch 109/1000\n",
      "\u001b[1m728/728\u001b[0m \u001b[32m━━━━━━━━━━━━━━━━━━━━\u001b[0m\u001b[37m\u001b[0m \u001b[1m4s\u001b[0m 5ms/step - loss: 1.5747e-04 - r2_score: 0.9833 - val_loss: 1.0367e-04 - val_r2_score: 0.9899 - learning_rate: 1.0000e-05\n",
      "Epoch 110/1000\n",
      "\u001b[1m728/728\u001b[0m \u001b[32m━━━━━━━━━━━━━━━━━━━━\u001b[0m\u001b[37m\u001b[0m \u001b[1m5s\u001b[0m 7ms/step - loss: 1.6931e-04 - r2_score: 0.9823 - val_loss: 1.0264e-04 - val_r2_score: 0.9900 - learning_rate: 1.0000e-05\n",
      "Epoch 111/1000\n",
      "\u001b[1m728/728\u001b[0m \u001b[32m━━━━━━━━━━━━━━━━━━━━\u001b[0m\u001b[37m\u001b[0m \u001b[1m5s\u001b[0m 7ms/step - loss: 1.5737e-04 - r2_score: 0.9830 - val_loss: 1.0383e-04 - val_r2_score: 0.9899 - learning_rate: 1.0000e-05\n",
      "Epoch 112/1000\n",
      "\u001b[1m728/728\u001b[0m \u001b[32m━━━━━━━━━━━━━━━━━━━━\u001b[0m\u001b[37m\u001b[0m \u001b[1m5s\u001b[0m 7ms/step - loss: 1.5136e-04 - r2_score: 0.9836 - val_loss: 1.0331e-04 - val_r2_score: 0.9900 - learning_rate: 1.0000e-05\n",
      "Epoch 113/1000\n",
      "\u001b[1m728/728\u001b[0m \u001b[32m━━━━━━━━━━━━━━━━━━━━\u001b[0m\u001b[37m\u001b[0m \u001b[1m4s\u001b[0m 5ms/step - loss: 1.6447e-04 - r2_score: 0.9823 - val_loss: 1.0311e-04 - val_r2_score: 0.9900 - learning_rate: 1.0000e-05\n",
      "Epoch 114/1000\n",
      "\u001b[1m728/728\u001b[0m \u001b[32m━━━━━━━━━━━━━━━━━━━━\u001b[0m\u001b[37m\u001b[0m \u001b[1m4s\u001b[0m 6ms/step - loss: 1.5675e-04 - r2_score: 0.9825 - val_loss: 1.0327e-04 - val_r2_score: 0.9900 - learning_rate: 1.0000e-05\n",
      "Epoch 115/1000\n",
      "\u001b[1m728/728\u001b[0m \u001b[32m━━━━━━━━━━━━━━━━━━━━\u001b[0m\u001b[37m\u001b[0m \u001b[1m5s\u001b[0m 6ms/step - loss: 1.5656e-04 - r2_score: 0.9826 - val_loss: 1.0601e-04 - val_r2_score: 0.9897 - learning_rate: 1.0000e-05\n",
      "Epoch 116/1000\n",
      "\u001b[1m728/728\u001b[0m \u001b[32m━━━━━━━━━━━━━━━━━━━━\u001b[0m\u001b[37m\u001b[0m \u001b[1m4s\u001b[0m 6ms/step - loss: 1.6235e-04 - r2_score: 0.9823 - val_loss: 1.0327e-04 - val_r2_score: 0.9900 - learning_rate: 1.0000e-05\n",
      "Epoch 117/1000\n",
      "\u001b[1m728/728\u001b[0m \u001b[32m━━━━━━━━━━━━━━━━━━━━\u001b[0m\u001b[37m\u001b[0m \u001b[1m4s\u001b[0m 6ms/step - loss: 1.5453e-04 - r2_score: 0.9827 - val_loss: 1.0190e-04 - val_r2_score: 0.9901 - learning_rate: 1.0000e-05\n",
      "Epoch 118/1000\n",
      "\u001b[1m728/728\u001b[0m \u001b[32m━━━━━━━━━━━━━━━━━━━━\u001b[0m\u001b[37m\u001b[0m \u001b[1m4s\u001b[0m 6ms/step - loss: 1.5453e-04 - r2_score: 0.9836 - val_loss: 1.0475e-04 - val_r2_score: 0.9898 - learning_rate: 1.0000e-05\n",
      "Epoch 119/1000\n",
      "\u001b[1m728/728\u001b[0m \u001b[32m━━━━━━━━━━━━━━━━━━━━\u001b[0m\u001b[37m\u001b[0m \u001b[1m5s\u001b[0m 7ms/step - loss: 1.5885e-04 - r2_score: 0.9830 - val_loss: 1.0272e-04 - val_r2_score: 0.9900 - learning_rate: 1.0000e-05\n",
      "Epoch 120/1000\n",
      "\u001b[1m728/728\u001b[0m \u001b[32m━━━━━━━━━━━━━━━━━━━━\u001b[0m\u001b[37m\u001b[0m \u001b[1m3s\u001b[0m 5ms/step - loss: 1.6362e-04 - r2_score: 0.9828 - val_loss: 1.0211e-04 - val_r2_score: 0.9901 - learning_rate: 1.0000e-05\n"
     ]
    },
    {
     "data": {
      "text/plain": [
       "<keras.src.callbacks.history.History at 0x1a59cbf9150>"
      ]
     },
     "execution_count": 164,
     "metadata": {},
     "output_type": "execute_result"
    }
   ],
   "source": [
    "reduce_lr = tf.keras.callbacks.ReduceLROnPlateau(monitor='val_loss', factor=0.1, patience=10, min_lr=0.00001, verbose=1)\n",
    "early_stopping =  tf.keras.callbacks.EarlyStopping(monitor='val_loss',patience=20, restore_best_weights=True )\n",
    "\n",
    "modelGRU.fit(X_train, y_train, epochs=1000,  batch_size= 25,  validation_data=(X_test, y_test), callbacks=[reduce_lr, early_stopping]) #"
   ]
  },
  {
   "cell_type": "code",
   "execution_count": 319,
   "metadata": {},
   "outputs": [],
   "source": [
    "modelGRU.save('modeloGRU.keras')"
   ]
  },
  {
   "cell_type": "markdown",
   "metadata": {},
   "source": [
    "<a href= https://www.tensorflow.org/api_docs/python/tf/keras/layers/LSTM>LSTM</a>"
   ]
  },
  {
   "cell_type": "code",
   "execution_count": 168,
   "metadata": {},
   "outputs": [],
   "source": [
    "modellstm = tf.keras.models.Sequential()\n",
    "\n",
    "modellstm.add(tf.keras.Input(shape=(3,1)))\n",
    "\n",
    "modellstm.add(tf.keras.layers.LSTM(units=6, activation='tanh', recurrent_activation='sigmoid', return_sequences=True)) \n",
    "modellstm.add(tf.keras.layers.LSTM(units=6, activation='tanh', recurrent_activation='sigmoid', return_sequences=True)) \n",
    "modellstm.add(tf.keras.layers.Dense(units=27, activation='relu')) #9\n",
    "modellstm.add(tf.keras.layers.Dropout(0.1))\n",
    "modellstm.add(tf.keras.layers.LSTM(units=6, activation='tanh', recurrent_activation='sigmoid',return_sequences=True))\n",
    "modellstm.add(tf.keras.layers.LSTM(units=6, activation='tanh', recurrent_activation='sigmoid'))\n",
    "\n",
    "\n",
    "modellstm.add(tf.keras.layers.Dense(units = 1, activation = \"linear\"))\n",
    "\n",
    "modellstm.compile(loss = tf.keras.losses.Huber(), optimizer = tf.keras.optimizers.Adam(), metrics=[tf.keras.metrics.R2Score()])"
   ]
  },
  {
   "cell_type": "code",
   "execution_count": 169,
   "metadata": {},
   "outputs": [
    {
     "data": {
      "text/html": [
       "<pre style=\"white-space:pre;overflow-x:auto;line-height:normal;font-family:Menlo,'DejaVu Sans Mono',consolas,'Courier New',monospace\"><span style=\"font-weight: bold\">Model: \"sequential_15\"</span>\n",
       "</pre>\n"
      ],
      "text/plain": [
       "\u001b[1mModel: \"sequential_15\"\u001b[0m\n"
      ]
     },
     "metadata": {},
     "output_type": "display_data"
    },
    {
     "data": {
      "text/html": [
       "<pre style=\"white-space:pre;overflow-x:auto;line-height:normal;font-family:Menlo,'DejaVu Sans Mono',consolas,'Courier New',monospace\">┏━━━━━━━━━━━━━━━━━━━━━━━━━━━━━━━━━┳━━━━━━━━━━━━━━━━━━━━━━━━┳━━━━━━━━━━━━━━━┓\n",
       "┃<span style=\"font-weight: bold\"> Layer (type)                    </span>┃<span style=\"font-weight: bold\"> Output Shape           </span>┃<span style=\"font-weight: bold\">       Param # </span>┃\n",
       "┡━━━━━━━━━━━━━━━━━━━━━━━━━━━━━━━━━╇━━━━━━━━━━━━━━━━━━━━━━━━╇━━━━━━━━━━━━━━━┩\n",
       "│ lstm_12 (<span style=\"color: #0087ff; text-decoration-color: #0087ff\">LSTM</span>)                  │ (<span style=\"color: #00d7ff; text-decoration-color: #00d7ff\">None</span>, <span style=\"color: #00af00; text-decoration-color: #00af00\">3</span>, <span style=\"color: #00af00; text-decoration-color: #00af00\">6</span>)           │           <span style=\"color: #00af00; text-decoration-color: #00af00\">192</span> │\n",
       "├─────────────────────────────────┼────────────────────────┼───────────────┤\n",
       "│ lstm_13 (<span style=\"color: #0087ff; text-decoration-color: #0087ff\">LSTM</span>)                  │ (<span style=\"color: #00d7ff; text-decoration-color: #00d7ff\">None</span>, <span style=\"color: #00af00; text-decoration-color: #00af00\">3</span>, <span style=\"color: #00af00; text-decoration-color: #00af00\">6</span>)           │           <span style=\"color: #00af00; text-decoration-color: #00af00\">312</span> │\n",
       "├─────────────────────────────────┼────────────────────────┼───────────────┤\n",
       "│ dense_29 (<span style=\"color: #0087ff; text-decoration-color: #0087ff\">Dense</span>)                │ (<span style=\"color: #00d7ff; text-decoration-color: #00d7ff\">None</span>, <span style=\"color: #00af00; text-decoration-color: #00af00\">3</span>, <span style=\"color: #00af00; text-decoration-color: #00af00\">27</span>)          │           <span style=\"color: #00af00; text-decoration-color: #00af00\">189</span> │\n",
       "├─────────────────────────────────┼────────────────────────┼───────────────┤\n",
       "│ dropout_13 (<span style=\"color: #0087ff; text-decoration-color: #0087ff\">Dropout</span>)            │ (<span style=\"color: #00d7ff; text-decoration-color: #00d7ff\">None</span>, <span style=\"color: #00af00; text-decoration-color: #00af00\">3</span>, <span style=\"color: #00af00; text-decoration-color: #00af00\">27</span>)          │             <span style=\"color: #00af00; text-decoration-color: #00af00\">0</span> │\n",
       "├─────────────────────────────────┼────────────────────────┼───────────────┤\n",
       "│ lstm_14 (<span style=\"color: #0087ff; text-decoration-color: #0087ff\">LSTM</span>)                  │ (<span style=\"color: #00d7ff; text-decoration-color: #00d7ff\">None</span>, <span style=\"color: #00af00; text-decoration-color: #00af00\">3</span>, <span style=\"color: #00af00; text-decoration-color: #00af00\">6</span>)           │           <span style=\"color: #00af00; text-decoration-color: #00af00\">816</span> │\n",
       "├─────────────────────────────────┼────────────────────────┼───────────────┤\n",
       "│ lstm_15 (<span style=\"color: #0087ff; text-decoration-color: #0087ff\">LSTM</span>)                  │ (<span style=\"color: #00d7ff; text-decoration-color: #00d7ff\">None</span>, <span style=\"color: #00af00; text-decoration-color: #00af00\">6</span>)              │           <span style=\"color: #00af00; text-decoration-color: #00af00\">312</span> │\n",
       "├─────────────────────────────────┼────────────────────────┼───────────────┤\n",
       "│ dense_30 (<span style=\"color: #0087ff; text-decoration-color: #0087ff\">Dense</span>)                │ (<span style=\"color: #00d7ff; text-decoration-color: #00d7ff\">None</span>, <span style=\"color: #00af00; text-decoration-color: #00af00\">1</span>)              │             <span style=\"color: #00af00; text-decoration-color: #00af00\">7</span> │\n",
       "└─────────────────────────────────┴────────────────────────┴───────────────┘\n",
       "</pre>\n"
      ],
      "text/plain": [
       "┏━━━━━━━━━━━━━━━━━━━━━━━━━━━━━━━━━┳━━━━━━━━━━━━━━━━━━━━━━━━┳━━━━━━━━━━━━━━━┓\n",
       "┃\u001b[1m \u001b[0m\u001b[1mLayer (type)                   \u001b[0m\u001b[1m \u001b[0m┃\u001b[1m \u001b[0m\u001b[1mOutput Shape          \u001b[0m\u001b[1m \u001b[0m┃\u001b[1m \u001b[0m\u001b[1m      Param #\u001b[0m\u001b[1m \u001b[0m┃\n",
       "┡━━━━━━━━━━━━━━━━━━━━━━━━━━━━━━━━━╇━━━━━━━━━━━━━━━━━━━━━━━━╇━━━━━━━━━━━━━━━┩\n",
       "│ lstm_12 (\u001b[38;5;33mLSTM\u001b[0m)                  │ (\u001b[38;5;45mNone\u001b[0m, \u001b[38;5;34m3\u001b[0m, \u001b[38;5;34m6\u001b[0m)           │           \u001b[38;5;34m192\u001b[0m │\n",
       "├─────────────────────────────────┼────────────────────────┼───────────────┤\n",
       "│ lstm_13 (\u001b[38;5;33mLSTM\u001b[0m)                  │ (\u001b[38;5;45mNone\u001b[0m, \u001b[38;5;34m3\u001b[0m, \u001b[38;5;34m6\u001b[0m)           │           \u001b[38;5;34m312\u001b[0m │\n",
       "├─────────────────────────────────┼────────────────────────┼───────────────┤\n",
       "│ dense_29 (\u001b[38;5;33mDense\u001b[0m)                │ (\u001b[38;5;45mNone\u001b[0m, \u001b[38;5;34m3\u001b[0m, \u001b[38;5;34m27\u001b[0m)          │           \u001b[38;5;34m189\u001b[0m │\n",
       "├─────────────────────────────────┼────────────────────────┼───────────────┤\n",
       "│ dropout_13 (\u001b[38;5;33mDropout\u001b[0m)            │ (\u001b[38;5;45mNone\u001b[0m, \u001b[38;5;34m3\u001b[0m, \u001b[38;5;34m27\u001b[0m)          │             \u001b[38;5;34m0\u001b[0m │\n",
       "├─────────────────────────────────┼────────────────────────┼───────────────┤\n",
       "│ lstm_14 (\u001b[38;5;33mLSTM\u001b[0m)                  │ (\u001b[38;5;45mNone\u001b[0m, \u001b[38;5;34m3\u001b[0m, \u001b[38;5;34m6\u001b[0m)           │           \u001b[38;5;34m816\u001b[0m │\n",
       "├─────────────────────────────────┼────────────────────────┼───────────────┤\n",
       "│ lstm_15 (\u001b[38;5;33mLSTM\u001b[0m)                  │ (\u001b[38;5;45mNone\u001b[0m, \u001b[38;5;34m6\u001b[0m)              │           \u001b[38;5;34m312\u001b[0m │\n",
       "├─────────────────────────────────┼────────────────────────┼───────────────┤\n",
       "│ dense_30 (\u001b[38;5;33mDense\u001b[0m)                │ (\u001b[38;5;45mNone\u001b[0m, \u001b[38;5;34m1\u001b[0m)              │             \u001b[38;5;34m7\u001b[0m │\n",
       "└─────────────────────────────────┴────────────────────────┴───────────────┘\n"
      ]
     },
     "metadata": {},
     "output_type": "display_data"
    },
    {
     "data": {
      "text/html": [
       "<pre style=\"white-space:pre;overflow-x:auto;line-height:normal;font-family:Menlo,'DejaVu Sans Mono',consolas,'Courier New',monospace\"><span style=\"font-weight: bold\"> Total params: </span><span style=\"color: #00af00; text-decoration-color: #00af00\">1,828</span> (7.14 KB)\n",
       "</pre>\n"
      ],
      "text/plain": [
       "\u001b[1m Total params: \u001b[0m\u001b[38;5;34m1,828\u001b[0m (7.14 KB)\n"
      ]
     },
     "metadata": {},
     "output_type": "display_data"
    },
    {
     "data": {
      "text/html": [
       "<pre style=\"white-space:pre;overflow-x:auto;line-height:normal;font-family:Menlo,'DejaVu Sans Mono',consolas,'Courier New',monospace\"><span style=\"font-weight: bold\"> Trainable params: </span><span style=\"color: #00af00; text-decoration-color: #00af00\">1,828</span> (7.14 KB)\n",
       "</pre>\n"
      ],
      "text/plain": [
       "\u001b[1m Trainable params: \u001b[0m\u001b[38;5;34m1,828\u001b[0m (7.14 KB)\n"
      ]
     },
     "metadata": {},
     "output_type": "display_data"
    },
    {
     "data": {
      "text/html": [
       "<pre style=\"white-space:pre;overflow-x:auto;line-height:normal;font-family:Menlo,'DejaVu Sans Mono',consolas,'Courier New',monospace\"><span style=\"font-weight: bold\"> Non-trainable params: </span><span style=\"color: #00af00; text-decoration-color: #00af00\">0</span> (0.00 B)\n",
       "</pre>\n"
      ],
      "text/plain": [
       "\u001b[1m Non-trainable params: \u001b[0m\u001b[38;5;34m0\u001b[0m (0.00 B)\n"
      ]
     },
     "metadata": {},
     "output_type": "display_data"
    }
   ],
   "source": [
    "modellstm.summary()"
   ]
  },
  {
   "cell_type": "code",
   "execution_count": 170,
   "metadata": {},
   "outputs": [
    {
     "name": "stdout",
     "output_type": "stream",
     "text": [
      "Epoch 1/1000\n",
      "\u001b[1m728/728\u001b[0m \u001b[32m━━━━━━━━━━━━━━━━━━━━\u001b[0m\u001b[37m\u001b[0m \u001b[1m17s\u001b[0m 14ms/step - loss: 0.0838 - r2_score: -7.5074 - val_loss: 0.0069 - val_r2_score: 0.3263 - learning_rate: 0.0010\n",
      "Epoch 2/1000\n",
      "\u001b[1m728/728\u001b[0m \u001b[32m━━━━━━━━━━━━━━━━━━━━\u001b[0m\u001b[37m\u001b[0m \u001b[1m10s\u001b[0m 14ms/step - loss: 0.0050 - r2_score: 0.4673 - val_loss: 0.0027 - val_r2_score: 0.7370 - learning_rate: 0.0010\n",
      "Epoch 3/1000\n",
      "\u001b[1m728/728\u001b[0m \u001b[32m━━━━━━━━━━━━━━━━━━━━\u001b[0m\u001b[37m\u001b[0m \u001b[1m8s\u001b[0m 11ms/step - loss: 0.0024 - r2_score: 0.7459 - val_loss: 0.0017 - val_r2_score: 0.8315 - learning_rate: 0.0010\n",
      "Epoch 4/1000\n",
      "\u001b[1m728/728\u001b[0m \u001b[32m━━━━━━━━━━━━━━━━━━━━\u001b[0m\u001b[37m\u001b[0m \u001b[1m14s\u001b[0m 20ms/step - loss: 0.0017 - r2_score: 0.8224 - val_loss: 8.2653e-04 - val_r2_score: 0.9198 - learning_rate: 0.0010\n",
      "Epoch 5/1000\n",
      "\u001b[1m728/728\u001b[0m \u001b[32m━━━━━━━━━━━━━━━━━━━━\u001b[0m\u001b[37m\u001b[0m \u001b[1m8s\u001b[0m 11ms/step - loss: 8.2130e-04 - r2_score: 0.9120 - val_loss: 3.4359e-04 - val_r2_score: 0.9666 - learning_rate: 0.0010\n",
      "Epoch 6/1000\n",
      "\u001b[1m728/728\u001b[0m \u001b[32m━━━━━━━━━━━━━━━━━━━━\u001b[0m\u001b[37m\u001b[0m \u001b[1m9s\u001b[0m 9ms/step - loss: 5.0120e-04 - r2_score: 0.9462 - val_loss: 3.1452e-04 - val_r2_score: 0.9695 - learning_rate: 0.0010\n",
      "Epoch 7/1000\n",
      "\u001b[1m728/728\u001b[0m \u001b[32m━━━━━━━━━━━━━━━━━━━━\u001b[0m\u001b[37m\u001b[0m \u001b[1m6s\u001b[0m 8ms/step - loss: 4.4106e-04 - r2_score: 0.9527 - val_loss: 2.2117e-04 - val_r2_score: 0.9785 - learning_rate: 0.0010\n",
      "Epoch 8/1000\n",
      "\u001b[1m728/728\u001b[0m \u001b[32m━━━━━━━━━━━━━━━━━━━━\u001b[0m\u001b[37m\u001b[0m \u001b[1m8s\u001b[0m 10ms/step - loss: 3.8298e-04 - r2_score: 0.9583 - val_loss: 2.1102e-04 - val_r2_score: 0.9795 - learning_rate: 0.0010\n",
      "Epoch 9/1000\n",
      "\u001b[1m728/728\u001b[0m \u001b[32m━━━━━━━━━━━━━━━━━━━━\u001b[0m\u001b[37m\u001b[0m \u001b[1m5s\u001b[0m 7ms/step - loss: 3.7931e-04 - r2_score: 0.9597 - val_loss: 1.8289e-04 - val_r2_score: 0.9822 - learning_rate: 0.0010\n",
      "Epoch 10/1000\n",
      "\u001b[1m728/728\u001b[0m \u001b[32m━━━━━━━━━━━━━━━━━━━━\u001b[0m\u001b[37m\u001b[0m \u001b[1m14s\u001b[0m 20ms/step - loss: 3.4628e-04 - r2_score: 0.9638 - val_loss: 1.9458e-04 - val_r2_score: 0.9811 - learning_rate: 0.0010\n",
      "Epoch 11/1000\n",
      "\u001b[1m728/728\u001b[0m \u001b[32m━━━━━━━━━━━━━━━━━━━━\u001b[0m\u001b[37m\u001b[0m \u001b[1m13s\u001b[0m 17ms/step - loss: 3.4425e-04 - r2_score: 0.9641 - val_loss: 2.1298e-04 - val_r2_score: 0.9793 - learning_rate: 0.0010\n",
      "Epoch 12/1000\n",
      "\u001b[1m728/728\u001b[0m \u001b[32m━━━━━━━━━━━━━━━━━━━━\u001b[0m\u001b[37m\u001b[0m \u001b[1m7s\u001b[0m 9ms/step - loss: 3.1563e-04 - r2_score: 0.9657 - val_loss: 1.8285e-04 - val_r2_score: 0.9822 - learning_rate: 0.0010\n",
      "Epoch 13/1000\n",
      "\u001b[1m728/728\u001b[0m \u001b[32m━━━━━━━━━━━━━━━━━━━━\u001b[0m\u001b[37m\u001b[0m \u001b[1m7s\u001b[0m 9ms/step - loss: 3.3664e-04 - r2_score: 0.9639 - val_loss: 2.2351e-04 - val_r2_score: 0.9783 - learning_rate: 0.0010\n",
      "Epoch 14/1000\n",
      "\u001b[1m728/728\u001b[0m \u001b[32m━━━━━━━━━━━━━━━━━━━━\u001b[0m\u001b[37m\u001b[0m \u001b[1m9s\u001b[0m 7ms/step - loss: 2.8877e-04 - r2_score: 0.9693 - val_loss: 2.3744e-04 - val_r2_score: 0.9770 - learning_rate: 0.0010\n",
      "Epoch 15/1000\n",
      "\u001b[1m728/728\u001b[0m \u001b[32m━━━━━━━━━━━━━━━━━━━━\u001b[0m\u001b[37m\u001b[0m \u001b[1m7s\u001b[0m 9ms/step - loss: 2.7973e-04 - r2_score: 0.9696 - val_loss: 1.4830e-04 - val_r2_score: 0.9856 - learning_rate: 0.0010\n",
      "Epoch 16/1000\n",
      "\u001b[1m728/728\u001b[0m \u001b[32m━━━━━━━━━━━━━━━━━━━━\u001b[0m\u001b[37m\u001b[0m \u001b[1m6s\u001b[0m 9ms/step - loss: 2.6390e-04 - r2_score: 0.9723 - val_loss: 1.3912e-04 - val_r2_score: 0.9865 - learning_rate: 0.0010\n",
      "Epoch 17/1000\n",
      "\u001b[1m725/728\u001b[0m \u001b[32m━━━━━━━━━━━━━━━━━━━\u001b[0m\u001b[37m━\u001b[0m \u001b[1m0s\u001b[0m 8ms/step - loss: 2.5709e-04 - r2_score: 0.9740\n",
      "Epoch 17: ReduceLROnPlateau reducing learning rate to 0.00010000000474974513.\n",
      "\u001b[1m728/728\u001b[0m \u001b[32m━━━━━━━━━━━━━━━━━━━━\u001b[0m\u001b[37m\u001b[0m \u001b[1m6s\u001b[0m 8ms/step - loss: 2.5712e-04 - r2_score: 0.9740 - val_loss: 1.4989e-04 - val_r2_score: 0.9854 - learning_rate: 0.0010\n",
      "Epoch 18/1000\n",
      "\u001b[1m728/728\u001b[0m \u001b[32m━━━━━━━━━━━━━━━━━━━━\u001b[0m\u001b[37m\u001b[0m \u001b[1m5s\u001b[0m 7ms/step - loss: 1.7939e-04 - r2_score: 0.9800 - val_loss: 1.3794e-04 - val_r2_score: 0.9866 - learning_rate: 1.0000e-04\n",
      "Epoch 19/1000\n",
      "\u001b[1m728/728\u001b[0m \u001b[32m━━━━━━━━━━━━━━━━━━━━\u001b[0m\u001b[37m\u001b[0m \u001b[1m5s\u001b[0m 7ms/step - loss: 2.0653e-04 - r2_score: 0.9784 - val_loss: 1.3307e-04 - val_r2_score: 0.9871 - learning_rate: 1.0000e-04\n",
      "Epoch 20/1000\n",
      "\u001b[1m728/728\u001b[0m \u001b[32m━━━━━━━━━━━━━━━━━━━━\u001b[0m\u001b[37m\u001b[0m \u001b[1m6s\u001b[0m 8ms/step - loss: 2.0290e-04 - r2_score: 0.9782 - val_loss: 1.5368e-04 - val_r2_score: 0.9851 - learning_rate: 1.0000e-04\n",
      "Epoch 21/1000\n",
      "\u001b[1m728/728\u001b[0m \u001b[32m━━━━━━━━━━━━━━━━━━━━\u001b[0m\u001b[37m\u001b[0m \u001b[1m5s\u001b[0m 6ms/step - loss: 2.2831e-04 - r2_score: 0.9762 - val_loss: 1.4424e-04 - val_r2_score: 0.9860 - learning_rate: 1.0000e-04\n",
      "Epoch 22/1000\n",
      "\u001b[1m728/728\u001b[0m \u001b[32m━━━━━━━━━━━━━━━━━━━━\u001b[0m\u001b[37m\u001b[0m \u001b[1m5s\u001b[0m 6ms/step - loss: 2.0485e-04 - r2_score: 0.9782 - val_loss: 1.3862e-04 - val_r2_score: 0.9865 - learning_rate: 1.0000e-04\n",
      "Epoch 23/1000\n",
      "\u001b[1m728/728\u001b[0m \u001b[32m━━━━━━━━━━━━━━━━━━━━\u001b[0m\u001b[37m\u001b[0m \u001b[1m6s\u001b[0m 8ms/step - loss: 2.0269e-04 - r2_score: 0.9785 - val_loss: 1.3008e-04 - val_r2_score: 0.9874 - learning_rate: 1.0000e-04\n",
      "Epoch 24/1000\n",
      "\u001b[1m728/728\u001b[0m \u001b[32m━━━━━━━━━━━━━━━━━━━━\u001b[0m\u001b[37m\u001b[0m \u001b[1m5s\u001b[0m 7ms/step - loss: 2.1113e-04 - r2_score: 0.9782 - val_loss: 1.2895e-04 - val_r2_score: 0.9875 - learning_rate: 1.0000e-04\n",
      "Epoch 25/1000\n",
      "\u001b[1m728/728\u001b[0m \u001b[32m━━━━━━━━━━━━━━━━━━━━\u001b[0m\u001b[37m\u001b[0m \u001b[1m6s\u001b[0m 8ms/step - loss: 2.0959e-04 - r2_score: 0.9779 - val_loss: 1.2555e-04 - val_r2_score: 0.9878 - learning_rate: 1.0000e-04\n",
      "Epoch 26/1000\n",
      "\u001b[1m728/728\u001b[0m \u001b[32m━━━━━━━━━━━━━━━━━━━━\u001b[0m\u001b[37m\u001b[0m \u001b[1m5s\u001b[0m 6ms/step - loss: 1.9265e-04 - r2_score: 0.9793 - val_loss: 1.3341e-04 - val_r2_score: 0.9870 - learning_rate: 1.0000e-04\n",
      "Epoch 27/1000\n",
      "\u001b[1m718/728\u001b[0m \u001b[32m━━━━━━━━━━━━━━━━━━━\u001b[0m\u001b[37m━\u001b[0m \u001b[1m0s\u001b[0m 7ms/step - loss: 1.9048e-04 - r2_score: 0.9794\n",
      "Epoch 27: ReduceLROnPlateau reducing learning rate to 1.0000000474974514e-05.\n",
      "\u001b[1m728/728\u001b[0m \u001b[32m━━━━━━━━━━━━━━━━━━━━\u001b[0m\u001b[37m\u001b[0m \u001b[1m5s\u001b[0m 7ms/step - loss: 1.9065e-04 - r2_score: 0.9794 - val_loss: 1.2589e-04 - val_r2_score: 0.9878 - learning_rate: 1.0000e-04\n",
      "Epoch 28/1000\n",
      "\u001b[1m728/728\u001b[0m \u001b[32m━━━━━━━━━━━━━━━━━━━━\u001b[0m\u001b[37m\u001b[0m \u001b[1m6s\u001b[0m 8ms/step - loss: 1.9202e-04 - r2_score: 0.9794 - val_loss: 1.2380e-04 - val_r2_score: 0.9880 - learning_rate: 1.0000e-05\n",
      "Epoch 29/1000\n",
      "\u001b[1m728/728\u001b[0m \u001b[32m━━━━━━━━━━━━━━━━━━━━\u001b[0m\u001b[37m\u001b[0m \u001b[1m5s\u001b[0m 7ms/step - loss: 1.8903e-04 - r2_score: 0.9795 - val_loss: 1.2332e-04 - val_r2_score: 0.9880 - learning_rate: 1.0000e-05\n",
      "Epoch 30/1000\n",
      "\u001b[1m728/728\u001b[0m \u001b[32m━━━━━━━━━━━━━━━━━━━━\u001b[0m\u001b[37m\u001b[0m \u001b[1m5s\u001b[0m 6ms/step - loss: 1.9322e-04 - r2_score: 0.9793 - val_loss: 1.2385e-04 - val_r2_score: 0.9880 - learning_rate: 1.0000e-05\n",
      "Epoch 31/1000\n",
      "\u001b[1m728/728\u001b[0m \u001b[32m━━━━━━━━━━━━━━━━━━━━\u001b[0m\u001b[37m\u001b[0m \u001b[1m6s\u001b[0m 8ms/step - loss: 1.8821e-04 - r2_score: 0.9802 - val_loss: 1.2300e-04 - val_r2_score: 0.9881 - learning_rate: 1.0000e-05\n",
      "Epoch 32/1000\n",
      "\u001b[1m728/728\u001b[0m \u001b[32m━━━━━━━━━━━━━━━━━━━━\u001b[0m\u001b[37m\u001b[0m \u001b[1m9s\u001b[0m 6ms/step - loss: 1.9647e-04 - r2_score: 0.9800 - val_loss: 1.2357e-04 - val_r2_score: 0.9880 - learning_rate: 1.0000e-05\n",
      "Epoch 33/1000\n",
      "\u001b[1m728/728\u001b[0m \u001b[32m━━━━━━━━━━━━━━━━━━━━\u001b[0m\u001b[37m\u001b[0m \u001b[1m6s\u001b[0m 8ms/step - loss: 1.9745e-04 - r2_score: 0.9793 - val_loss: 1.2231e-04 - val_r2_score: 0.9881 - learning_rate: 1.0000e-05\n",
      "Epoch 34/1000\n",
      "\u001b[1m728/728\u001b[0m \u001b[32m━━━━━━━━━━━━━━━━━━━━\u001b[0m\u001b[37m\u001b[0m \u001b[1m5s\u001b[0m 7ms/step - loss: 1.8943e-04 - r2_score: 0.9804 - val_loss: 1.2333e-04 - val_r2_score: 0.9880 - learning_rate: 1.0000e-05\n",
      "Epoch 35/1000\n",
      "\u001b[1m728/728\u001b[0m \u001b[32m━━━━━━━━━━━━━━━━━━━━\u001b[0m\u001b[37m\u001b[0m \u001b[1m5s\u001b[0m 6ms/step - loss: 1.9153e-04 - r2_score: 0.9795 - val_loss: 1.2366e-04 - val_r2_score: 0.9880 - learning_rate: 1.0000e-05\n",
      "Epoch 36/1000\n",
      "\u001b[1m728/728\u001b[0m \u001b[32m━━━━━━━━━━━━━━━━━━━━\u001b[0m\u001b[37m\u001b[0m \u001b[1m5s\u001b[0m 7ms/step - loss: 1.7574e-04 - r2_score: 0.9810 - val_loss: 1.2340e-04 - val_r2_score: 0.9880 - learning_rate: 1.0000e-05\n",
      "Epoch 37/1000\n",
      "\u001b[1m726/728\u001b[0m \u001b[32m━━━━━━━━━━━━━━━━━━━\u001b[0m\u001b[37m━\u001b[0m \u001b[1m0s\u001b[0m 6ms/step - loss: 1.8823e-04 - r2_score: 0.9803\n",
      "Epoch 37: ReduceLROnPlateau reducing learning rate to 1e-05.\n",
      "\u001b[1m728/728\u001b[0m \u001b[32m━━━━━━━━━━━━━━━━━━━━\u001b[0m\u001b[37m\u001b[0m \u001b[1m5s\u001b[0m 6ms/step - loss: 1.8824e-04 - r2_score: 0.9803 - val_loss: 1.2353e-04 - val_r2_score: 0.9880 - learning_rate: 1.0000e-05\n",
      "Epoch 38/1000\n",
      "\u001b[1m728/728\u001b[0m \u001b[32m━━━━━━━━━━━━━━━━━━━━\u001b[0m\u001b[37m\u001b[0m \u001b[1m5s\u001b[0m 6ms/step - loss: 1.8833e-04 - r2_score: 0.9796 - val_loss: 1.2292e-04 - val_r2_score: 0.9881 - learning_rate: 1.0000e-05\n",
      "Epoch 39/1000\n",
      "\u001b[1m728/728\u001b[0m \u001b[32m━━━━━━━━━━━━━━━━━━━━\u001b[0m\u001b[37m\u001b[0m \u001b[1m5s\u001b[0m 7ms/step - loss: 1.8674e-04 - r2_score: 0.9795 - val_loss: 1.2251e-04 - val_r2_score: 0.9881 - learning_rate: 1.0000e-05\n",
      "Epoch 40/1000\n",
      "\u001b[1m728/728\u001b[0m \u001b[32m━━━━━━━━━━━━━━━━━━━━\u001b[0m\u001b[37m\u001b[0m \u001b[1m5s\u001b[0m 7ms/step - loss: 1.9595e-04 - r2_score: 0.9792 - val_loss: 1.2222e-04 - val_r2_score: 0.9881 - learning_rate: 1.0000e-05\n",
      "Epoch 41/1000\n",
      "\u001b[1m728/728\u001b[0m \u001b[32m━━━━━━━━━━━━━━━━━━━━\u001b[0m\u001b[37m\u001b[0m \u001b[1m4s\u001b[0m 6ms/step - loss: 1.8125e-04 - r2_score: 0.9800 - val_loss: 1.2145e-04 - val_r2_score: 0.9882 - learning_rate: 1.0000e-05\n",
      "Epoch 42/1000\n",
      "\u001b[1m728/728\u001b[0m \u001b[32m━━━━━━━━━━━━━━━━━━━━\u001b[0m\u001b[37m\u001b[0m \u001b[1m5s\u001b[0m 7ms/step - loss: 1.9400e-04 - r2_score: 0.9796 - val_loss: 1.2367e-04 - val_r2_score: 0.9880 - learning_rate: 1.0000e-05\n",
      "Epoch 43/1000\n",
      "\u001b[1m728/728\u001b[0m \u001b[32m━━━━━━━━━━━━━━━━━━━━\u001b[0m\u001b[37m\u001b[0m \u001b[1m5s\u001b[0m 7ms/step - loss: 1.9301e-04 - r2_score: 0.9792 - val_loss: 1.2330e-04 - val_r2_score: 0.9880 - learning_rate: 1.0000e-05\n",
      "Epoch 44/1000\n",
      "\u001b[1m728/728\u001b[0m \u001b[32m━━━━━━━━━━━━━━━━━━━━\u001b[0m\u001b[37m\u001b[0m \u001b[1m5s\u001b[0m 6ms/step - loss: 1.7095e-04 - r2_score: 0.9813 - val_loss: 1.2210e-04 - val_r2_score: 0.9881 - learning_rate: 1.0000e-05\n",
      "Epoch 45/1000\n",
      "\u001b[1m728/728\u001b[0m \u001b[32m━━━━━━━━━━━━━━━━━━━━\u001b[0m\u001b[37m\u001b[0m \u001b[1m6s\u001b[0m 8ms/step - loss: 1.9702e-04 - r2_score: 0.9794 - val_loss: 1.2288e-04 - val_r2_score: 0.9881 - learning_rate: 1.0000e-05\n",
      "Epoch 46/1000\n",
      "\u001b[1m728/728\u001b[0m \u001b[32m━━━━━━━━━━━━━━━━━━━━\u001b[0m\u001b[37m\u001b[0m \u001b[1m9s\u001b[0m 6ms/step - loss: 1.8383e-04 - r2_score: 0.9799 - val_loss: 1.2220e-04 - val_r2_score: 0.9881 - learning_rate: 1.0000e-05\n",
      "Epoch 47/1000\n",
      "\u001b[1m728/728\u001b[0m \u001b[32m━━━━━━━━━━━━━━━━━━━━\u001b[0m\u001b[37m\u001b[0m \u001b[1m5s\u001b[0m 7ms/step - loss: 2.0039e-04 - r2_score: 0.9786 - val_loss: 1.2379e-04 - val_r2_score: 0.9880 - learning_rate: 1.0000e-05\n",
      "Epoch 48/1000\n",
      "\u001b[1m728/728\u001b[0m \u001b[32m━━━━━━━━━━━━━━━━━━━━\u001b[0m\u001b[37m\u001b[0m \u001b[1m5s\u001b[0m 7ms/step - loss: 1.9229e-04 - r2_score: 0.9800 - val_loss: 1.2340e-04 - val_r2_score: 0.9880 - learning_rate: 1.0000e-05\n",
      "Epoch 49/1000\n",
      "\u001b[1m728/728\u001b[0m \u001b[32m━━━━━━━━━━━━━━━━━━━━\u001b[0m\u001b[37m\u001b[0m \u001b[1m8s\u001b[0m 11ms/step - loss: 1.8888e-04 - r2_score: 0.9796 - val_loss: 1.2147e-04 - val_r2_score: 0.9882 - learning_rate: 1.0000e-05\n",
      "Epoch 50/1000\n",
      "\u001b[1m728/728\u001b[0m \u001b[32m━━━━━━━━━━━━━━━━━━━━\u001b[0m\u001b[37m\u001b[0m \u001b[1m5s\u001b[0m 7ms/step - loss: 1.9452e-04 - r2_score: 0.9792 - val_loss: 1.2384e-04 - val_r2_score: 0.9880 - learning_rate: 1.0000e-05\n",
      "Epoch 51/1000\n",
      "\u001b[1m728/728\u001b[0m \u001b[32m━━━━━━━━━━━━━━━━━━━━\u001b[0m\u001b[37m\u001b[0m \u001b[1m5s\u001b[0m 6ms/step - loss: 1.8914e-04 - r2_score: 0.9800 - val_loss: 1.2146e-04 - val_r2_score: 0.9882 - learning_rate: 1.0000e-05\n",
      "Epoch 52/1000\n",
      "\u001b[1m728/728\u001b[0m \u001b[32m━━━━━━━━━━━━━━━━━━━━\u001b[0m\u001b[37m\u001b[0m \u001b[1m5s\u001b[0m 6ms/step - loss: 1.8563e-04 - r2_score: 0.9805 - val_loss: 1.2411e-04 - val_r2_score: 0.9880 - learning_rate: 1.0000e-05\n",
      "Epoch 53/1000\n",
      "\u001b[1m728/728\u001b[0m \u001b[32m━━━━━━━━━━━━━━━━━━━━\u001b[0m\u001b[37m\u001b[0m \u001b[1m5s\u001b[0m 7ms/step - loss: 1.8785e-04 - r2_score: 0.9796 - val_loss: 1.2122e-04 - val_r2_score: 0.9882 - learning_rate: 1.0000e-05\n",
      "Epoch 54/1000\n",
      "\u001b[1m728/728\u001b[0m \u001b[32m━━━━━━━━━━━━━━━━━━━━\u001b[0m\u001b[37m\u001b[0m \u001b[1m5s\u001b[0m 6ms/step - loss: 1.8857e-04 - r2_score: 0.9800 - val_loss: 1.2085e-04 - val_r2_score: 0.9883 - learning_rate: 1.0000e-05\n",
      "Epoch 55/1000\n",
      "\u001b[1m728/728\u001b[0m \u001b[32m━━━━━━━━━━━━━━━━━━━━\u001b[0m\u001b[37m\u001b[0m \u001b[1m5s\u001b[0m 7ms/step - loss: 1.8743e-04 - r2_score: 0.9798 - val_loss: 1.2118e-04 - val_r2_score: 0.9882 - learning_rate: 1.0000e-05\n",
      "Epoch 56/1000\n",
      "\u001b[1m728/728\u001b[0m \u001b[32m━━━━━━━━━━━━━━━━━━━━\u001b[0m\u001b[37m\u001b[0m \u001b[1m5s\u001b[0m 7ms/step - loss: 2.0450e-04 - r2_score: 0.9794 - val_loss: 1.2098e-04 - val_r2_score: 0.9883 - learning_rate: 1.0000e-05\n",
      "Epoch 57/1000\n",
      "\u001b[1m728/728\u001b[0m \u001b[32m━━━━━━━━━━━━━━━━━━━━\u001b[0m\u001b[37m\u001b[0m \u001b[1m5s\u001b[0m 6ms/step - loss: 1.9285e-04 - r2_score: 0.9791 - val_loss: 1.2296e-04 - val_r2_score: 0.9881 - learning_rate: 1.0000e-05\n",
      "Epoch 58/1000\n",
      "\u001b[1m728/728\u001b[0m \u001b[32m━━━━━━━━━━━━━━━━━━━━\u001b[0m\u001b[37m\u001b[0m \u001b[1m5s\u001b[0m 7ms/step - loss: 1.9032e-04 - r2_score: 0.9790 - val_loss: 1.2031e-04 - val_r2_score: 0.9883 - learning_rate: 1.0000e-05\n",
      "Epoch 59/1000\n",
      "\u001b[1m728/728\u001b[0m \u001b[32m━━━━━━━━━━━━━━━━━━━━\u001b[0m\u001b[37m\u001b[0m \u001b[1m5s\u001b[0m 7ms/step - loss: 1.7473e-04 - r2_score: 0.9804 - val_loss: 1.2166e-04 - val_r2_score: 0.9882 - learning_rate: 1.0000e-05\n",
      "Epoch 60/1000\n",
      "\u001b[1m728/728\u001b[0m \u001b[32m━━━━━━━━━━━━━━━━━━━━\u001b[0m\u001b[37m\u001b[0m \u001b[1m4s\u001b[0m 6ms/step - loss: 1.6863e-04 - r2_score: 0.9813 - val_loss: 1.2005e-04 - val_r2_score: 0.9883 - learning_rate: 1.0000e-05\n",
      "Epoch 61/1000\n",
      "\u001b[1m728/728\u001b[0m \u001b[32m━━━━━━━━━━━━━━━━━━━━\u001b[0m\u001b[37m\u001b[0m \u001b[1m5s\u001b[0m 6ms/step - loss: 1.8895e-04 - r2_score: 0.9800 - val_loss: 1.2127e-04 - val_r2_score: 0.9882 - learning_rate: 1.0000e-05\n",
      "Epoch 62/1000\n",
      "\u001b[1m728/728\u001b[0m \u001b[32m━━━━━━━━━━━━━━━━━━━━\u001b[0m\u001b[37m\u001b[0m \u001b[1m5s\u001b[0m 7ms/step - loss: 1.8999e-04 - r2_score: 0.9801 - val_loss: 1.2056e-04 - val_r2_score: 0.9883 - learning_rate: 1.0000e-05\n",
      "Epoch 63/1000\n",
      "\u001b[1m728/728\u001b[0m \u001b[32m━━━━━━━━━━━━━━━━━━━━\u001b[0m\u001b[37m\u001b[0m \u001b[1m5s\u001b[0m 6ms/step - loss: 1.7497e-04 - r2_score: 0.9809 - val_loss: 1.2027e-04 - val_r2_score: 0.9883 - learning_rate: 1.0000e-05\n",
      "Epoch 64/1000\n",
      "\u001b[1m728/728\u001b[0m \u001b[32m━━━━━━━━━━━━━━━━━━━━\u001b[0m\u001b[37m\u001b[0m \u001b[1m5s\u001b[0m 7ms/step - loss: 1.9846e-04 - r2_score: 0.9794 - val_loss: 1.2045e-04 - val_r2_score: 0.9883 - learning_rate: 1.0000e-05\n",
      "Epoch 65/1000\n",
      "\u001b[1m728/728\u001b[0m \u001b[32m━━━━━━━━━━━━━━━━━━━━\u001b[0m\u001b[37m\u001b[0m \u001b[1m5s\u001b[0m 7ms/step - loss: 1.9343e-04 - r2_score: 0.9791 - val_loss: 1.1994e-04 - val_r2_score: 0.9884 - learning_rate: 1.0000e-05\n",
      "Epoch 66/1000\n",
      "\u001b[1m728/728\u001b[0m \u001b[32m━━━━━━━━━━━━━━━━━━━━\u001b[0m\u001b[37m\u001b[0m \u001b[1m10s\u001b[0m 6ms/step - loss: 1.7015e-04 - r2_score: 0.9818 - val_loss: 1.2051e-04 - val_r2_score: 0.9883 - learning_rate: 1.0000e-05\n",
      "Epoch 67/1000\n",
      "\u001b[1m728/728\u001b[0m \u001b[32m━━━━━━━━━━━━━━━━━━━━\u001b[0m\u001b[37m\u001b[0m \u001b[1m5s\u001b[0m 7ms/step - loss: 1.7851e-04 - r2_score: 0.9804 - val_loss: 1.2055e-04 - val_r2_score: 0.9883 - learning_rate: 1.0000e-05\n",
      "Epoch 68/1000\n",
      "\u001b[1m728/728\u001b[0m \u001b[32m━━━━━━━━━━━━━━━━━━━━\u001b[0m\u001b[37m\u001b[0m \u001b[1m5s\u001b[0m 7ms/step - loss: 1.7784e-04 - r2_score: 0.9810 - val_loss: 1.2266e-04 - val_r2_score: 0.9881 - learning_rate: 1.0000e-05\n",
      "Epoch 69/1000\n",
      "\u001b[1m728/728\u001b[0m \u001b[32m━━━━━━━━━━━━━━━━━━━━\u001b[0m\u001b[37m\u001b[0m \u001b[1m4s\u001b[0m 6ms/step - loss: 1.7713e-04 - r2_score: 0.9808 - val_loss: 1.2103e-04 - val_r2_score: 0.9883 - learning_rate: 1.0000e-05\n",
      "Epoch 70/1000\n",
      "\u001b[1m728/728\u001b[0m \u001b[32m━━━━━━━━━━━━━━━━━━━━\u001b[0m\u001b[37m\u001b[0m \u001b[1m5s\u001b[0m 7ms/step - loss: 1.9376e-04 - r2_score: 0.9793 - val_loss: 1.1994e-04 - val_r2_score: 0.9884 - learning_rate: 1.0000e-05\n",
      "Epoch 71/1000\n",
      "\u001b[1m728/728\u001b[0m \u001b[32m━━━━━━━━━━━━━━━━━━━━\u001b[0m\u001b[37m\u001b[0m \u001b[1m5s\u001b[0m 7ms/step - loss: 1.7780e-04 - r2_score: 0.9805 - val_loss: 1.1959e-04 - val_r2_score: 0.9884 - learning_rate: 1.0000e-05\n",
      "Epoch 72/1000\n",
      "\u001b[1m728/728\u001b[0m \u001b[32m━━━━━━━━━━━━━━━━━━━━\u001b[0m\u001b[37m\u001b[0m \u001b[1m5s\u001b[0m 7ms/step - loss: 1.7834e-04 - r2_score: 0.9808 - val_loss: 1.1985e-04 - val_r2_score: 0.9884 - learning_rate: 1.0000e-05\n",
      "Epoch 73/1000\n",
      "\u001b[1m728/728\u001b[0m \u001b[32m━━━━━━━━━━━━━━━━━━━━\u001b[0m\u001b[37m\u001b[0m \u001b[1m6s\u001b[0m 8ms/step - loss: 1.8909e-04 - r2_score: 0.9800 - val_loss: 1.2113e-04 - val_r2_score: 0.9882 - learning_rate: 1.0000e-05\n",
      "Epoch 74/1000\n",
      "\u001b[1m728/728\u001b[0m \u001b[32m━━━━━━━━━━━━━━━━━━━━\u001b[0m\u001b[37m\u001b[0m \u001b[1m5s\u001b[0m 7ms/step - loss: 1.7407e-04 - r2_score: 0.9810 - val_loss: 1.2037e-04 - val_r2_score: 0.9883 - learning_rate: 1.0000e-05\n",
      "Epoch 75/1000\n",
      "\u001b[1m728/728\u001b[0m \u001b[32m━━━━━━━━━━━━━━━━━━━━\u001b[0m\u001b[37m\u001b[0m \u001b[1m5s\u001b[0m 7ms/step - loss: 1.9091e-04 - r2_score: 0.9797 - val_loss: 1.1948e-04 - val_r2_score: 0.9884 - learning_rate: 1.0000e-05\n",
      "Epoch 76/1000\n",
      "\u001b[1m728/728\u001b[0m \u001b[32m━━━━━━━━━━━━━━━━━━━━\u001b[0m\u001b[37m\u001b[0m \u001b[1m5s\u001b[0m 7ms/step - loss: 1.9387e-04 - r2_score: 0.9785 - val_loss: 1.1981e-04 - val_r2_score: 0.9884 - learning_rate: 1.0000e-05\n",
      "Epoch 77/1000\n",
      "\u001b[1m728/728\u001b[0m \u001b[32m━━━━━━━━━━━━━━━━━━━━\u001b[0m\u001b[37m\u001b[0m \u001b[1m6s\u001b[0m 8ms/step - loss: 1.8698e-04 - r2_score: 0.9800 - val_loss: 1.1908e-04 - val_r2_score: 0.9884 - learning_rate: 1.0000e-05\n",
      "Epoch 78/1000\n",
      "\u001b[1m728/728\u001b[0m \u001b[32m━━━━━━━━━━━━━━━━━━━━\u001b[0m\u001b[37m\u001b[0m \u001b[1m4s\u001b[0m 6ms/step - loss: 1.8644e-04 - r2_score: 0.9798 - val_loss: 1.2006e-04 - val_r2_score: 0.9883 - learning_rate: 1.0000e-05\n",
      "Epoch 79/1000\n",
      "\u001b[1m728/728\u001b[0m \u001b[32m━━━━━━━━━━━━━━━━━━━━\u001b[0m\u001b[37m\u001b[0m \u001b[1m5s\u001b[0m 7ms/step - loss: 1.7996e-04 - r2_score: 0.9809 - val_loss: 1.2101e-04 - val_r2_score: 0.9883 - learning_rate: 1.0000e-05\n",
      "Epoch 80/1000\n",
      "\u001b[1m728/728\u001b[0m \u001b[32m━━━━━━━━━━━━━━━━━━━━\u001b[0m\u001b[37m\u001b[0m \u001b[1m5s\u001b[0m 7ms/step - loss: 1.7454e-04 - r2_score: 0.9805 - val_loss: 1.2040e-04 - val_r2_score: 0.9883 - learning_rate: 1.0000e-05\n",
      "Epoch 81/1000\n",
      "\u001b[1m728/728\u001b[0m \u001b[32m━━━━━━━━━━━━━━━━━━━━\u001b[0m\u001b[37m\u001b[0m \u001b[1m5s\u001b[0m 6ms/step - loss: 1.9160e-04 - r2_score: 0.9793 - val_loss: 1.2215e-04 - val_r2_score: 0.9881 - learning_rate: 1.0000e-05\n",
      "Epoch 82/1000\n",
      "\u001b[1m728/728\u001b[0m \u001b[32m━━━━━━━━━━━━━━━━━━━━\u001b[0m\u001b[37m\u001b[0m \u001b[1m5s\u001b[0m 7ms/step - loss: 1.8097e-04 - r2_score: 0.9801 - val_loss: 1.1986e-04 - val_r2_score: 0.9884 - learning_rate: 1.0000e-05\n",
      "Epoch 83/1000\n",
      "\u001b[1m728/728\u001b[0m \u001b[32m━━━━━━━━━━━━━━━━━━━━\u001b[0m\u001b[37m\u001b[0m \u001b[1m5s\u001b[0m 6ms/step - loss: 1.7974e-04 - r2_score: 0.9804 - val_loss: 1.2096e-04 - val_r2_score: 0.9883 - learning_rate: 1.0000e-05\n",
      "Epoch 84/1000\n",
      "\u001b[1m728/728\u001b[0m \u001b[32m━━━━━━━━━━━━━━━━━━━━\u001b[0m\u001b[37m\u001b[0m \u001b[1m5s\u001b[0m 7ms/step - loss: 1.6657e-04 - r2_score: 0.9815 - val_loss: 1.2152e-04 - val_r2_score: 0.9882 - learning_rate: 1.0000e-05\n",
      "Epoch 85/1000\n",
      "\u001b[1m728/728\u001b[0m \u001b[32m━━━━━━━━━━━━━━━━━━━━\u001b[0m\u001b[37m\u001b[0m \u001b[1m5s\u001b[0m 7ms/step - loss: 1.8321e-04 - r2_score: 0.9804 - val_loss: 1.1962e-04 - val_r2_score: 0.9884 - learning_rate: 1.0000e-05\n",
      "Epoch 86/1000\n",
      "\u001b[1m728/728\u001b[0m \u001b[32m━━━━━━━━━━━━━━━━━━━━\u001b[0m\u001b[37m\u001b[0m \u001b[1m5s\u001b[0m 7ms/step - loss: 1.9304e-04 - r2_score: 0.9793 - val_loss: 1.1928e-04 - val_r2_score: 0.9884 - learning_rate: 1.0000e-05\n",
      "Epoch 87/1000\n",
      "\u001b[1m728/728\u001b[0m \u001b[32m━━━━━━━━━━━━━━━━━━━━\u001b[0m\u001b[37m\u001b[0m \u001b[1m5s\u001b[0m 6ms/step - loss: 1.8883e-04 - r2_score: 0.9803 - val_loss: 1.1870e-04 - val_r2_score: 0.9885 - learning_rate: 1.0000e-05\n",
      "Epoch 88/1000\n",
      "\u001b[1m728/728\u001b[0m \u001b[32m━━━━━━━━━━━━━━━━━━━━\u001b[0m\u001b[37m\u001b[0m \u001b[1m10s\u001b[0m 13ms/step - loss: 1.7900e-04 - r2_score: 0.9808 - val_loss: 1.1934e-04 - val_r2_score: 0.9884 - learning_rate: 1.0000e-05\n",
      "Epoch 89/1000\n",
      "\u001b[1m728/728\u001b[0m \u001b[32m━━━━━━━━━━━━━━━━━━━━\u001b[0m\u001b[37m\u001b[0m \u001b[1m5s\u001b[0m 7ms/step - loss: 1.8496e-04 - r2_score: 0.9801 - val_loss: 1.1894e-04 - val_r2_score: 0.9885 - learning_rate: 1.0000e-05\n",
      "Epoch 90/1000\n",
      "\u001b[1m728/728\u001b[0m \u001b[32m━━━━━━━━━━━━━━━━━━━━\u001b[0m\u001b[37m\u001b[0m \u001b[1m5s\u001b[0m 7ms/step - loss: 1.7894e-04 - r2_score: 0.9811 - val_loss: 1.2105e-04 - val_r2_score: 0.9882 - learning_rate: 1.0000e-05\n",
      "Epoch 91/1000\n",
      "\u001b[1m728/728\u001b[0m \u001b[32m━━━━━━━━━━━━━━━━━━━━\u001b[0m\u001b[37m\u001b[0m \u001b[1m5s\u001b[0m 7ms/step - loss: 1.7861e-04 - r2_score: 0.9811 - val_loss: 1.1945e-04 - val_r2_score: 0.9884 - learning_rate: 1.0000e-05\n",
      "Epoch 92/1000\n",
      "\u001b[1m728/728\u001b[0m \u001b[32m━━━━━━━━━━━━━━━━━━━━\u001b[0m\u001b[37m\u001b[0m \u001b[1m5s\u001b[0m 7ms/step - loss: 1.8644e-04 - r2_score: 0.9799 - val_loss: 1.1837e-04 - val_r2_score: 0.9885 - learning_rate: 1.0000e-05\n",
      "Epoch 93/1000\n",
      "\u001b[1m728/728\u001b[0m \u001b[32m━━━━━━━━━━━━━━━━━━━━\u001b[0m\u001b[37m\u001b[0m \u001b[1m5s\u001b[0m 7ms/step - loss: 1.7573e-04 - r2_score: 0.9807 - val_loss: 1.2024e-04 - val_r2_score: 0.9883 - learning_rate: 1.0000e-05\n",
      "Epoch 94/1000\n",
      "\u001b[1m728/728\u001b[0m \u001b[32m━━━━━━━━━━━━━━━━━━━━\u001b[0m\u001b[37m\u001b[0m \u001b[1m4s\u001b[0m 6ms/step - loss: 2.0414e-04 - r2_score: 0.9798 - val_loss: 1.1860e-04 - val_r2_score: 0.9885 - learning_rate: 1.0000e-05\n",
      "Epoch 95/1000\n",
      "\u001b[1m728/728\u001b[0m \u001b[32m━━━━━━━━━━━━━━━━━━━━\u001b[0m\u001b[37m\u001b[0m \u001b[1m5s\u001b[0m 6ms/step - loss: 1.8285e-04 - r2_score: 0.9806 - val_loss: 1.2001e-04 - val_r2_score: 0.9884 - learning_rate: 1.0000e-05\n",
      "Epoch 96/1000\n",
      "\u001b[1m728/728\u001b[0m \u001b[32m━━━━━━━━━━━━━━━━━━━━\u001b[0m\u001b[37m\u001b[0m \u001b[1m5s\u001b[0m 7ms/step - loss: 1.8069e-04 - r2_score: 0.9804 - val_loss: 1.2241e-04 - val_r2_score: 0.9881 - learning_rate: 1.0000e-05\n",
      "Epoch 97/1000\n",
      "\u001b[1m728/728\u001b[0m \u001b[32m━━━━━━━━━━━━━━━━━━━━\u001b[0m\u001b[37m\u001b[0m \u001b[1m5s\u001b[0m 6ms/step - loss: 1.7500e-04 - r2_score: 0.9815 - val_loss: 1.1890e-04 - val_r2_score: 0.9885 - learning_rate: 1.0000e-05\n",
      "Epoch 98/1000\n",
      "\u001b[1m728/728\u001b[0m \u001b[32m━━━━━━━━━━━━━━━━━━━━\u001b[0m\u001b[37m\u001b[0m \u001b[1m5s\u001b[0m 6ms/step - loss: 1.6805e-04 - r2_score: 0.9817 - val_loss: 1.2047e-04 - val_r2_score: 0.9883 - learning_rate: 1.0000e-05\n",
      "Epoch 99/1000\n",
      "\u001b[1m728/728\u001b[0m \u001b[32m━━━━━━━━━━━━━━━━━━━━\u001b[0m\u001b[37m\u001b[0m \u001b[1m5s\u001b[0m 7ms/step - loss: 1.7932e-04 - r2_score: 0.9813 - val_loss: 1.1879e-04 - val_r2_score: 0.9885 - learning_rate: 1.0000e-05\n",
      "Epoch 100/1000\n",
      "\u001b[1m728/728\u001b[0m \u001b[32m━━━━━━━━━━━━━━━━━━━━\u001b[0m\u001b[37m\u001b[0m \u001b[1m5s\u001b[0m 6ms/step - loss: 1.8627e-04 - r2_score: 0.9807 - val_loss: 1.2060e-04 - val_r2_score: 0.9883 - learning_rate: 1.0000e-05\n",
      "Epoch 101/1000\n",
      "\u001b[1m728/728\u001b[0m \u001b[32m━━━━━━━━━━━━━━━━━━━━\u001b[0m\u001b[37m\u001b[0m \u001b[1m5s\u001b[0m 7ms/step - loss: 1.8205e-04 - r2_score: 0.9807 - val_loss: 1.1811e-04 - val_r2_score: 0.9885 - learning_rate: 1.0000e-05\n",
      "Epoch 102/1000\n",
      "\u001b[1m728/728\u001b[0m \u001b[32m━━━━━━━━━━━━━━━━━━━━\u001b[0m\u001b[37m\u001b[0m \u001b[1m6s\u001b[0m 8ms/step - loss: 1.7681e-04 - r2_score: 0.9810 - val_loss: 1.1903e-04 - val_r2_score: 0.9884 - learning_rate: 1.0000e-05\n",
      "Epoch 103/1000\n",
      "\u001b[1m728/728\u001b[0m \u001b[32m━━━━━━━━━━━━━━━━━━━━\u001b[0m\u001b[37m\u001b[0m \u001b[1m5s\u001b[0m 6ms/step - loss: 1.8079e-04 - r2_score: 0.9803 - val_loss: 1.1892e-04 - val_r2_score: 0.9885 - learning_rate: 1.0000e-05\n",
      "Epoch 104/1000\n",
      "\u001b[1m728/728\u001b[0m \u001b[32m━━━━━━━━━━━━━━━━━━━━\u001b[0m\u001b[37m\u001b[0m \u001b[1m5s\u001b[0m 7ms/step - loss: 1.7850e-04 - r2_score: 0.9805 - val_loss: 1.1860e-04 - val_r2_score: 0.9885 - learning_rate: 1.0000e-05\n",
      "Epoch 105/1000\n",
      "\u001b[1m728/728\u001b[0m \u001b[32m━━━━━━━━━━━━━━━━━━━━\u001b[0m\u001b[37m\u001b[0m \u001b[1m5s\u001b[0m 7ms/step - loss: 1.8238e-04 - r2_score: 0.9802 - val_loss: 1.1842e-04 - val_r2_score: 0.9885 - learning_rate: 1.0000e-05\n",
      "Epoch 106/1000\n",
      "\u001b[1m728/728\u001b[0m \u001b[32m━━━━━━━━━━━━━━━━━━━━\u001b[0m\u001b[37m\u001b[0m \u001b[1m5s\u001b[0m 7ms/step - loss: 1.9011e-04 - r2_score: 0.9796 - val_loss: 1.1854e-04 - val_r2_score: 0.9885 - learning_rate: 1.0000e-05\n",
      "Epoch 107/1000\n",
      "\u001b[1m728/728\u001b[0m \u001b[32m━━━━━━━━━━━━━━━━━━━━\u001b[0m\u001b[37m\u001b[0m \u001b[1m6s\u001b[0m 7ms/step - loss: 1.8097e-04 - r2_score: 0.9812 - val_loss: 1.1770e-04 - val_r2_score: 0.9886 - learning_rate: 1.0000e-05\n",
      "Epoch 108/1000\n",
      "\u001b[1m728/728\u001b[0m \u001b[32m━━━━━━━━━━━━━━━━━━━━\u001b[0m\u001b[37m\u001b[0m \u001b[1m5s\u001b[0m 7ms/step - loss: 1.6583e-04 - r2_score: 0.9819 - val_loss: 1.1852e-04 - val_r2_score: 0.9885 - learning_rate: 1.0000e-05\n",
      "Epoch 109/1000\n",
      "\u001b[1m728/728\u001b[0m \u001b[32m━━━━━━━━━━━━━━━━━━━━\u001b[0m\u001b[37m\u001b[0m \u001b[1m5s\u001b[0m 7ms/step - loss: 1.9045e-04 - r2_score: 0.9801 - val_loss: 1.1874e-04 - val_r2_score: 0.9885 - learning_rate: 1.0000e-05\n",
      "Epoch 110/1000\n",
      "\u001b[1m728/728\u001b[0m \u001b[32m━━━━━━━━━━━━━━━━━━━━\u001b[0m\u001b[37m\u001b[0m \u001b[1m6s\u001b[0m 8ms/step - loss: 1.8886e-04 - r2_score: 0.9805 - val_loss: 1.1794e-04 - val_r2_score: 0.9886 - learning_rate: 1.0000e-05\n",
      "Epoch 111/1000\n",
      "\u001b[1m728/728\u001b[0m \u001b[32m━━━━━━━━━━━━━━━━━━━━\u001b[0m\u001b[37m\u001b[0m \u001b[1m5s\u001b[0m 7ms/step - loss: 1.7174e-04 - r2_score: 0.9809 - val_loss: 1.1890e-04 - val_r2_score: 0.9885 - learning_rate: 1.0000e-05\n",
      "Epoch 112/1000\n",
      "\u001b[1m728/728\u001b[0m \u001b[32m━━━━━━━━━━━━━━━━━━━━\u001b[0m\u001b[37m\u001b[0m \u001b[1m5s\u001b[0m 7ms/step - loss: 1.7942e-04 - r2_score: 0.9804 - val_loss: 1.2244e-04 - val_r2_score: 0.9881 - learning_rate: 1.0000e-05\n",
      "Epoch 113/1000\n",
      "\u001b[1m728/728\u001b[0m \u001b[32m━━━━━━━━━━━━━━━━━━━━\u001b[0m\u001b[37m\u001b[0m \u001b[1m5s\u001b[0m 7ms/step - loss: 1.9443e-04 - r2_score: 0.9798 - val_loss: 1.1746e-04 - val_r2_score: 0.9886 - learning_rate: 1.0000e-05\n",
      "Epoch 114/1000\n",
      "\u001b[1m728/728\u001b[0m \u001b[32m━━━━━━━━━━━━━━━━━━━━\u001b[0m\u001b[37m\u001b[0m \u001b[1m5s\u001b[0m 7ms/step - loss: 1.7289e-04 - r2_score: 0.9810 - val_loss: 1.1706e-04 - val_r2_score: 0.9886 - learning_rate: 1.0000e-05\n",
      "Epoch 115/1000\n",
      "\u001b[1m728/728\u001b[0m \u001b[32m━━━━━━━━━━━━━━━━━━━━\u001b[0m\u001b[37m\u001b[0m \u001b[1m4s\u001b[0m 6ms/step - loss: 1.8186e-04 - r2_score: 0.9802 - val_loss: 1.1744e-04 - val_r2_score: 0.9886 - learning_rate: 1.0000e-05\n",
      "Epoch 116/1000\n",
      "\u001b[1m728/728\u001b[0m \u001b[32m━━━━━━━━━━━━━━━━━━━━\u001b[0m\u001b[37m\u001b[0m \u001b[1m6s\u001b[0m 8ms/step - loss: 1.8044e-04 - r2_score: 0.9809 - val_loss: 1.1824e-04 - val_r2_score: 0.9885 - learning_rate: 1.0000e-05\n",
      "Epoch 117/1000\n",
      "\u001b[1m728/728\u001b[0m \u001b[32m━━━━━━━━━━━━━━━━━━━━\u001b[0m\u001b[37m\u001b[0m \u001b[1m5s\u001b[0m 6ms/step - loss: 1.9037e-04 - r2_score: 0.9794 - val_loss: 1.1808e-04 - val_r2_score: 0.9885 - learning_rate: 1.0000e-05\n",
      "Epoch 118/1000\n",
      "\u001b[1m728/728\u001b[0m \u001b[32m━━━━━━━━━━━━━━━━━━━━\u001b[0m\u001b[37m\u001b[0m \u001b[1m5s\u001b[0m 7ms/step - loss: 1.9968e-04 - r2_score: 0.9786 - val_loss: 1.1891e-04 - val_r2_score: 0.9885 - learning_rate: 1.0000e-05\n",
      "Epoch 119/1000\n",
      "\u001b[1m728/728\u001b[0m \u001b[32m━━━━━━━━━━━━━━━━━━━━\u001b[0m\u001b[37m\u001b[0m \u001b[1m5s\u001b[0m 7ms/step - loss: 1.7029e-04 - r2_score: 0.9817 - val_loss: 1.1857e-04 - val_r2_score: 0.9885 - learning_rate: 1.0000e-05\n",
      "Epoch 120/1000\n",
      "\u001b[1m728/728\u001b[0m \u001b[32m━━━━━━━━━━━━━━━━━━━━\u001b[0m\u001b[37m\u001b[0m \u001b[1m4s\u001b[0m 6ms/step - loss: 1.6872e-04 - r2_score: 0.9818 - val_loss: 1.1760e-04 - val_r2_score: 0.9886 - learning_rate: 1.0000e-05\n",
      "Epoch 121/1000\n",
      "\u001b[1m728/728\u001b[0m \u001b[32m━━━━━━━━━━━━━━━━━━━━\u001b[0m\u001b[37m\u001b[0m \u001b[1m5s\u001b[0m 7ms/step - loss: 1.8556e-04 - r2_score: 0.9801 - val_loss: 1.1823e-04 - val_r2_score: 0.9885 - learning_rate: 1.0000e-05\n",
      "Epoch 122/1000\n",
      "\u001b[1m728/728\u001b[0m \u001b[32m━━━━━━━━━━━━━━━━━━━━\u001b[0m\u001b[37m\u001b[0m \u001b[1m6s\u001b[0m 8ms/step - loss: 1.8525e-04 - r2_score: 0.9809 - val_loss: 1.1716e-04 - val_r2_score: 0.9886 - learning_rate: 1.0000e-05\n",
      "Epoch 123/1000\n",
      "\u001b[1m728/728\u001b[0m \u001b[32m━━━━━━━━━━━━━━━━━━━━\u001b[0m\u001b[37m\u001b[0m \u001b[1m5s\u001b[0m 6ms/step - loss: 1.8993e-04 - r2_score: 0.9803 - val_loss: 1.1806e-04 - val_r2_score: 0.9885 - learning_rate: 1.0000e-05\n",
      "Epoch 124/1000\n",
      "\u001b[1m728/728\u001b[0m \u001b[32m━━━━━━━━━━━━━━━━━━━━\u001b[0m\u001b[37m\u001b[0m \u001b[1m5s\u001b[0m 7ms/step - loss: 1.9586e-04 - r2_score: 0.9797 - val_loss: 1.1668e-04 - val_r2_score: 0.9887 - learning_rate: 1.0000e-05\n",
      "Epoch 125/1000\n",
      "\u001b[1m728/728\u001b[0m \u001b[32m━━━━━━━━━━━━━━━━━━━━\u001b[0m\u001b[37m\u001b[0m \u001b[1m5s\u001b[0m 7ms/step - loss: 1.7868e-04 - r2_score: 0.9806 - val_loss: 1.1721e-04 - val_r2_score: 0.9886 - learning_rate: 1.0000e-05\n",
      "Epoch 126/1000\n",
      "\u001b[1m728/728\u001b[0m \u001b[32m━━━━━━━━━━━━━━━━━━━━\u001b[0m\u001b[37m\u001b[0m \u001b[1m5s\u001b[0m 7ms/step - loss: 1.7744e-04 - r2_score: 0.9808 - val_loss: 1.1672e-04 - val_r2_score: 0.9887 - learning_rate: 1.0000e-05\n",
      "Epoch 127/1000\n",
      "\u001b[1m728/728\u001b[0m \u001b[32m━━━━━━━━━━━━━━━━━━━━\u001b[0m\u001b[37m\u001b[0m \u001b[1m5s\u001b[0m 7ms/step - loss: 1.7915e-04 - r2_score: 0.9805 - val_loss: 1.1631e-04 - val_r2_score: 0.9887 - learning_rate: 1.0000e-05\n",
      "Epoch 128/1000\n",
      "\u001b[1m728/728\u001b[0m \u001b[32m━━━━━━━━━━━━━━━━━━━━\u001b[0m\u001b[37m\u001b[0m \u001b[1m5s\u001b[0m 6ms/step - loss: 1.7467e-04 - r2_score: 0.9806 - val_loss: 1.1740e-04 - val_r2_score: 0.9886 - learning_rate: 1.0000e-05\n",
      "Epoch 129/1000\n",
      "\u001b[1m728/728\u001b[0m \u001b[32m━━━━━━━━━━━━━━━━━━━━\u001b[0m\u001b[37m\u001b[0m \u001b[1m6s\u001b[0m 8ms/step - loss: 1.7728e-04 - r2_score: 0.9804 - val_loss: 1.1787e-04 - val_r2_score: 0.9886 - learning_rate: 1.0000e-05\n",
      "Epoch 130/1000\n",
      "\u001b[1m728/728\u001b[0m \u001b[32m━━━━━━━━━━━━━━━━━━━━\u001b[0m\u001b[37m\u001b[0m \u001b[1m5s\u001b[0m 7ms/step - loss: 1.9104e-04 - r2_score: 0.9801 - val_loss: 1.1774e-04 - val_r2_score: 0.9886 - learning_rate: 1.0000e-05\n",
      "Epoch 131/1000\n",
      "\u001b[1m728/728\u001b[0m \u001b[32m━━━━━━━━━━━━━━━━━━━━\u001b[0m\u001b[37m\u001b[0m \u001b[1m6s\u001b[0m 8ms/step - loss: 1.7697e-04 - r2_score: 0.9815 - val_loss: 1.1685e-04 - val_r2_score: 0.9887 - learning_rate: 1.0000e-05\n",
      "Epoch 132/1000\n",
      "\u001b[1m728/728\u001b[0m \u001b[32m━━━━━━━━━━━━━━━━━━━━\u001b[0m\u001b[37m\u001b[0m \u001b[1m5s\u001b[0m 6ms/step - loss: 1.7400e-04 - r2_score: 0.9810 - val_loss: 1.1786e-04 - val_r2_score: 0.9886 - learning_rate: 1.0000e-05\n",
      "Epoch 133/1000\n",
      "\u001b[1m728/728\u001b[0m \u001b[32m━━━━━━━━━━━━━━━━━━━━\u001b[0m\u001b[37m\u001b[0m \u001b[1m5s\u001b[0m 7ms/step - loss: 1.7139e-04 - r2_score: 0.9811 - val_loss: 1.1609e-04 - val_r2_score: 0.9887 - learning_rate: 1.0000e-05\n",
      "Epoch 134/1000\n",
      "\u001b[1m728/728\u001b[0m \u001b[32m━━━━━━━━━━━━━━━━━━━━\u001b[0m\u001b[37m\u001b[0m \u001b[1m5s\u001b[0m 7ms/step - loss: 1.7310e-04 - r2_score: 0.9818 - val_loss: 1.1615e-04 - val_r2_score: 0.9887 - learning_rate: 1.0000e-05\n",
      "Epoch 135/1000\n",
      "\u001b[1m728/728\u001b[0m \u001b[32m━━━━━━━━━━━━━━━━━━━━\u001b[0m\u001b[37m\u001b[0m \u001b[1m8s\u001b[0m 11ms/step - loss: 1.7184e-04 - r2_score: 0.9813 - val_loss: 1.1625e-04 - val_r2_score: 0.9887 - learning_rate: 1.0000e-05\n",
      "Epoch 136/1000\n",
      "\u001b[1m728/728\u001b[0m \u001b[32m━━━━━━━━━━━━━━━━━━━━\u001b[0m\u001b[37m\u001b[0m \u001b[1m5s\u001b[0m 7ms/step - loss: 1.7841e-04 - r2_score: 0.9800 - val_loss: 1.1661e-04 - val_r2_score: 0.9887 - learning_rate: 1.0000e-05\n",
      "Epoch 137/1000\n",
      "\u001b[1m728/728\u001b[0m \u001b[32m━━━━━━━━━━━━━━━━━━━━\u001b[0m\u001b[37m\u001b[0m \u001b[1m5s\u001b[0m 7ms/step - loss: 1.8093e-04 - r2_score: 0.9803 - val_loss: 1.1743e-04 - val_r2_score: 0.9886 - learning_rate: 1.0000e-05\n",
      "Epoch 138/1000\n",
      "\u001b[1m728/728\u001b[0m \u001b[32m━━━━━━━━━━━━━━━━━━━━\u001b[0m\u001b[37m\u001b[0m \u001b[1m6s\u001b[0m 8ms/step - loss: 1.7319e-04 - r2_score: 0.9816 - val_loss: 1.1664e-04 - val_r2_score: 0.9887 - learning_rate: 1.0000e-05\n",
      "Epoch 139/1000\n",
      "\u001b[1m728/728\u001b[0m \u001b[32m━━━━━━━━━━━━━━━━━━━━\u001b[0m\u001b[37m\u001b[0m \u001b[1m6s\u001b[0m 8ms/step - loss: 1.7346e-04 - r2_score: 0.9813 - val_loss: 1.1758e-04 - val_r2_score: 0.9886 - learning_rate: 1.0000e-05\n",
      "Epoch 140/1000\n",
      "\u001b[1m728/728\u001b[0m \u001b[32m━━━━━━━━━━━━━━━━━━━━\u001b[0m\u001b[37m\u001b[0m \u001b[1m10s\u001b[0m 8ms/step - loss: 1.8370e-04 - r2_score: 0.9802 - val_loss: 1.1912e-04 - val_r2_score: 0.9884 - learning_rate: 1.0000e-05\n",
      "Epoch 141/1000\n",
      "\u001b[1m728/728\u001b[0m \u001b[32m━━━━━━━━━━━━━━━━━━━━\u001b[0m\u001b[37m\u001b[0m \u001b[1m6s\u001b[0m 8ms/step - loss: 1.8398e-04 - r2_score: 0.9804 - val_loss: 1.1724e-04 - val_r2_score: 0.9886 - learning_rate: 1.0000e-05\n",
      "Epoch 142/1000\n",
      "\u001b[1m728/728\u001b[0m \u001b[32m━━━━━━━━━━━━━━━━━━━━\u001b[0m\u001b[37m\u001b[0m \u001b[1m5s\u001b[0m 7ms/step - loss: 1.6715e-04 - r2_score: 0.9819 - val_loss: 1.1556e-04 - val_r2_score: 0.9888 - learning_rate: 1.0000e-05\n",
      "Epoch 143/1000\n",
      "\u001b[1m728/728\u001b[0m \u001b[32m━━━━━━━━━━━━━━━━━━━━\u001b[0m\u001b[37m\u001b[0m \u001b[1m5s\u001b[0m 7ms/step - loss: 1.7087e-04 - r2_score: 0.9820 - val_loss: 1.1657e-04 - val_r2_score: 0.9887 - learning_rate: 1.0000e-05\n",
      "Epoch 144/1000\n",
      "\u001b[1m728/728\u001b[0m \u001b[32m━━━━━━━━━━━━━━━━━━━━\u001b[0m\u001b[37m\u001b[0m \u001b[1m5s\u001b[0m 7ms/step - loss: 1.7347e-04 - r2_score: 0.9807 - val_loss: 1.1653e-04 - val_r2_score: 0.9887 - learning_rate: 1.0000e-05\n",
      "Epoch 145/1000\n",
      "\u001b[1m728/728\u001b[0m \u001b[32m━━━━━━━━━━━━━━━━━━━━\u001b[0m\u001b[37m\u001b[0m \u001b[1m6s\u001b[0m 8ms/step - loss: 1.6663e-04 - r2_score: 0.9813 - val_loss: 1.1654e-04 - val_r2_score: 0.9887 - learning_rate: 1.0000e-05\n",
      "Epoch 146/1000\n",
      "\u001b[1m728/728\u001b[0m \u001b[32m━━━━━━━━━━━━━━━━━━━━\u001b[0m\u001b[37m\u001b[0m \u001b[1m6s\u001b[0m 8ms/step - loss: 1.7295e-04 - r2_score: 0.9815 - val_loss: 1.1994e-04 - val_r2_score: 0.9884 - learning_rate: 1.0000e-05\n",
      "Epoch 147/1000\n",
      "\u001b[1m728/728\u001b[0m \u001b[32m━━━━━━━━━━━━━━━━━━━━\u001b[0m\u001b[37m\u001b[0m \u001b[1m5s\u001b[0m 6ms/step - loss: 1.8074e-04 - r2_score: 0.9806 - val_loss: 1.1697e-04 - val_r2_score: 0.9886 - learning_rate: 1.0000e-05\n",
      "Epoch 148/1000\n",
      "\u001b[1m728/728\u001b[0m \u001b[32m━━━━━━━━━━━━━━━━━━━━\u001b[0m\u001b[37m\u001b[0m \u001b[1m5s\u001b[0m 6ms/step - loss: 1.7518e-04 - r2_score: 0.9811 - val_loss: 1.1682e-04 - val_r2_score: 0.9887 - learning_rate: 1.0000e-05\n",
      "Epoch 149/1000\n",
      "\u001b[1m728/728\u001b[0m \u001b[32m━━━━━━━━━━━━━━━━━━━━\u001b[0m\u001b[37m\u001b[0m \u001b[1m5s\u001b[0m 7ms/step - loss: 1.6682e-04 - r2_score: 0.9817 - val_loss: 1.1672e-04 - val_r2_score: 0.9887 - learning_rate: 1.0000e-05\n",
      "Epoch 150/1000\n",
      "\u001b[1m728/728\u001b[0m \u001b[32m━━━━━━━━━━━━━━━━━━━━\u001b[0m\u001b[37m\u001b[0m \u001b[1m5s\u001b[0m 7ms/step - loss: 1.8001e-04 - r2_score: 0.9807 - val_loss: 1.1702e-04 - val_r2_score: 0.9886 - learning_rate: 1.0000e-05\n",
      "Epoch 151/1000\n",
      "\u001b[1m728/728\u001b[0m \u001b[32m━━━━━━━━━━━━━━━━━━━━\u001b[0m\u001b[37m\u001b[0m \u001b[1m5s\u001b[0m 7ms/step - loss: 1.7058e-04 - r2_score: 0.9818 - val_loss: 1.1632e-04 - val_r2_score: 0.9887 - learning_rate: 1.0000e-05\n",
      "Epoch 152/1000\n",
      "\u001b[1m728/728\u001b[0m \u001b[32m━━━━━━━━━━━━━━━━━━━━\u001b[0m\u001b[37m\u001b[0m \u001b[1m4s\u001b[0m 6ms/step - loss: 1.7734e-04 - r2_score: 0.9813 - val_loss: 1.1630e-04 - val_r2_score: 0.9887 - learning_rate: 1.0000e-05\n",
      "Epoch 153/1000\n",
      "\u001b[1m728/728\u001b[0m \u001b[32m━━━━━━━━━━━━━━━━━━━━\u001b[0m\u001b[37m\u001b[0m \u001b[1m5s\u001b[0m 7ms/step - loss: 1.7362e-04 - r2_score: 0.9819 - val_loss: 1.1562e-04 - val_r2_score: 0.9888 - learning_rate: 1.0000e-05\n",
      "Epoch 154/1000\n",
      "\u001b[1m728/728\u001b[0m \u001b[32m━━━━━━━━━━━━━━━━━━━━\u001b[0m\u001b[37m\u001b[0m \u001b[1m10s\u001b[0m 14ms/step - loss: 1.6947e-04 - r2_score: 0.9819 - val_loss: 1.1597e-04 - val_r2_score: 0.9887 - learning_rate: 1.0000e-05\n",
      "Epoch 155/1000\n",
      "\u001b[1m728/728\u001b[0m \u001b[32m━━━━━━━━━━━━━━━━━━━━\u001b[0m\u001b[37m\u001b[0m \u001b[1m13s\u001b[0m 18ms/step - loss: 1.7687e-04 - r2_score: 0.9807 - val_loss: 1.1677e-04 - val_r2_score: 0.9887 - learning_rate: 1.0000e-05\n",
      "Epoch 156/1000\n",
      "\u001b[1m728/728\u001b[0m \u001b[32m━━━━━━━━━━━━━━━━━━━━\u001b[0m\u001b[37m\u001b[0m \u001b[1m15s\u001b[0m 10ms/step - loss: 1.7372e-04 - r2_score: 0.9815 - val_loss: 1.1531e-04 - val_r2_score: 0.9888 - learning_rate: 1.0000e-05\n",
      "Epoch 157/1000\n",
      "\u001b[1m728/728\u001b[0m \u001b[32m━━━━━━━━━━━━━━━━━━━━\u001b[0m\u001b[37m\u001b[0m \u001b[1m7s\u001b[0m 9ms/step - loss: 1.7319e-04 - r2_score: 0.9810 - val_loss: 1.1769e-04 - val_r2_score: 0.9886 - learning_rate: 1.0000e-05\n",
      "Epoch 158/1000\n",
      "\u001b[1m728/728\u001b[0m \u001b[32m━━━━━━━━━━━━━━━━━━━━\u001b[0m\u001b[37m\u001b[0m \u001b[1m5s\u001b[0m 7ms/step - loss: 1.7458e-04 - r2_score: 0.9819 - val_loss: 1.1646e-04 - val_r2_score: 0.9887 - learning_rate: 1.0000e-05\n",
      "Epoch 159/1000\n",
      "\u001b[1m728/728\u001b[0m \u001b[32m━━━━━━━━━━━━━━━━━━━━\u001b[0m\u001b[37m\u001b[0m \u001b[1m6s\u001b[0m 8ms/step - loss: 1.6927e-04 - r2_score: 0.9817 - val_loss: 1.1819e-04 - val_r2_score: 0.9885 - learning_rate: 1.0000e-05\n",
      "Epoch 160/1000\n",
      "\u001b[1m728/728\u001b[0m \u001b[32m━━━━━━━━━━━━━━━━━━━━\u001b[0m\u001b[37m\u001b[0m \u001b[1m6s\u001b[0m 8ms/step - loss: 1.7115e-04 - r2_score: 0.9818 - val_loss: 1.1489e-04 - val_r2_score: 0.9888 - learning_rate: 1.0000e-05\n",
      "Epoch 161/1000\n",
      "\u001b[1m728/728\u001b[0m \u001b[32m━━━━━━━━━━━━━━━━━━━━\u001b[0m\u001b[37m\u001b[0m \u001b[1m5s\u001b[0m 7ms/step - loss: 1.7765e-04 - r2_score: 0.9813 - val_loss: 1.1526e-04 - val_r2_score: 0.9888 - learning_rate: 1.0000e-05\n",
      "Epoch 162/1000\n",
      "\u001b[1m728/728\u001b[0m \u001b[32m━━━━━━━━━━━━━━━━━━━━\u001b[0m\u001b[37m\u001b[0m \u001b[1m6s\u001b[0m 8ms/step - loss: 1.7657e-04 - r2_score: 0.9812 - val_loss: 1.1740e-04 - val_r2_score: 0.9886 - learning_rate: 1.0000e-05\n",
      "Epoch 163/1000\n",
      "\u001b[1m728/728\u001b[0m \u001b[32m━━━━━━━━━━━━━━━━━━━━\u001b[0m\u001b[37m\u001b[0m \u001b[1m6s\u001b[0m 8ms/step - loss: 1.7025e-04 - r2_score: 0.9810 - val_loss: 1.1708e-04 - val_r2_score: 0.9886 - learning_rate: 1.0000e-05\n",
      "Epoch 164/1000\n",
      "\u001b[1m728/728\u001b[0m \u001b[32m━━━━━━━━━━━━━━━━━━━━\u001b[0m\u001b[37m\u001b[0m \u001b[1m5s\u001b[0m 7ms/step - loss: 1.8202e-04 - r2_score: 0.9807 - val_loss: 1.1518e-04 - val_r2_score: 0.9888 - learning_rate: 1.0000e-05\n",
      "Epoch 165/1000\n",
      "\u001b[1m728/728\u001b[0m \u001b[32m━━━━━━━━━━━━━━━━━━━━\u001b[0m\u001b[37m\u001b[0m \u001b[1m5s\u001b[0m 7ms/step - loss: 1.8956e-04 - r2_score: 0.9800 - val_loss: 1.1508e-04 - val_r2_score: 0.9888 - learning_rate: 1.0000e-05\n",
      "Epoch 166/1000\n",
      "\u001b[1m728/728\u001b[0m \u001b[32m━━━━━━━━━━━━━━━━━━━━\u001b[0m\u001b[37m\u001b[0m \u001b[1m5s\u001b[0m 7ms/step - loss: 1.8763e-04 - r2_score: 0.9804 - val_loss: 1.1468e-04 - val_r2_score: 0.9889 - learning_rate: 1.0000e-05\n",
      "Epoch 167/1000\n",
      "\u001b[1m728/728\u001b[0m \u001b[32m━━━━━━━━━━━━━━━━━━━━\u001b[0m\u001b[37m\u001b[0m \u001b[1m5s\u001b[0m 7ms/step - loss: 1.6816e-04 - r2_score: 0.9822 - val_loss: 1.1664e-04 - val_r2_score: 0.9887 - learning_rate: 1.0000e-05\n",
      "Epoch 168/1000\n",
      "\u001b[1m728/728\u001b[0m \u001b[32m━━━━━━━━━━━━━━━━━━━━\u001b[0m\u001b[37m\u001b[0m \u001b[1m6s\u001b[0m 8ms/step - loss: 1.8356e-04 - r2_score: 0.9804 - val_loss: 1.1649e-04 - val_r2_score: 0.9887 - learning_rate: 1.0000e-05\n",
      "Epoch 169/1000\n",
      "\u001b[1m728/728\u001b[0m \u001b[32m━━━━━━━━━━━━━━━━━━━━\u001b[0m\u001b[37m\u001b[0m \u001b[1m5s\u001b[0m 7ms/step - loss: 1.7512e-04 - r2_score: 0.9809 - val_loss: 1.1453e-04 - val_r2_score: 0.9889 - learning_rate: 1.0000e-05\n",
      "Epoch 170/1000\n",
      "\u001b[1m728/728\u001b[0m \u001b[32m━━━━━━━━━━━━━━━━━━━━\u001b[0m\u001b[37m\u001b[0m \u001b[1m10s\u001b[0m 6ms/step - loss: 1.6979e-04 - r2_score: 0.9816 - val_loss: 1.1553e-04 - val_r2_score: 0.9888 - learning_rate: 1.0000e-05\n",
      "Epoch 171/1000\n",
      "\u001b[1m728/728\u001b[0m \u001b[32m━━━━━━━━━━━━━━━━━━━━\u001b[0m\u001b[37m\u001b[0m \u001b[1m6s\u001b[0m 8ms/step - loss: 1.8132e-04 - r2_score: 0.9807 - val_loss: 1.1556e-04 - val_r2_score: 0.9888 - learning_rate: 1.0000e-05\n",
      "Epoch 172/1000\n",
      "\u001b[1m728/728\u001b[0m \u001b[32m━━━━━━━━━━━━━━━━━━━━\u001b[0m\u001b[37m\u001b[0m \u001b[1m5s\u001b[0m 7ms/step - loss: 1.8426e-04 - r2_score: 0.9808 - val_loss: 1.1625e-04 - val_r2_score: 0.9887 - learning_rate: 1.0000e-05\n",
      "Epoch 173/1000\n",
      "\u001b[1m728/728\u001b[0m \u001b[32m━━━━━━━━━━━━━━━━━━━━\u001b[0m\u001b[37m\u001b[0m \u001b[1m5s\u001b[0m 7ms/step - loss: 1.8886e-04 - r2_score: 0.9801 - val_loss: 1.1546e-04 - val_r2_score: 0.9888 - learning_rate: 1.0000e-05\n",
      "Epoch 174/1000\n",
      "\u001b[1m728/728\u001b[0m \u001b[32m━━━━━━━━━━━━━━━━━━━━\u001b[0m\u001b[37m\u001b[0m \u001b[1m5s\u001b[0m 7ms/step - loss: 1.8328e-04 - r2_score: 0.9803 - val_loss: 1.1721e-04 - val_r2_score: 0.9886 - learning_rate: 1.0000e-05\n",
      "Epoch 175/1000\n",
      "\u001b[1m728/728\u001b[0m \u001b[32m━━━━━━━━━━━━━━━━━━━━\u001b[0m\u001b[37m\u001b[0m \u001b[1m6s\u001b[0m 8ms/step - loss: 1.7922e-04 - r2_score: 0.9810 - val_loss: 1.1443e-04 - val_r2_score: 0.9889 - learning_rate: 1.0000e-05\n",
      "Epoch 176/1000\n",
      "\u001b[1m728/728\u001b[0m \u001b[32m━━━━━━━━━━━━━━━━━━━━\u001b[0m\u001b[37m\u001b[0m \u001b[1m10s\u001b[0m 7ms/step - loss: 1.5837e-04 - r2_score: 0.9828 - val_loss: 1.1636e-04 - val_r2_score: 0.9887 - learning_rate: 1.0000e-05\n",
      "Epoch 177/1000\n",
      "\u001b[1m728/728\u001b[0m \u001b[32m━━━━━━━━━━━━━━━━━━━━\u001b[0m\u001b[37m\u001b[0m \u001b[1m6s\u001b[0m 7ms/step - loss: 1.7653e-04 - r2_score: 0.9813 - val_loss: 1.1527e-04 - val_r2_score: 0.9888 - learning_rate: 1.0000e-05\n",
      "Epoch 178/1000\n",
      "\u001b[1m728/728\u001b[0m \u001b[32m━━━━━━━━━━━━━━━━━━━━\u001b[0m\u001b[37m\u001b[0m \u001b[1m5s\u001b[0m 7ms/step - loss: 1.7710e-04 - r2_score: 0.9810 - val_loss: 1.1336e-04 - val_r2_score: 0.9890 - learning_rate: 1.0000e-05\n",
      "Epoch 179/1000\n",
      "\u001b[1m728/728\u001b[0m \u001b[32m━━━━━━━━━━━━━━━━━━━━\u001b[0m\u001b[37m\u001b[0m \u001b[1m5s\u001b[0m 7ms/step - loss: 1.8190e-04 - r2_score: 0.9800 - val_loss: 1.1607e-04 - val_r2_score: 0.9887 - learning_rate: 1.0000e-05\n",
      "Epoch 180/1000\n",
      "\u001b[1m728/728\u001b[0m \u001b[32m━━━━━━━━━━━━━━━━━━━━\u001b[0m\u001b[37m\u001b[0m \u001b[1m6s\u001b[0m 8ms/step - loss: 1.9048e-04 - r2_score: 0.9802 - val_loss: 1.1453e-04 - val_r2_score: 0.9889 - learning_rate: 1.0000e-05\n",
      "Epoch 181/1000\n",
      "\u001b[1m728/728\u001b[0m \u001b[32m━━━━━━━━━━━━━━━━━━━━\u001b[0m\u001b[37m\u001b[0m \u001b[1m4s\u001b[0m 6ms/step - loss: 1.8491e-04 - r2_score: 0.9803 - val_loss: 1.1542e-04 - val_r2_score: 0.9888 - learning_rate: 1.0000e-05\n",
      "Epoch 182/1000\n",
      "\u001b[1m728/728\u001b[0m \u001b[32m━━━━━━━━━━━━━━━━━━━━\u001b[0m\u001b[37m\u001b[0m \u001b[1m5s\u001b[0m 7ms/step - loss: 1.8020e-04 - r2_score: 0.9809 - val_loss: 1.1438e-04 - val_r2_score: 0.9889 - learning_rate: 1.0000e-05\n",
      "Epoch 183/1000\n",
      "\u001b[1m728/728\u001b[0m \u001b[32m━━━━━━━━━━━━━━━━━━━━\u001b[0m\u001b[37m\u001b[0m \u001b[1m5s\u001b[0m 7ms/step - loss: 1.6691e-04 - r2_score: 0.9819 - val_loss: 1.1515e-04 - val_r2_score: 0.9888 - learning_rate: 1.0000e-05\n",
      "Epoch 184/1000\n",
      "\u001b[1m728/728\u001b[0m \u001b[32m━━━━━━━━━━━━━━━━━━━━\u001b[0m\u001b[37m\u001b[0m \u001b[1m5s\u001b[0m 7ms/step - loss: 1.6713e-04 - r2_score: 0.9822 - val_loss: 1.1494e-04 - val_r2_score: 0.9888 - learning_rate: 1.0000e-05\n",
      "Epoch 185/1000\n",
      "\u001b[1m728/728\u001b[0m \u001b[32m━━━━━━━━━━━━━━━━━━━━\u001b[0m\u001b[37m\u001b[0m \u001b[1m5s\u001b[0m 7ms/step - loss: 1.6806e-04 - r2_score: 0.9817 - val_loss: 1.1467e-04 - val_r2_score: 0.9889 - learning_rate: 1.0000e-05\n",
      "Epoch 186/1000\n",
      "\u001b[1m728/728\u001b[0m \u001b[32m━━━━━━━━━━━━━━━━━━━━\u001b[0m\u001b[37m\u001b[0m \u001b[1m6s\u001b[0m 7ms/step - loss: 1.6938e-04 - r2_score: 0.9818 - val_loss: 1.1493e-04 - val_r2_score: 0.9888 - learning_rate: 1.0000e-05\n",
      "Epoch 187/1000\n",
      "\u001b[1m728/728\u001b[0m \u001b[32m━━━━━━━━━━━━━━━━━━━━\u001b[0m\u001b[37m\u001b[0m \u001b[1m5s\u001b[0m 7ms/step - loss: 1.5951e-04 - r2_score: 0.9825 - val_loss: 1.1509e-04 - val_r2_score: 0.9888 - learning_rate: 1.0000e-05\n",
      "Epoch 188/1000\n",
      "\u001b[1m728/728\u001b[0m \u001b[32m━━━━━━━━━━━━━━━━━━━━\u001b[0m\u001b[37m\u001b[0m \u001b[1m5s\u001b[0m 7ms/step - loss: 1.6670e-04 - r2_score: 0.9825 - val_loss: 1.1540e-04 - val_r2_score: 0.9888 - learning_rate: 1.0000e-05\n",
      "Epoch 189/1000\n",
      "\u001b[1m728/728\u001b[0m \u001b[32m━━━━━━━━━━━━━━━━━━━━\u001b[0m\u001b[37m\u001b[0m \u001b[1m6s\u001b[0m 8ms/step - loss: 1.6171e-04 - r2_score: 0.9825 - val_loss: 1.1431e-04 - val_r2_score: 0.9889 - learning_rate: 1.0000e-05\n",
      "Epoch 190/1000\n",
      "\u001b[1m728/728\u001b[0m \u001b[32m━━━━━━━━━━━━━━━━━━━━\u001b[0m\u001b[37m\u001b[0m \u001b[1m5s\u001b[0m 6ms/step - loss: 1.6439e-04 - r2_score: 0.9832 - val_loss: 1.1472e-04 - val_r2_score: 0.9889 - learning_rate: 1.0000e-05\n",
      "Epoch 191/1000\n",
      "\u001b[1m728/728\u001b[0m \u001b[32m━━━━━━━━━━━━━━━━━━━━\u001b[0m\u001b[37m\u001b[0m \u001b[1m8s\u001b[0m 11ms/step - loss: 1.7898e-04 - r2_score: 0.9809 - val_loss: 1.1489e-04 - val_r2_score: 0.9888 - learning_rate: 1.0000e-05\n",
      "Epoch 192/1000\n",
      "\u001b[1m728/728\u001b[0m \u001b[32m━━━━━━━━━━━━━━━━━━━━\u001b[0m\u001b[37m\u001b[0m \u001b[1m5s\u001b[0m 7ms/step - loss: 1.8435e-04 - r2_score: 0.9796 - val_loss: 1.1433e-04 - val_r2_score: 0.9889 - learning_rate: 1.0000e-05\n",
      "Epoch 193/1000\n",
      "\u001b[1m728/728\u001b[0m \u001b[32m━━━━━━━━━━━━━━━━━━━━\u001b[0m\u001b[37m\u001b[0m \u001b[1m6s\u001b[0m 8ms/step - loss: 1.8413e-04 - r2_score: 0.9806 - val_loss: 1.1509e-04 - val_r2_score: 0.9888 - learning_rate: 1.0000e-05\n",
      "Epoch 194/1000\n",
      "\u001b[1m728/728\u001b[0m \u001b[32m━━━━━━━━━━━━━━━━━━━━\u001b[0m\u001b[37m\u001b[0m \u001b[1m6s\u001b[0m 9ms/step - loss: 1.7019e-04 - r2_score: 0.9822 - val_loss: 1.1439e-04 - val_r2_score: 0.9889 - learning_rate: 1.0000e-05\n",
      "Epoch 195/1000\n",
      "\u001b[1m728/728\u001b[0m \u001b[32m━━━━━━━━━━━━━━━━━━━━\u001b[0m\u001b[37m\u001b[0m \u001b[1m5s\u001b[0m 7ms/step - loss: 1.5910e-04 - r2_score: 0.9831 - val_loss: 1.1489e-04 - val_r2_score: 0.9888 - learning_rate: 1.0000e-05\n",
      "Epoch 196/1000\n",
      "\u001b[1m728/728\u001b[0m \u001b[32m━━━━━━━━━━━━━━━━━━━━\u001b[0m\u001b[37m\u001b[0m \u001b[1m5s\u001b[0m 7ms/step - loss: 1.7195e-04 - r2_score: 0.9819 - val_loss: 1.1366e-04 - val_r2_score: 0.9890 - learning_rate: 1.0000e-05\n",
      "Epoch 197/1000\n",
      "\u001b[1m728/728\u001b[0m \u001b[32m━━━━━━━━━━━━━━━━━━━━\u001b[0m\u001b[37m\u001b[0m \u001b[1m6s\u001b[0m 8ms/step - loss: 1.9117e-04 - r2_score: 0.9794 - val_loss: 1.1637e-04 - val_r2_score: 0.9887 - learning_rate: 1.0000e-05\n",
      "Epoch 198/1000\n",
      "\u001b[1m728/728\u001b[0m \u001b[32m━━━━━━━━━━━━━━━━━━━━\u001b[0m\u001b[37m\u001b[0m \u001b[1m5s\u001b[0m 7ms/step - loss: 1.6739e-04 - r2_score: 0.9825 - val_loss: 1.1447e-04 - val_r2_score: 0.9889 - learning_rate: 1.0000e-05\n"
     ]
    },
    {
     "data": {
      "text/plain": [
       "<keras.src.callbacks.history.History at 0x1a5b74eec90>"
      ]
     },
     "execution_count": 170,
     "metadata": {},
     "output_type": "execute_result"
    }
   ],
   "source": [
    "reduce_lr = tf.keras.callbacks.ReduceLROnPlateau(monitor='val_loss', factor=0.1, patience=10, min_lr=0.00001, verbose=1)\n",
    "early_stopping =  tf.keras.callbacks.EarlyStopping(monitor='val_loss',patience=20, restore_best_weights=True )\n",
    "\n",
    "modellstm.fit(X_train, y_train, epochs=1000,  batch_size= 25,  validation_data=(X_test, y_test), callbacks=[reduce_lr, early_stopping]) #"
   ]
  },
  {
   "cell_type": "code",
   "execution_count": 318,
   "metadata": {},
   "outputs": [],
   "source": [
    "modellstm.save('modeloLSTM.keras')"
   ]
  },
  {
   "cell_type": "markdown",
   "metadata": {},
   "source": [
    "<h3 style=color:red>Carregar modelo</h3>"
   ]
  },
  {
   "cell_type": "code",
   "execution_count": 55,
   "metadata": {},
   "outputs": [],
   "source": [
    "modelGRU = tf.keras.models.load_model('modeloGRU.keras')\n",
    "modellstm = tf.keras.models.load_model('modeloLSTM.keras')"
   ]
  },
  {
   "cell_type": "markdown",
   "metadata": {},
   "source": [
    "<h4>Avaliação dos modelos com os dados de teste</h4>\n",
    "<p>Usando as valores da MAE, MSE e R²</p>"
   ]
  },
  {
   "cell_type": "code",
   "execution_count": 56,
   "metadata": {},
   "outputs": [
    {
     "name": "stdout",
     "output_type": "stream",
     "text": [
      "\u001b[1m143/143\u001b[0m \u001b[32m━━━━━━━━━━━━━━━━━━━━\u001b[0m\u001b[37m\u001b[0m \u001b[1m2s\u001b[0m 8ms/step\n",
      "\u001b[1m143/143\u001b[0m \u001b[32m━━━━━━━━━━━━━━━━━━━━\u001b[0m\u001b[37m\u001b[0m \u001b[1m1s\u001b[0m 6ms/step\n"
     ]
    }
   ],
   "source": [
    "previstoGRU = modelGRU.predict(X_test)\n",
    "previstoLSTM = modellstm.predict(X_test)"
   ]
  },
  {
   "cell_type": "code",
   "execution_count": 57,
   "metadata": {},
   "outputs": [],
   "source": [
    "#importanções\n",
    "\n",
    "from sklearn.metrics import mean_absolute_error, mean_squared_error, r2_score"
   ]
  },
  {
   "cell_type": "code",
   "execution_count": 58,
   "metadata": {},
   "outputs": [
    {
     "name": "stdout",
     "output_type": "stream",
     "text": [
      "Métricas do modelo MAE:0.006814596726932036, MSE:0.00020266922402844488 e R²:0.9901627265869777\n"
     ]
    }
   ],
   "source": [
    "maeGRU = mean_absolute_error(y_test, previstoGRU)\n",
    "mseGRU = mean_squared_error(y_test, previstoGRU)\n",
    "rscoreGRU = r2_score(y_test, previstoGRU)\n",
    "\n",
    "print(f'Métricas do modelo MAE:{maeGRU}, MSE:{mseGRU} e R²:{rscoreGRU}')"
   ]
  },
  {
   "cell_type": "code",
   "execution_count": 59,
   "metadata": {},
   "outputs": [
    {
     "name": "stdout",
     "output_type": "stream",
     "text": [
      "Métricas do modelo MAE:0.008281251994840474, MSE:0.00022672394291751852 e R²:0.9889951450376843\n"
     ]
    }
   ],
   "source": [
    "maelstm = mean_absolute_error(y_test, previstoLSTM)\n",
    "mselatm = mean_squared_error(y_test, previstoLSTM)\n",
    "rscorelstm= r2_score(y_test, previstoLSTM)\n",
    "\n",
    "print(f'Métricas do modelo MAE:{maelstm}, MSE:{mselatm} e R²:{rscorelstm}')"
   ]
  },
  {
   "cell_type": "markdown",
   "metadata": {},
   "source": [
    "<p>Os valores do MAE e MSE ficaram bem baixos indicando que exite um erro bem baixo. Outro ponto é que o R² ficou bem próximo de 1 indicando que tanto o modelo de GRU e LSTM conseguiram fazer a regreção para os dados reais</p>\n",
    "\n",
    "<p>Podemos plotar gráficos usando os dados simulados e os reais para ficar melhor a vizualização de como o modelo está se comportando</p>"
   ]
  },
  {
   "cell_type": "code",
   "execution_count": 60,
   "metadata": {},
   "outputs": [],
   "source": [
    "irr = 1000\n",
    "tmp = 40\n",
    "tensao = np.arange(0.0, 0.65, 0.01)\n",
    "irradiacao = np.full(tensao.shape[0], irr)\n",
    "temperatura = np.full(tensao.shape[0], tmp)"
   ]
  },
  {
   "cell_type": "code",
   "execution_count": 61,
   "metadata": {},
   "outputs": [],
   "source": [
    "dados = {\n",
    "    'Tensão(V)':tensao,\n",
    "    'Irradiação':irradiacao,\n",
    "    'Temperatura':temperatura\n",
    "}"
   ]
  },
  {
   "cell_type": "code",
   "execution_count": 62,
   "metadata": {},
   "outputs": [],
   "source": [
    "dff_teste = pd.DataFrame(dados) #Tensão(V)\tIrradiação\tTemperatura"
   ]
  },
  {
   "cell_type": "code",
   "execution_count": 63,
   "metadata": {},
   "outputs": [
    {
     "data": {
      "text/html": [
       "<div>\n",
       "<style scoped>\n",
       "    .dataframe tbody tr th:only-of-type {\n",
       "        vertical-align: middle;\n",
       "    }\n",
       "\n",
       "    .dataframe tbody tr th {\n",
       "        vertical-align: top;\n",
       "    }\n",
       "\n",
       "    .dataframe thead th {\n",
       "        text-align: right;\n",
       "    }\n",
       "</style>\n",
       "<table border=\"1\" class=\"dataframe\">\n",
       "  <thead>\n",
       "    <tr style=\"text-align: right;\">\n",
       "      <th></th>\n",
       "      <th>Tensão(V)</th>\n",
       "      <th>Irradiação</th>\n",
       "      <th>Temperatura</th>\n",
       "    </tr>\n",
       "  </thead>\n",
       "  <tbody>\n",
       "    <tr>\n",
       "      <th>0</th>\n",
       "      <td>0.00</td>\n",
       "      <td>1000</td>\n",
       "      <td>40</td>\n",
       "    </tr>\n",
       "    <tr>\n",
       "      <th>1</th>\n",
       "      <td>0.01</td>\n",
       "      <td>1000</td>\n",
       "      <td>40</td>\n",
       "    </tr>\n",
       "    <tr>\n",
       "      <th>2</th>\n",
       "      <td>0.02</td>\n",
       "      <td>1000</td>\n",
       "      <td>40</td>\n",
       "    </tr>\n",
       "    <tr>\n",
       "      <th>3</th>\n",
       "      <td>0.03</td>\n",
       "      <td>1000</td>\n",
       "      <td>40</td>\n",
       "    </tr>\n",
       "    <tr>\n",
       "      <th>4</th>\n",
       "      <td>0.04</td>\n",
       "      <td>1000</td>\n",
       "      <td>40</td>\n",
       "    </tr>\n",
       "  </tbody>\n",
       "</table>\n",
       "</div>"
      ],
      "text/plain": [
       "   Tensão(V)  Irradiação  Temperatura\n",
       "0       0.00        1000           40\n",
       "1       0.01        1000           40\n",
       "2       0.02        1000           40\n",
       "3       0.03        1000           40\n",
       "4       0.04        1000           40"
      ]
     },
     "execution_count": 63,
     "metadata": {},
     "output_type": "execute_result"
    }
   ],
   "source": [
    "dff_teste.head()"
   ]
  },
  {
   "cell_type": "code",
   "execution_count": 64,
   "metadata": {},
   "outputs": [],
   "source": [
    "#normlizindo\n",
    "dff_testeNorm = normalizador.transform(dff_teste)"
   ]
  },
  {
   "cell_type": "code",
   "execution_count": 65,
   "metadata": {},
   "outputs": [],
   "source": [
    "previstoTesteGRU = modelGRU(dff_testeNorm)\n",
    "previstoTesteLSTM = modellstm(dff_testeNorm)"
   ]
  },
  {
   "cell_type": "markdown",
   "metadata": {},
   "source": [
    "<p>Como foram obtidas dez medições, ecolhei fazer a médias dessas dez medições como o dados real.</p>"
   ]
  },
  {
   "cell_type": "code",
   "execution_count": 66,
   "metadata": {},
   "outputs": [],
   "source": [
    "gp = dff.groupby(['Irradiação','Temperatura', 'Tensão(V)'])\n",
    "gp = gp[\"Corrente(A)\"].mean().reset_index()"
   ]
  },
  {
   "cell_type": "code",
   "execution_count": 67,
   "metadata": {},
   "outputs": [],
   "source": [
    "dff_teste['Corrente(A)'] = gp.loc[gp['Irradiação']==irr].loc[gp['Temperatura']==tmp]['Corrente(A)'].values"
   ]
  },
  {
   "cell_type": "code",
   "execution_count": 68,
   "metadata": {},
   "outputs": [],
   "source": [
    "# atribuido os dados obtidos do modelo usando GRU e LSTM\n",
    "dff_teste['CorrenteGRU(A)'] = alvoNorm.inverse_transform(previstoTesteGRU)\n",
    "dff_teste['CorrenteLSTM(A)'] = alvoNorm.inverse_transform(previstoTesteLSTM)\n"
   ]
  },
  {
   "cell_type": "code",
   "execution_count": 69,
   "metadata": {},
   "outputs": [],
   "source": [
    "#Set dados de tensão como index \n",
    "dff_teste.set_index('Tensão(V)', inplace=True)"
   ]
  },
  {
   "cell_type": "code",
   "execution_count": 70,
   "metadata": {},
   "outputs": [
    {
     "data": {
      "text/plain": [
       "Text(0, 0.5, 'Corrente(A)')"
      ]
     },
     "execution_count": 70,
     "metadata": {},
     "output_type": "execute_result"
    },
    {
     "data": {
      "image/png": "[encoded data removed]",
      "text/plain": [
       "<Figure size 640x480 with 1 Axes>"
      ]
     },
     "metadata": {},
     "output_type": "display_data"
    }
   ],
   "source": [
    "fig, ax = plt.subplots()\n",
    "\n",
    "ax.plot(dff_teste['Corrente(A)'], label = 'Dados Reais')\n",
    "ax.plot(dff_teste['CorrenteGRU(A)'], label = 'Dados obtidos GRU')\n",
    "ax.plot(dff_teste['CorrenteLSTM(A)'], label = 'Dados obtidos LSTM')\n",
    "\n",
    "ax.legend(bbox_to_anchor=(1.05, 1), loc='upper left')\n",
    "\n",
    "ax.set_title(f'Comparação entre dados reais e simulados para irradiação {irr} e temperatura {tmp}')\n",
    "ax.set_xlabel('Tensão(V)')\n",
    "ax.set_ylabel('Corrente(A)') \n"
   ]
  },
  {
   "cell_type": "markdown",
   "metadata": {},
   "source": [
    "<h4>o modelo se ajustou bem próximos aos dados reais em alguns dados os modelo LSTM se performou melhor e em outros o modelo GRU foi melhor</h4>"
   ]
  },
  {
   "cell_type": "code",
   "execution_count": 71,
   "metadata": {},
   "outputs": [],
   "source": [
    "def SimularCurvas(irr, tmp):\n",
    "\n",
    "    global modelGRU, modellstm, normalizador, alvoNorm\n",
    "\n",
    "    tensao = np.arange(0.0, 0.65, 0.01)\n",
    "    irradiacao = np.full(tensao.shape[0], irr)\n",
    "    temperatura = np.full(tensao.shape[0], tmp)\n",
    "\n",
    "    dados = {\n",
    "        'Tensão(V)':tensao,\n",
    "        'Irradiação':irradiacao,\n",
    "        'Temperatura':temperatura\n",
    "    }\n",
    "\n",
    "    dff_teste = pd.DataFrame(dados) #Tensão(V)\tIrradiação\tTemperatura\n",
    "    dff_testeNorm = normalizador.transform(dff_teste)\n",
    "\n",
    "    previstoTesteGRU = modelGRU(dff_testeNorm)\n",
    "    previstoTesteLSTM = modellstm(dff_testeNorm)\n",
    "\n",
    "    dff_teste['CorrenteGRU(A)'] = alvoNorm.inverse_transform(previstoTesteGRU)\n",
    "    dff_teste['CorrenteLSTM(A)'] = alvoNorm.inverse_transform(previstoTesteLSTM)\n",
    "\n",
    "    dff_teste.set_index('Tensão(V)', inplace=True)\n",
    "\n",
    "    fig, ax = plt.subplots()\n",
    "\n",
    "    # ax.plot(dff_teste['Corrente(A)'], label = 'Dados Reais')\n",
    "    ax.plot(dff_teste['CorrenteGRU(A)'], label = 'Dados obtidos GRU')\n",
    "    ax.plot(dff_teste['CorrenteLSTM(A)'], label = 'Dados obtidos LSTM')\n",
    "\n",
    "    ax.legend(bbox_to_anchor=(1.05, 1), loc='upper left')\n",
    "\n",
    "    ax.set_title(f'Comparação entre dados reais e simulados para irradiação {irr} e temperatura {tmp}')\n",
    "    ax.set_xlabel('Tensão(V)')\n",
    "    ax.set_ylabel('Corrente(A)') \n"
   ]
  },
  {
   "cell_type": "markdown",
   "metadata": {},
   "source": [
    "<P>Como o modelo treinado e testando podemos simular alguns valores de irradiação e temperatura</p>\n",
    "<ol>\n",
    "    <li>1100; 45</li>\n",
    "    <li>1500; 65</li>\n",
    "    <li>950; 10</li>\n",
    "    <li>100; 40</li>\n",
    "</ol>"
   ]
  },
  {
   "cell_type": "code",
   "execution_count": 77,
   "metadata": {},
   "outputs": [
    {
     "data": {
      "image/png": "[encoded data removed]",
      "text/plain": [
       "<Figure size 640x480 with 1 Axes>"
      ]
     },
     "metadata": {},
     "output_type": "display_data"
    }
   ],
   "source": [
    "SimularCurvas(1100, 45)"
   ]
  },
  {
   "cell_type": "code",
   "execution_count": 332,
   "metadata": {},
   "outputs": [
    {
     "data": {
      "image/png": "[encoded data removed]",
      "text/plain": [
       "<Figure size 640x480 with 1 Axes>"
      ]
     },
     "metadata": {},
     "output_type": "display_data"
    }
   ],
   "source": [
    "SimularCurvas(1500, 65)"
   ]
  },
  {
   "cell_type": "code",
   "execution_count": 78,
   "metadata": {},
   "outputs": [
    {
     "data": {
      "image/png": "[encoded data removed]",
      "text/plain": [
       "<Figure size 640x480 with 1 Axes>"
      ]
     },
     "metadata": {},
     "output_type": "display_data"
    }
   ],
   "source": [
    "SimularCurvas(950, 10)"
   ]
  },
  {
   "cell_type": "code",
   "execution_count": 317,
   "metadata": {},
   "outputs": [
    {
     "data": {
      "image/png": "[encoded data removed]",
      "text/plain": [
       "<Figure size 640x480 with 1 Axes>"
      ]
     },
     "metadata": {},
     "output_type": "display_data"
    }
   ],
   "source": [
    "SimularCurvas(100, 40)"
   ]
  },
  {
   "cell_type": "markdown",
   "metadata": {},
   "source": [
    "<h4>podemos simular a curvas IV para varios cenários de temperaturas e irradiação</ha>"
   ]
  },
  {
   "cell_type": "code",
   "execution_count": null,
   "metadata": {},
   "outputs": [],
   "source": []
  }
 ],
 "metadata": {
  "kernelspec": {
   "display_name": "venv-sun",
   "language": "python",
   "name": "python3"
  },
  "language_info": {
   "codemirror_mode": {
    "name": "ipython",
    "version": 3
   },
   "file_extension": ".py",
   "mimetype": "text/x-python",
   "name": "python",
   "nbconvert_exporter": "python",
   "pygments_lexer": "ipython3",
   "version": "3.11.5"
  }
 },
 "nbformat": 4,
 "nbformat_minor": 2
}
